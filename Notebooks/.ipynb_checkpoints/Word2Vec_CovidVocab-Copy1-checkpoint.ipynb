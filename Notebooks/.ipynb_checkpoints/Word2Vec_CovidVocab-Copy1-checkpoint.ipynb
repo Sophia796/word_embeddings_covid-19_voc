{
 "cells": [
  {
   "cell_type": "markdown",
   "metadata": {
    "id": "Oq24UvixibZR"
   },
   "source": [
    "# Covid-19-Wörter vor und nach Covid-19 - eine Untersuchung mit Word2Vec"
   ]
  },
  {
   "cell_type": "markdown",
   "metadata": {},
   "source": [
    "#### Lemmas\n",
    "- Abstandsregel\n",
    "- Corona\n",
    "- Maske\n",
    "- Kontaktverbot\n",
    "- Querdenker"
   ]
  },
  {
   "cell_type": "markdown",
   "metadata": {
    "id": "5FQnxIrfibZf"
   },
   "source": [
    "## Importe und Datenvorbereitung"
   ]
  },
  {
   "cell_type": "code",
   "execution_count": 1,
   "metadata": {
    "colab": {
     "base_uri": "https://localhost:8080/"
    },
    "id": "YIZS463EibZh",
    "outputId": "d8d8fe3f-70be-4322-a081-ba1b02ef7f2f"
   },
   "outputs": [],
   "source": [
    "import codecs\n",
    "import matplotlib.pyplot as plt\n",
    "import nltk\n",
    "import numpy as np\n",
    "import os\n",
    "import pandas as pd\n",
    "import re\n",
    "import scipy\n",
    "import seaborn as sns\n",
    "import spacy\n",
    "import statistics \n",
    "\n",
    "from gensim.models import KeyedVectors\n",
    "from gensim.models import Word2Vec\n",
    "from gensim.models.phrases import Phraser, Phrases\n",
    "from joblib import Parallel, delayed  \n",
    "from nltk.corpus import stopwords\n",
    "from scipy import spatial\n",
    "from sklearn.manifold import TSNE\n",
    "from tabulate import tabulate"
   ]
  },
  {
   "cell_type": "code",
   "execution_count": 2,
   "metadata": {
    "colab": {
     "base_uri": "https://localhost:8080/"
    },
    "id": "Bjlyp7Bjiu60",
    "outputId": "83b51d0b-4222-48c0-ecb3-a6a2d926c0ae",
    "scrolled": true
   },
   "outputs": [],
   "source": [
    "nlp = spacy.load('de_core_news_md')\n",
    "stopwords = stopwords.words('german')\n",
    "tokenizer = nltk.data.load('tokenizers/punkt/german.pickle')"
   ]
  },
  {
   "cell_type": "markdown",
   "metadata": {},
   "source": [
    "#### Korpus laden, vorbereiten und teilen"
   ]
  },
  {
   "cell_type": "code",
   "execution_count": 3,
   "metadata": {
    "colab": {
     "base_uri": "https://localhost:8080/",
     "height": 319
    },
    "id": "QaI8RPMJibZj",
    "outputId": "7a4e7af2-20e5-4048-a2b1-341f8c0a8568"
   },
   "outputs": [
    {
     "data": {
      "text/html": [
       "<div>\n",
       "<style scoped>\n",
       "    .dataframe tbody tr th:only-of-type {\n",
       "        vertical-align: middle;\n",
       "    }\n",
       "\n",
       "    .dataframe tbody tr th {\n",
       "        vertical-align: top;\n",
       "    }\n",
       "\n",
       "    .dataframe thead th {\n",
       "        text-align: right;\n",
       "    }\n",
       "</style>\n",
       "<table border=\"1\" class=\"dataframe\">\n",
       "  <thead>\n",
       "    <tr style=\"text-align: right;\">\n",
       "      <th></th>\n",
       "      <th>Corpus</th>\n",
       "      <th>Date</th>\n",
       "      <th>Genre</th>\n",
       "      <th>Bibl</th>\n",
       "      <th>ContextBefore</th>\n",
       "      <th>Hit</th>\n",
       "      <th>ContextAfter</th>\n",
       "    </tr>\n",
       "  </thead>\n",
       "  <tbody>\n",
       "    <tr>\n",
       "      <th>0</th>\n",
       "      <td>saar_regional</td>\n",
       "      <td>1993-02-01</td>\n",
       "      <td>Zeitung</td>\n",
       "      <td>Saarbrücker Zeitung, 01.02.1993</td>\n",
       "      <td>Filmprogramme Neunkirchen.</td>\n",
       "      <td>Corona 1: \"Bodyguard\" 15.30, 17.45, 20.15 Uhr.</td>\n",
       "      <td>Corona 2: \"Whoopi Sister act, eine himmlische ...</td>\n",
       "    </tr>\n",
       "    <tr>\n",
       "      <th>1</th>\n",
       "      <td>saar_regional</td>\n",
       "      <td>1993-02-01</td>\n",
       "      <td>Zeitung</td>\n",
       "      <td>Saarbrücker Zeitung, 01.02.1993</td>\n",
       "      <td>NaN</td>\n",
       "      <td>Von der farbkräftigen Maske (Venezianischer Tr...</td>\n",
       "      <td>NaN</td>\n",
       "    </tr>\n",
       "    <tr>\n",
       "      <th>2</th>\n",
       "      <td>saar_regional</td>\n",
       "      <td>1993-02-01</td>\n",
       "      <td>Zeitung</td>\n",
       "      <td>Saarbrücker Zeitung, 01.02.1993</td>\n",
       "      <td>Corona 1: \"Bodyguard\" 15.30, 17.45, 20.15 Uhr.</td>\n",
       "      <td>Corona 2: \"Whoopi Sister act, eine himmlische ...</td>\n",
       "      <td>Burg 1:15.15, 17.45 und 20.15 Uhr \"Der letzte ...</td>\n",
       "    </tr>\n",
       "    <tr>\n",
       "      <th>3</th>\n",
       "      <td>saar_regional</td>\n",
       "      <td>1993-02-03</td>\n",
       "      <td>Zeitung</td>\n",
       "      <td>Saarbrücker Zeitung, 03.02.1993</td>\n",
       "      <td>Corona 1: \"Bodyguard\" 15.30, 17.45, 20.15 Uhr.</td>\n",
       "      <td>Corona 2: \"Whoopi Sister act, eine himmlische ...</td>\n",
       "      <td>Burg 1:15.15, 17.45 und 20.15 Uhr \"Der letzte ...</td>\n",
       "    </tr>\n",
       "    <tr>\n",
       "      <th>4</th>\n",
       "      <td>saar_regional</td>\n",
       "      <td>1993-02-03</td>\n",
       "      <td>Zeitung</td>\n",
       "      <td>Saarbrücker Zeitung, 03.02.1993</td>\n",
       "      <td>Filmprogramme Neunkirchen.</td>\n",
       "      <td>Corona 1: \"Bodyguard\" 15.30, 17.45, 20.15 Uhr.</td>\n",
       "      <td>Corona 2: \"Whoopi Sister act, eine himmlische ...</td>\n",
       "    </tr>\n",
       "  </tbody>\n",
       "</table>\n",
       "</div>"
      ],
      "text/plain": [
       "          Corpus        Date    Genre                             Bibl  \\\n",
       "0  saar_regional  1993-02-01  Zeitung  Saarbrücker Zeitung, 01.02.1993   \n",
       "1  saar_regional  1993-02-01  Zeitung  Saarbrücker Zeitung, 01.02.1993   \n",
       "2  saar_regional  1993-02-01  Zeitung  Saarbrücker Zeitung, 01.02.1993   \n",
       "3  saar_regional  1993-02-03  Zeitung  Saarbrücker Zeitung, 03.02.1993   \n",
       "4  saar_regional  1993-02-03  Zeitung  Saarbrücker Zeitung, 03.02.1993   \n",
       "\n",
       "                                    ContextBefore  \\\n",
       "0                      Filmprogramme Neunkirchen.   \n",
       "1                                             NaN   \n",
       "2  Corona 1: \"Bodyguard\" 15.30, 17.45, 20.15 Uhr.   \n",
       "3  Corona 1: \"Bodyguard\" 15.30, 17.45, 20.15 Uhr.   \n",
       "4                      Filmprogramme Neunkirchen.   \n",
       "\n",
       "                                                 Hit  \\\n",
       "0     Corona 1: \"Bodyguard\" 15.30, 17.45, 20.15 Uhr.   \n",
       "1  Von der farbkräftigen Maske (Venezianischer Tr...   \n",
       "2  Corona 2: \"Whoopi Sister act, eine himmlische ...   \n",
       "3  Corona 2: \"Whoopi Sister act, eine himmlische ...   \n",
       "4     Corona 1: \"Bodyguard\" 15.30, 17.45, 20.15 Uhr.   \n",
       "\n",
       "                                        ContextAfter  \n",
       "0  Corona 2: \"Whoopi Sister act, eine himmlische ...  \n",
       "1                                                NaN  \n",
       "2  Burg 1:15.15, 17.45 und 20.15 Uhr \"Der letzte ...  \n",
       "3  Burg 1:15.15, 17.45 und 20.15 Uhr \"Der letzte ...  \n",
       "4  Corona 2: \"Whoopi Sister act, eine himmlische ...  "
      ]
     },
     "execution_count": 3,
     "metadata": {},
     "output_type": "execute_result"
    }
   ],
   "source": [
    "# die Datei enthält alle Treffer der oben genannten Lemmas im ZDL-Regionalkorpus des DWDS \n",
    "# mit jeweils einem Satz Kontext davor und danach\n",
    "\n",
    "df = pd.read_csv('../data/covid-vocab_1993-2021.csv', sep=',', encoding='utf-8')\n",
    "df.head()"
   ]
  },
  {
   "cell_type": "code",
   "execution_count": 4,
   "metadata": {},
   "outputs": [],
   "source": [
    "# NaN durch Whitespace ersetzen\n",
    "\n",
    "df = df.fillna(' ')"
   ]
  },
  {
   "cell_type": "code",
   "execution_count": 5,
   "metadata": {},
   "outputs": [],
   "source": [
    "# Wörter, die mit [...] anfangen löschen\n",
    "\n",
    "expression = '\\[...]\\w*'\n",
    "df = df.replace(to_replace = expression, value = ' ', regex=True)"
   ]
  },
  {
   "cell_type": "code",
   "execution_count": 6,
   "metadata": {},
   "outputs": [],
   "source": [
    "# bevor die Spalten verbunden werden: Whitespace einfügen, um ein Aneinanderkleben der Wörter zu verhindern\n",
    "\n",
    "df['ContextBefore'] = df['ContextBefore'].astype(str) + ' '\n",
    "df['ContextAfter'] = ' ' + df['ContextAfter'].astype(str) "
   ]
  },
  {
   "cell_type": "code",
   "execution_count": 7,
   "metadata": {},
   "outputs": [
    {
     "data": {
      "text/html": [
       "<div>\n",
       "<style scoped>\n",
       "    .dataframe tbody tr th:only-of-type {\n",
       "        vertical-align: middle;\n",
       "    }\n",
       "\n",
       "    .dataframe tbody tr th {\n",
       "        vertical-align: top;\n",
       "    }\n",
       "\n",
       "    .dataframe thead th {\n",
       "        text-align: right;\n",
       "    }\n",
       "</style>\n",
       "<table border=\"1\" class=\"dataframe\">\n",
       "  <thead>\n",
       "    <tr style=\"text-align: right;\">\n",
       "      <th></th>\n",
       "      <th>Corpus</th>\n",
       "      <th>Date</th>\n",
       "      <th>Genre</th>\n",
       "      <th>Bibl</th>\n",
       "      <th>ContextBefore</th>\n",
       "      <th>Hit</th>\n",
       "      <th>ContextAfter</th>\n",
       "      <th>Text</th>\n",
       "    </tr>\n",
       "  </thead>\n",
       "  <tbody>\n",
       "    <tr>\n",
       "      <th>0</th>\n",
       "      <td>saar_regional</td>\n",
       "      <td>1993-02-01</td>\n",
       "      <td>Zeitung</td>\n",
       "      <td>Saarbrücker Zeitung, 01.02.1993</td>\n",
       "      <td>Filmprogramme Neunkirchen.</td>\n",
       "      <td>Corona 1: \"Bodyguard\" 15.30, 17.45, 20.15 Uhr.</td>\n",
       "      <td>Corona 2: \"Whoopi Sister act, eine himmlische...</td>\n",
       "      <td>Filmprogramme Neunkirchen. Corona 1: \"Bodyguar...</td>\n",
       "    </tr>\n",
       "    <tr>\n",
       "      <th>1</th>\n",
       "      <td>saar_regional</td>\n",
       "      <td>1993-02-01</td>\n",
       "      <td>Zeitung</td>\n",
       "      <td>Saarbrücker Zeitung, 01.02.1993</td>\n",
       "      <td></td>\n",
       "      <td>Von der farbkräftigen Maske (Venezianischer Tr...</td>\n",
       "      <td></td>\n",
       "      <td>Von der farbkräftigen Maske (Venezianischer ...</td>\n",
       "    </tr>\n",
       "    <tr>\n",
       "      <th>2</th>\n",
       "      <td>saar_regional</td>\n",
       "      <td>1993-02-01</td>\n",
       "      <td>Zeitung</td>\n",
       "      <td>Saarbrücker Zeitung, 01.02.1993</td>\n",
       "      <td>Corona 1: \"Bodyguard\" 15.30, 17.45, 20.15 Uhr.</td>\n",
       "      <td>Corona 2: \"Whoopi Sister act, eine himmlische ...</td>\n",
       "      <td>Burg 1:15.15, 17.45 und 20.15 Uhr \"Der letzte...</td>\n",
       "      <td>Corona 1: \"Bodyguard\" 15.30, 17.45, 20.15 Uhr....</td>\n",
       "    </tr>\n",
       "    <tr>\n",
       "      <th>3</th>\n",
       "      <td>saar_regional</td>\n",
       "      <td>1993-02-03</td>\n",
       "      <td>Zeitung</td>\n",
       "      <td>Saarbrücker Zeitung, 03.02.1993</td>\n",
       "      <td>Corona 1: \"Bodyguard\" 15.30, 17.45, 20.15 Uhr.</td>\n",
       "      <td>Corona 2: \"Whoopi Sister act, eine himmlische ...</td>\n",
       "      <td>Burg 1:15.15, 17.45 und 20.15 Uhr \"Der letzte...</td>\n",
       "      <td>Corona 1: \"Bodyguard\" 15.30, 17.45, 20.15 Uhr....</td>\n",
       "    </tr>\n",
       "    <tr>\n",
       "      <th>4</th>\n",
       "      <td>saar_regional</td>\n",
       "      <td>1993-02-03</td>\n",
       "      <td>Zeitung</td>\n",
       "      <td>Saarbrücker Zeitung, 03.02.1993</td>\n",
       "      <td>Filmprogramme Neunkirchen.</td>\n",
       "      <td>Corona 1: \"Bodyguard\" 15.30, 17.45, 20.15 Uhr.</td>\n",
       "      <td>Corona 2: \"Whoopi Sister act, eine himmlische...</td>\n",
       "      <td>Filmprogramme Neunkirchen. Corona 1: \"Bodyguar...</td>\n",
       "    </tr>\n",
       "  </tbody>\n",
       "</table>\n",
       "</div>"
      ],
      "text/plain": [
       "          Corpus        Date    Genre                             Bibl  \\\n",
       "0  saar_regional  1993-02-01  Zeitung  Saarbrücker Zeitung, 01.02.1993   \n",
       "1  saar_regional  1993-02-01  Zeitung  Saarbrücker Zeitung, 01.02.1993   \n",
       "2  saar_regional  1993-02-01  Zeitung  Saarbrücker Zeitung, 01.02.1993   \n",
       "3  saar_regional  1993-02-03  Zeitung  Saarbrücker Zeitung, 03.02.1993   \n",
       "4  saar_regional  1993-02-03  Zeitung  Saarbrücker Zeitung, 03.02.1993   \n",
       "\n",
       "                                     ContextBefore  \\\n",
       "0                      Filmprogramme Neunkirchen.    \n",
       "1                                                    \n",
       "2  Corona 1: \"Bodyguard\" 15.30, 17.45, 20.15 Uhr.    \n",
       "3  Corona 1: \"Bodyguard\" 15.30, 17.45, 20.15 Uhr.    \n",
       "4                      Filmprogramme Neunkirchen.    \n",
       "\n",
       "                                                 Hit  \\\n",
       "0     Corona 1: \"Bodyguard\" 15.30, 17.45, 20.15 Uhr.   \n",
       "1  Von der farbkräftigen Maske (Venezianischer Tr...   \n",
       "2  Corona 2: \"Whoopi Sister act, eine himmlische ...   \n",
       "3  Corona 2: \"Whoopi Sister act, eine himmlische ...   \n",
       "4     Corona 1: \"Bodyguard\" 15.30, 17.45, 20.15 Uhr.   \n",
       "\n",
       "                                        ContextAfter  \\\n",
       "0   Corona 2: \"Whoopi Sister act, eine himmlische...   \n",
       "1                                                      \n",
       "2   Burg 1:15.15, 17.45 und 20.15 Uhr \"Der letzte...   \n",
       "3   Burg 1:15.15, 17.45 und 20.15 Uhr \"Der letzte...   \n",
       "4   Corona 2: \"Whoopi Sister act, eine himmlische...   \n",
       "\n",
       "                                                Text  \n",
       "0  Filmprogramme Neunkirchen. Corona 1: \"Bodyguar...  \n",
       "1    Von der farbkräftigen Maske (Venezianischer ...  \n",
       "2  Corona 1: \"Bodyguard\" 15.30, 17.45, 20.15 Uhr....  \n",
       "3  Corona 1: \"Bodyguard\" 15.30, 17.45, 20.15 Uhr....  \n",
       "4  Filmprogramme Neunkirchen. Corona 1: \"Bodyguar...  "
      ]
     },
     "execution_count": 7,
     "metadata": {},
     "output_type": "execute_result"
    }
   ],
   "source": [
    "# Text zu einer Spalte verbinden\n",
    "\n",
    "columns = ['ContextBefore', 'Hit', 'ContextAfter']\n",
    "\n",
    "df['Text'] = df[columns].astype(str).sum(axis=1)\n",
    "df.head()"
   ]
  },
  {
   "cell_type": "code",
   "execution_count": 8,
   "metadata": {},
   "outputs": [
    {
     "data": {
      "text/plain": [
       "(416493, 8)"
      ]
     },
     "execution_count": 8,
     "metadata": {},
     "output_type": "execute_result"
    }
   ],
   "source": [
    "# Größe des DF\n",
    "\n",
    "df.shape"
   ]
  },
  {
   "cell_type": "code",
   "execution_count": 16,
   "metadata": {
    "id": "6uioii_SibZl"
   },
   "outputs": [],
   "source": [
    "# Korpus in 2 Teilkorpora splitten: vor und nach Covid-19 (dem Ausbruch in Deutschland)\n",
    "# hier wurde die Grenze zwischen Januar und Februar 2020 gezogen \n",
    "\n",
    "df_before_corona = df.iloc[:91597,:]\n",
    "df_after_corona = df.iloc[91598:,:]"
   ]
  },
  {
   "cell_type": "code",
   "execution_count": 17,
   "metadata": {},
   "outputs": [
    {
     "data": {
      "text/html": [
       "<div>\n",
       "<style scoped>\n",
       "    .dataframe tbody tr th:only-of-type {\n",
       "        vertical-align: middle;\n",
       "    }\n",
       "\n",
       "    .dataframe tbody tr th {\n",
       "        vertical-align: top;\n",
       "    }\n",
       "\n",
       "    .dataframe thead th {\n",
       "        text-align: right;\n",
       "    }\n",
       "</style>\n",
       "<table border=\"1\" class=\"dataframe\">\n",
       "  <thead>\n",
       "    <tr style=\"text-align: right;\">\n",
       "      <th></th>\n",
       "      <th>Corpus</th>\n",
       "      <th>Date</th>\n",
       "      <th>Genre</th>\n",
       "      <th>Bibl</th>\n",
       "      <th>ContextBefore</th>\n",
       "      <th>Hit</th>\n",
       "      <th>ContextAfter</th>\n",
       "      <th>Text</th>\n",
       "    </tr>\n",
       "  </thead>\n",
       "  <tbody>\n",
       "    <tr>\n",
       "      <th>91598</th>\n",
       "      <td>sk_regional</td>\n",
       "      <td>2020-02-01</td>\n",
       "      <td>Zeitung</td>\n",
       "      <td>Südkurier, 01.02.2020</td>\n",
       "      <td>, sondern beim Strählen in den Neudinger Gast...</td>\n",
       "      <td>Beim Strählen wird das Gesicht mit einer Maske...</td>\n",
       "      <td>Die ersten Narreblättli-Ausgaben, die heute n...</td>\n",
       "      <td>, sondern beim Strählen in den Neudinger Gast...</td>\n",
       "    </tr>\n",
       "    <tr>\n",
       "      <th>91599</th>\n",
       "      <td>sk_regional</td>\n",
       "      <td>2020-02-01</td>\n",
       "      <td>Zeitung</td>\n",
       "      <td>Südkurier, 01.02.2020</td>\n",
       "      <td>Gründungsmitglieder, die sogenannten Gelbjac...</td>\n",
       "      <td>In ihrer Nachfolge gibt es seit 1993 die Gelbj...</td>\n",
       "      <td>Sie haben 33 Mitglieder.</td>\n",
       "      <td>Gründungsmitglieder, die sogenannten Gelbjac...</td>\n",
       "    </tr>\n",
       "    <tr>\n",
       "      <th>91600</th>\n",
       "      <td>sk_regional</td>\n",
       "      <td>2020-02-01</td>\n",
       "      <td>Zeitung</td>\n",
       "      <td>Südkurier, 01.02.2020</td>\n",
       "      <td>Sie haben 33 Mitglieder.</td>\n",
       "      <td>Neue Cliquen: 1970 wurden die Erzgräber (33 Mi...</td>\n",
       "      <td>Die 1971 gegründete Gruppierung der Hexen wur...</td>\n",
       "      <td>Sie haben 33 Mitglieder. Neue Cliquen: 1970 wu...</td>\n",
       "    </tr>\n",
       "    <tr>\n",
       "      <th>91601</th>\n",
       "      <td>sk_regional</td>\n",
       "      <td>2020-02-01</td>\n",
       "      <td>Zeitung</td>\n",
       "      <td>Südkurier, 01.02.2020</td>\n",
       "      <td>einzelnen Zünften wurden gesammelt und eine ...</td>\n",
       "      <td>Ein Häs mit den Konterfeis aller Masken und Ut...</td>\n",
       "      <td>Es blieb nicht beim Häs für den Rathauschef, ...</td>\n",
       "      <td>einzelnen Zünften wurden gesammelt und eine ...</td>\n",
       "    </tr>\n",
       "    <tr>\n",
       "      <th>91602</th>\n",
       "      <td>sk_regional</td>\n",
       "      <td>2020-02-01</td>\n",
       "      <td>Zeitung</td>\n",
       "      <td>Südkurier, 01.02.2020</td>\n",
       "      <td></td>\n",
       "      <td>Die Zunftstube im Haus Mariagrün im Westen der...</td>\n",
       "      <td></td>\n",
       "      <td>Die Zunftstube im Haus Mariagrün im Westen d...</td>\n",
       "    </tr>\n",
       "  </tbody>\n",
       "</table>\n",
       "</div>"
      ],
      "text/plain": [
       "            Corpus        Date    Genre                   Bibl  \\\n",
       "91598  sk_regional  2020-02-01  Zeitung  Südkurier, 01.02.2020   \n",
       "91599  sk_regional  2020-02-01  Zeitung  Südkurier, 01.02.2020   \n",
       "91600  sk_regional  2020-02-01  Zeitung  Südkurier, 01.02.2020   \n",
       "91601  sk_regional  2020-02-01  Zeitung  Südkurier, 01.02.2020   \n",
       "91602  sk_regional  2020-02-01  Zeitung  Südkurier, 01.02.2020   \n",
       "\n",
       "                                           ContextBefore  \\\n",
       "91598   , sondern beim Strählen in den Neudinger Gast...   \n",
       "91599    Gründungsmitglieder, die sogenannten Gelbjac...   \n",
       "91600                          Sie haben 33 Mitglieder.    \n",
       "91601    einzelnen Zünften wurden gesammelt und eine ...   \n",
       "91602                                                      \n",
       "\n",
       "                                                     Hit  \\\n",
       "91598  Beim Strählen wird das Gesicht mit einer Maske...   \n",
       "91599  In ihrer Nachfolge gibt es seit 1993 die Gelbj...   \n",
       "91600  Neue Cliquen: 1970 wurden die Erzgräber (33 Mi...   \n",
       "91601  Ein Häs mit den Konterfeis aller Masken und Ut...   \n",
       "91602  Die Zunftstube im Haus Mariagrün im Westen der...   \n",
       "\n",
       "                                            ContextAfter  \\\n",
       "91598   Die ersten Narreblättli-Ausgaben, die heute n...   \n",
       "91599                           Sie haben 33 Mitglieder.   \n",
       "91600   Die 1971 gegründete Gruppierung der Hexen wur...   \n",
       "91601   Es blieb nicht beim Häs für den Rathauschef, ...   \n",
       "91602                                                      \n",
       "\n",
       "                                                    Text  \n",
       "91598   , sondern beim Strählen in den Neudinger Gast...  \n",
       "91599    Gründungsmitglieder, die sogenannten Gelbjac...  \n",
       "91600  Sie haben 33 Mitglieder. Neue Cliquen: 1970 wu...  \n",
       "91601    einzelnen Zünften wurden gesammelt und eine ...  \n",
       "91602    Die Zunftstube im Haus Mariagrün im Westen d...  "
      ]
     },
     "execution_count": 17,
     "metadata": {},
     "output_type": "execute_result"
    }
   ],
   "source": [
    "df_after_corona.head()"
   ]
  },
  {
   "cell_type": "code",
   "execution_count": 19,
   "metadata": {},
   "outputs": [
    {
     "name": "stdout",
     "output_type": "stream",
     "text": [
      "(91597, 8) (324895, 8)\n"
     ]
    }
   ],
   "source": [
    "# Größe der Teilkorpora im Vergleich\n",
    "\n",
    "print(df_before_corona.shape, df_after_corona.shape)"
   ]
  },
  {
   "cell_type": "code",
   "execution_count": 36,
   "metadata": {},
   "outputs": [
    {
     "data": {
      "image/png": "[encoded data removed]",
      "text/plain": [
       "<Figure size 288x432 with 1 Axes>"
      ]
     },
     "metadata": {},
     "output_type": "display_data"
    }
   ],
   "source": [
    "plt.figure(figsize=[4, 6])\n",
    "plt.style.use('fivethirtyeight')\n",
    "\n",
    "data = [91597, 324895]\n",
    "labels = ['Vor Covid-19', 'Nach Covid-19']\n",
    "\n",
    "plt.xticks(range(len(data)), labels)\n",
    "plt.ylabel('Einträge im Korpus')\n",
    "plt.bar(range(len(data)), data, width=0.6)\n",
    "\n",
    "for i, j in zip(range(len(data)), data):\n",
    "    plt.annotate(j, xy=(i,j), xycoords='data', verticalalignment='bottom', horizontalalignment='center', \n",
    "                 fontsize='small', fontweight='demi')\n",
    "    \n",
    "#plt.savefig('../plots/Korpusvergleich.png', bbox_inches='tight')\n",
    "plt.show()"
   ]
  },
  {
   "cell_type": "markdown",
   "metadata": {},
   "source": [
    "#### Hilfsfunktionen zur Vorbereitung der Texte"
   ]
  },
  {
   "cell_type": "code",
   "execution_count": 37,
   "metadata": {},
   "outputs": [],
   "source": [
    "def lemmatize_text_column(df, column):\n",
    "    \"\"\"\n",
    "    transforms the Dataframe-column in a lemmatized string\n",
    "    \"\"\"\n",
    "    text = ''\n",
    "    for i in df[column]:\n",
    "        doc = nlp(i)\n",
    "        lemmas = ' '.join([x.lemma_ for x in doc])\n",
    "        text = text + lemmas\n",
    "    return text\n",
    "\n",
    "\n",
    "def sentence_to_wordlist(raw:str):\n",
    "    \"\"\"\n",
    "    cleans and tokenizes the sentences\n",
    "    \"\"\"\n",
    "    text = re.sub('[^A-Za-z_äÄöÖüÜß]',' ', raw).split()                              \n",
    "    filtered_text = [word for word in text if word not in stopwords]\n",
    "    return filtered_text\n",
    "\n",
    "\n",
    "def prepare_text(raw_text):\n",
    "    \"\"\"\n",
    "    returns a list of tokenized sentences\n",
    "    \"\"\"\n",
    "    raw_sentences = tokenizer.tokenize(str(raw_text).lower())    \n",
    "    tokenized_sentences = Parallel(n_jobs=-1)(delayed(sentence_to_wordlist)(raw_sentence) for raw_sentence in raw_sentences)\n",
    "    phrases = Phrases(tokenized_sentences)\n",
    "    bigram = Phraser(phrases)\n",
    "    sentences = list(bigram[tokenized_sentences])\n",
    "    return sentences"
   ]
  },
  {
   "cell_type": "markdown",
   "metadata": {},
   "source": [
    "#### Vorbereitung des ersten Texts (vor Covid-19)"
   ]
  },
  {
   "cell_type": "code",
   "execution_count": 38,
   "metadata": {
    "id": "uVMUJzlpibZo",
    "outputId": "d9d2a45d-3e51-41e2-83a8-decaed115ab4"
   },
   "outputs": [
    {
     "name": "stdout",
     "output_type": "stream",
     "text": [
      "['kind_eltern', 'einladen', 'angebot', 'gehören', 'schmink', 'maskenwettbewerb', 'tanz', 'knabbereien']\n"
     ]
    }
   ],
   "source": [
    "text = lemmatize_text_column(df_before_corona, 'Text')\n",
    "sentences = prepare_text(text)\n",
    "\n",
    "# sentences ist eine Liste von tokenisierten Sätzen, zum Beispiel:\n",
    "print(sentences[100])"
   ]
  },
  {
   "cell_type": "markdown",
   "metadata": {},
   "source": [
    "#### Vorbereitung des zweiten Texts (nach Covid-19)"
   ]
  },
  {
   "cell_type": "code",
   "execution_count": 39,
   "metadata": {},
   "outputs": [
    {
     "name": "stdout",
     "output_type": "stream",
     "text": [
      "['witzig', 'fantasievolle', 'maske', 'geben', 'sehen']\n"
     ]
    }
   ],
   "source": [
    "# Achtung: das hier läuft einige Zeit!\n",
    "\n",
    "text2 = lemmatize_text_column(df_after_corona, 'Text')\n",
    "sentences2 = prepare_text(text2)\n",
    "\n",
    "print(sentences2[100])"
   ]
  },
  {
   "cell_type": "markdown",
   "metadata": {},
   "source": [
    "## Training von Word2Vec auf den Text vor Covid-19"
   ]
  },
  {
   "cell_type": "code",
   "execution_count": 40,
   "metadata": {
    "id": "HI1V5EARibZo"
   },
   "outputs": [],
   "source": [
    "# Paramter setzen\n",
    "workers = 4                      # Use these many worker threads to train the model (=faster training with multicore machines)\n",
    "seed = 42                        # Seed for the random number generator"
   ]
  },
  {
   "cell_type": "code",
   "execution_count": 41,
   "metadata": {
    "id": "gWLaiZ5cibZq"
   },
   "outputs": [],
   "source": [
    "# Ordner anlegen zum Abspeichern von trainierten Modellen\n",
    "if not os.path.exists('../trained_models'):\n",
    "    os.makedirs('../trained_models')"
   ]
  },
  {
   "cell_type": "code",
   "execution_count": 42,
   "metadata": {
    "id": "kpbrlbf0ibZq",
    "outputId": "1f537e5c-add4-40c4-8b31-49c6f8869309"
   },
   "outputs": [],
   "source": [
    "# Training\n",
    "\n",
    "w2v_bc = Word2Vec(sentences=sentences,                   \n",
    "                 vector_size=300,          # Dimensionality of the word vectors\n",
    "                 window=10,                # The maximum distance between the current and predicted word within a sentence\n",
    "                 min_count=3,              # (int, optional) – The model ignores all words with total frequency lower than this\n",
    "                 workers=workers, \n",
    "                 min_alpha=0.0001,         # Learning rate will linearly drop to min_alpha as training progresses\n",
    "                 sg=1,                     # Training algorithm: skip-gram if sg=1, otherwise CBOW\n",
    "                 seed=seed)"
   ]
  },
  {
   "cell_type": "markdown",
   "metadata": {
    "id": "EH8M_UkAibZr"
   },
   "source": [
    "## Training von Word2Vec auf den Text nach Covid-19"
   ]
  },
  {
   "cell_type": "code",
   "execution_count": 43,
   "metadata": {
    "id": "Gfy3LgWyibZt",
    "outputId": "0962a7be-cecd-4c1f-a1e0-ba52aff1fdc1"
   },
   "outputs": [],
   "source": [
    "w2v_ac = Word2Vec(sentences=sentences2,                   \n",
    "                 vector_size=300,                \n",
    "                 window=10,              \n",
    "                 min_count=3,             \n",
    "                 workers=workers, \n",
    "                 min_alpha=0.0001,                                                    \n",
    "                 sg=1,                     \n",
    "                 seed=seed)"
   ]
  },
  {
   "cell_type": "code",
   "execution_count": 44,
   "metadata": {},
   "outputs": [],
   "source": [
    "# trainierte Modelle speichern\n",
    "w2v_bc.save(os.path.join('../trained_models', 'w2v_bc_covidvoc.model'))\n",
    "w2v_ac.save(os.path.join('../trained_models', 'w2v_ac_covidvoc.model'))"
   ]
  },
  {
   "cell_type": "markdown",
   "metadata": {},
   "source": [
    "## Exploration und Vergleich der Embeddings"
   ]
  },
  {
   "cell_type": "code",
   "execution_count": 45,
   "metadata": {},
   "outputs": [],
   "source": [
    "# trainierte Modelle laden\n",
    "w2v_bc = Word2Vec.load(os.path.join('../trained_models', 'w2v_bc_covidvoc.model'))\n",
    "w2v_ac = Word2Vec.load(os.path.join('../trained_models', 'w2v_ac_covidvoc.model'))"
   ]
  },
  {
   "cell_type": "code",
   "execution_count": 46,
   "metadata": {},
   "outputs": [
    {
     "data": {
      "text/plain": [
       "[('windkraftanlagen', 0.941309928894043),\n",
       " ('abstandsregeln', 0.9407404661178589),\n",
       " ('neu_abstandsregeln', 0.9404067993164062),\n",
       " ('windkraft', 0.9274948239326477),\n",
       " ('regelung', 0.9112822413444519),\n",
       " ('wohnbebauung', 0.9058427810668945),\n",
       " ('forderung', 0.905563473701477),\n",
       " ('mehrheit', 0.9032430648803711),\n",
       " ('kommune', 0.8978920578956604),\n",
       " ('kontaktverbote', 0.8917279243469238),\n",
       " ('maßnahme', 0.885472297668457),\n",
       " ('wirtschaftlich', 0.8844664096832275),\n",
       " ('prozent', 0.8795480728149414),\n",
       " ('zulässig', 0.879438579082489),\n",
       " ('stromtrassen', 0.8772085309028625),\n",
       " ('debatte', 0.8764334917068481),\n",
       " ('wohngebiet', 0.8763109445571899),\n",
       " ('kontaktverboten', 0.8733835816383362),\n",
       " ('umstritten', 0.8731275796890259),\n",
       " ('gesetz', 0.8709059953689575)]"
      ]
     },
     "execution_count": 46,
     "metadata": {},
     "output_type": "execute_result"
    }
   ],
   "source": [
    "# ähnliche Wörter zu 'abstandsregel' vor Covid-19\n",
    "w2v_bc.wv.most_similar(positive=['abstandsregel'], topn=20)"
   ]
  },
  {
   "cell_type": "code",
   "execution_count": 47,
   "metadata": {},
   "outputs": [
    {
     "data": {
      "text/plain": [
       "[('abstandsregeln', 0.6942230463027954),\n",
       " ('abstandsregel_meter', 0.6931139826774597),\n",
       " ('abstandsregelung', 0.6830273270606995),\n",
       " ('abstandsregeln_hygienevorschriften', 0.6783966422080994),\n",
       " ('einhaltung_abstandsregel', 0.6752071380615234),\n",
       " ('hygienevorschriften_abstandsregeln', 0.6632664203643799),\n",
       " ('geboten_abstandsregeln', 0.6554995179176331),\n",
       " ('mindestabstand', 0.6512237787246704),\n",
       " ('gültig_abstandsregeln', 0.6511574983596802),\n",
       " ('coronabedingten_abstandsregeln', 0.6499712467193604),\n",
       " ('mindestabstände', 0.6457374095916748),\n",
       " ('abstandsregelungen', 0.6436908841133118),\n",
       " ('abstandsregeln_achten', 0.6435571908950806),\n",
       " ('geltend_abstandsregeln', 0.6398975849151611),\n",
       " ('vorgeschrieben_abstandsregeln', 0.638542890548706),\n",
       " ('abstands', 0.6270119547843933),\n",
       " ('abstandsgebote', 0.6251028776168823),\n",
       " ('abstandsregel_einhalten', 0.623897910118103),\n",
       " ('abstandsregel_mindestens', 0.6222027540206909),\n",
       " ('beachtung_abstandsregeln', 0.6206121444702148)]"
      ]
     },
     "execution_count": 47,
     "metadata": {},
     "output_type": "execute_result"
    }
   ],
   "source": [
    "# ähnliche Wörter zu 'abstandsregel' nach Covid-19\n",
    "w2v_ac.wv.most_similar(positive=['abstandsregel'], topn=20)"
   ]
  },
  {
   "cell_type": "code",
   "execution_count": 48,
   "metadata": {
    "id": "okTISay5ibZv",
    "outputId": "8f2fe288-c8ba-4abc-881f-a2ed7c6e69f8"
   },
   "outputs": [
    {
     "data": {
      "text/plain": [
       "[('querdenkern', 0.7429309487342834),\n",
       " ('cdu', 0.697884738445282),\n",
       " ('politisch', 0.6923633813858032),\n",
       " ('querdenkers', 0.6816907525062561),\n",
       " ('partei', 0.6693833470344543),\n",
       " ('spd', 0.6680888533592224),\n",
       " ('politiker', 0.6065241694450378),\n",
       " ('kritisch', 0.6025930643081665),\n",
       " ('professor', 0.5898517966270447),\n",
       " ('zukunft', 0.5883551836013794),\n",
       " ('politik', 0.5806187987327576),\n",
       " ('idee', 0.5781822204589844),\n",
       " ('diskutieren', 0.5639755129814148),\n",
       " ('gesellschaft', 0.5616059303283691),\n",
       " ('bezeichnen', 0.5529980659484863),\n",
       " ('stadtrat', 0.5506991147994995),\n",
       " ('unbequem_querdenker', 0.5487982034683228),\n",
       " ('gelten_querdenker', 0.5378717184066772),\n",
       " ('fdp', 0.5377996563911438),\n",
       " ('schon_immer', 0.5338967442512512)]"
      ]
     },
     "execution_count": 48,
     "metadata": {},
     "output_type": "execute_result"
    }
   ],
   "source": [
    "# ähnliche Wörter zu 'querdenker' vor Covid-19\n",
    "w2v_bc.wv.most_similar(positive=['querdenker'], topn=20)"
   ]
  },
  {
   "cell_type": "code",
   "execution_count": 49,
   "metadata": {
    "id": "twofLe79ibZw",
    "outputId": "baea5bc0-fcdb-4e83-c22c-37853c505e65"
   },
   "outputs": [
    {
     "data": {
      "text/plain": [
       "[('querdenkern', 0.7625211477279663),\n",
       " ('leugner', 0.7065120935440063),\n",
       " ('querdenken', 0.6953055262565613),\n",
       " ('sogenannt_querdenker', 0.6926818490028381),\n",
       " ('impfgegner', 0.6718152165412903),\n",
       " ('rechtsextreme', 0.6709504723548889),\n",
       " ('reichsbürger', 0.6646966338157654),\n",
       " ('rechtsextremisten', 0.6597124934196472),\n",
       " ('ernannt_querdenker', 0.6592005491256714),\n",
       " ('verschwörungstheoretiker', 0.6539718508720398),\n",
       " ('gegendemonstranten', 0.6534679532051086),\n",
       " ('demo', 0.6531961560249329),\n",
       " ('kundgebung', 0.6511003971099854),\n",
       " ('demonstrant', 0.6506841778755188),\n",
       " ('antisemit', 0.6469144821166992),\n",
       " ('aufmarsch', 0.6413081884384155),\n",
       " ('kritiker', 0.6406723856925964),\n",
       " ('querdenker_demo', 0.6398848295211792),\n",
       " ('rebell', 0.6397058963775635),\n",
       " ('neonazi', 0.6394092440605164)]"
      ]
     },
     "execution_count": 49,
     "metadata": {},
     "output_type": "execute_result"
    }
   ],
   "source": [
    "# ähnliche Wörter zu 'querdenker' nach Covid-19\n",
    "w2v_ac.wv.most_similar(positive=['querdenker'], topn=20)"
   ]
  },
  {
   "cell_type": "code",
   "execution_count": 50,
   "metadata": {},
   "outputs": [
    {
     "data": {
      "text/plain": [
       "[('center_telefon', 0.6286993622779846),\n",
       " ('corona_kino', 0.6086434125900269),\n",
       " ('jungs', 0.5786271691322327),\n",
       " ('the_pipebag', 0.544727623462677),\n",
       " ('james_bond', 0.5154383778572083),\n",
       " ('uhr_american', 0.5123162865638733),\n",
       " ('king', 0.5071830749511719),\n",
       " ('gastgeber_sergio', 0.5070323944091797),\n",
       " ('sergio_corona', 0.5015014410018921),\n",
       " ('hotel_post', 0.4997894763946533),\n",
       " ('links_gault', 0.49752095341682434),\n",
       " ('millau_kritiker', 0.4965517520904541),\n",
       " ('hardert', 0.4910041391849518),\n",
       " ('uhr_diamantencop', 0.4830649197101593),\n",
       " ('diesmal_kochkunst', 0.4809842109680176),\n",
       " ('uhr_end', 0.4734516441822052),\n",
       " ('the_green', 0.4700469970703125),\n",
       " ('restaurant', 0.4676573574542999),\n",
       " ('burg_telefon', 0.4676567614078522),\n",
       " ('of_days', 0.46737566590309143)]"
      ]
     },
     "execution_count": 50,
     "metadata": {},
     "output_type": "execute_result"
    }
   ],
   "source": [
    "# ähnliche Wörter zu 'corona' vor Covid-19\n",
    "w2v_bc.wv.most_similar(positive=['corona'], topn=20)"
   ]
  },
  {
   "cell_type": "code",
   "execution_count": 51,
   "metadata": {},
   "outputs": [
    {
     "data": {
      "text/plain": [
       "[('welterbe', 0.6018239259719849),\n",
       " ('kreis_forchheim', 0.5822088122367859),\n",
       " ('stattfi', 0.579434871673584),\n",
       " ('chefreporter', 0.5761176943778992),\n",
       " ('kollision', 0.5756493806838989),\n",
       " ('neunte', 0.5722669363021851),\n",
       " ('tarifvertrag', 0.5707806348800659),\n",
       " ('davonlaufen', 0.5702307820320129),\n",
       " ('immobilienpreise', 0.569242537021637),\n",
       " ('früherkennung', 0.566822350025177),\n",
       " ('anstieg_fallzahlen', 0.5645961165428162),\n",
       " ('homburg_red', 0.5645421743392944),\n",
       " ('online_konferenzen', 0.5632500648498535),\n",
       " ('fürchten_existenz', 0.5625572800636292),\n",
       " ('thoma_cook', 0.5615878701210022),\n",
       " ('brustkrebs', 0.561322033405304),\n",
       " ('traurig_nachricht', 0.5612968802452087),\n",
       " ('saisonhöhepunkt', 0.5610664486885071),\n",
       " ('saisonübliche', 0.5608981251716614),\n",
       " ('weitder', 0.5606194734573364)]"
      ]
     },
     "execution_count": 51,
     "metadata": {},
     "output_type": "execute_result"
    }
   ],
   "source": [
    "# ähnliche Wörter zu 'corona' nach Covid-19\n",
    "w2v_ac.wv.most_similar(positive=['corona'], topn=20)"
   ]
  },
  {
   "cell_type": "code",
   "execution_count": 52,
   "metadata": {},
   "outputs": [
    {
     "data": {
      "text/plain": [
       "[('arbeitskleidung', 0.5175150632858276),\n",
       " ('brille', 0.5158834457397461),\n",
       " ('teufelsmaske', 0.5128515958786011),\n",
       " ('schalk', 0.5108864307403564),\n",
       " ('clemens_faller', 0.5010614991188049),\n",
       " ('reichenbach', 0.49886301159858704),\n",
       " ('masken', 0.4978433847427368),\n",
       " ('lack', 0.49721759557724),\n",
       " ('schwarz_weiße', 0.4968765377998352),\n",
       " ('narr_steuer', 0.4966059625148773),\n",
       " ('wildschwein', 0.49433761835098267),\n",
       " ('beutel', 0.4916759133338928),\n",
       " ('autofahren', 0.49074384570121765),\n",
       " ('gehrenmännle', 0.49049338698387146),\n",
       " ('vollmasken', 0.4895211458206177),\n",
       " ('aufsetzköpfe', 0.4890688955783844),\n",
       " ('martina_hofen', 0.4890444576740265),\n",
       " ('stoffbahnen', 0.48871082067489624),\n",
       " ('bestandteil', 0.48848432302474976),\n",
       " ('spinnwebe', 0.4879454970359802)]"
      ]
     },
     "execution_count": 52,
     "metadata": {},
     "output_type": "execute_result"
    }
   ],
   "source": [
    "# ähnliche Wörter zu 'maske' vor Covid-19\n",
    "w2v_bc.wv.most_similar(positive=['maske'], topn=20)"
   ]
  },
  {
   "cell_type": "code",
   "execution_count": 53,
   "metadata": {},
   "outputs": [
    {
     "data": {
      "text/plain": [
       "[('schutzmaske', 0.6397777199745178),\n",
       " ('gesichtsmasken', 0.6105681657791138),\n",
       " ('nase_mund', 0.5903589129447937),\n",
       " ('mundnasenschutz', 0.5888532996177673),\n",
       " ('gesichtsmaske', 0.582385241985321),\n",
       " ('nasenschutz', 0.5802087187767029),\n",
       " ('alltagsmasken', 0.5781744122505188),\n",
       " ('gesichtsschutz', 0.578091561794281),\n",
       " ('tuch', 0.5775846242904663),\n",
       " ('maske_handschuhen', 0.5771557688713074),\n",
       " ('mundschutzmaske', 0.5758641958236694),\n",
       " ('orangefarbene', 0.5748978853225708),\n",
       " ('mund_nasenbedeckung', 0.5728957653045654),\n",
       " ('atemschutzmaske', 0.5725436210632324),\n",
       " ('maske_aufziehen', 0.5722556114196777),\n",
       " ('desinfizieren_hand', 0.571353018283844),\n",
       " ('aufliegen', 0.5696396231651306),\n",
       " ('mundschutz', 0.5694427490234375),\n",
       " ('nutzung_beförderungsleistungen', 0.566036581993103),\n",
       " ('pulli', 0.5642869472503662)]"
      ]
     },
     "execution_count": 53,
     "metadata": {},
     "output_type": "execute_result"
    }
   ],
   "source": [
    "# ähnliche Wörter zu 'maske' nach Covid-19\n",
    "w2v_ac.wv.most_similar(positive=['maske'], topn=20)"
   ]
  },
  {
   "cell_type": "code",
   "execution_count": 54,
   "metadata": {},
   "outputs": [
    {
     "data": {
      "text/plain": [
       "[('angeklagte', 0.8478309512138367),\n",
       " ('aussprechen', 0.8474958539009094),\n",
       " ('erwirken', 0.8447752594947815),\n",
       " ('auflage', 0.8316253423690796),\n",
       " ('kontaktverbots', 0.8298987746238708),\n",
       " ('kontaktverbote', 0.8226240277290344),\n",
       " ('verhängen', 0.8202598094940186),\n",
       " ('gerichtlich', 0.8136898875236511),\n",
       " ('vergewaltigung', 0.810222327709198),\n",
       " ('opfer', 0.8078280687332153),\n",
       " ('erteilen', 0.8046842813491821),\n",
       " ('haftstrafe', 0.8019586205482483),\n",
       " ('ehemann', 0.7995468974113464),\n",
       " ('stalking', 0.7980327010154724),\n",
       " ('staatsanwaltschaft', 0.7976493835449219),\n",
       " ('amtsgericht', 0.7972411513328552),\n",
       " ('körperverletzung', 0.7966298460960388),\n",
       " ('gerichtlich_kontaktverbot', 0.7949206233024597),\n",
       " ('beantragen', 0.794867217540741),\n",
       " ('haft', 0.793409526348114)]"
      ]
     },
     "execution_count": 54,
     "metadata": {},
     "output_type": "execute_result"
    }
   ],
   "source": [
    "# ähnliche Wörter zu 'kontaktverbot' vor Covid-19\n",
    "w2v_bc.wv.most_similar(positive=['kontaktverbot'], topn=20)"
   ]
  },
  {
   "cell_type": "code",
   "execution_count": 55,
   "metadata": {},
   "outputs": [
    {
     "data": {
      "text/plain": [
       "[('kontaktverbote', 0.6478878259658813),\n",
       " ('kontaktverbotes', 0.621482789516449),\n",
       " ('erwirken', 0.6129403710365295),\n",
       " ('kontaktverbots', 0.601848304271698),\n",
       " ('familiengericht', 0.5999199748039246),\n",
       " ('kontaktverbot_verhängen', 0.591545045375824),\n",
       " ('karlheinz_r', 0.5787469744682312),\n",
       " ('einreiseverbot', 0.5702961087226868),\n",
       " ('versammlungsverbot', 0.5494499802589417),\n",
       " ('näherungs', 0.5465393662452698),\n",
       " ('ja_irgendeine', 0.5458476543426514),\n",
       " ('versammlungs', 0.5447522401809692),\n",
       " ('ex_freundin', 0.5434219837188721),\n",
       " ('ausgangssperre', 0.5397164821624756),\n",
       " ('ausgangsbeschränkungen', 0.538976788520813),\n",
       " ('betretungsverbot', 0.5378984808921814),\n",
       " ('kontaktbeschränkungen_abstandsregeln', 0.5375580191612244),\n",
       " ('verhängen', 0.5363500714302063),\n",
       " ('polizeilich', 0.5348069667816162),\n",
       " ('richterlich', 0.5324047803878784)]"
      ]
     },
     "execution_count": 55,
     "metadata": {},
     "output_type": "execute_result"
    }
   ],
   "source": [
    "# ähnliche Wörter zu 'kontaktverbot' nach Covid-19\n",
    "w2v_ac.wv.most_similar(positive=['kontaktverbot'], topn=20)"
   ]
  },
  {
   "cell_type": "code",
   "execution_count": 56,
   "metadata": {},
   "outputs": [
    {
     "data": {
      "text/plain": [
       "[('empfindlich', 0.9272148609161377),\n",
       " ('einwand', 0.9259688854217529),\n",
       " ('vergeblich', 0.9255973696708679),\n",
       " ('coronavirus', 0.9244287014007568),\n",
       " ('ärger', 0.9234419465065002),\n",
       " ('grippe', 0.9196211695671082),\n",
       " ('verordnen', 0.9127783179283142),\n",
       " ('ni', 0.9109931588172913),\n",
       " ('risiko', 0.9097017049789429),\n",
       " ('negative', 0.9023016095161438),\n",
       " ('panik', 0.902006208896637),\n",
       " ('ke', 0.9014381170272827),\n",
       " ('infektion', 0.9009667038917542),\n",
       " ('schlafstörungen', 0.8996486067771912),\n",
       " ('atemnot', 0.898580014705658),\n",
       " ('hartz_iv', 0.8981199264526367),\n",
       " ('strafbar', 0.8962805271148682),\n",
       " ('anprangern', 0.896255373954773),\n",
       " ('mild', 0.8957030773162842),\n",
       " ('ablehnen', 0.8940709233283997)]"
      ]
     },
     "execution_count": 56,
     "metadata": {},
     "output_type": "execute_result"
    }
   ],
   "source": [
    "# ähnliche Wörter zu 'virus' vor Covid-19\n",
    "w2v_bc.wv.most_similar(positive=['virus'], topn=20)"
   ]
  },
  {
   "cell_type": "code",
   "execution_count": 57,
   "metadata": {},
   "outputs": [
    {
     "data": {
      "text/plain": [
       "[('coronavirus', 0.5255200862884521),\n",
       " ('bamberger_computer', 0.5220348238945007),\n",
       " ('zelle', 0.5216799974441528),\n",
       " ('krise_leisten', 0.5169382095336914),\n",
       " ('ihder', 0.5157020688056946),\n",
       " ('entwickler_ih', 0.5115442872047424),\n",
       " ('entwickler', 0.5001220107078552),\n",
       " ('sars_cov', 0.4966195523738861),\n",
       " ('reale_helfer', 0.49164846539497375),\n",
       " ('seuche', 0.4895476996898651),\n",
       " ('ansteckend', 0.485962450504303),\n",
       " ('covid', 0.48467016220092773),\n",
       " ('virtuelle_apps', 0.4817734658718109),\n",
       " ('hilfesuchend_verbinden', 0.4798972010612488),\n",
       " ('epidemie', 0.4796258509159088),\n",
       " ('durchkommen', 0.47789087891578674),\n",
       " ('computergestützte_ortung', 0.47713685035705566),\n",
       " ('lebenswichtig_lieferung', 0.4746527373790741),\n",
       " ('infektionskrankheit', 0.4741000533103943),\n",
       " ('hochansteckende', 0.47241708636283875)]"
      ]
     },
     "execution_count": 57,
     "metadata": {},
     "output_type": "execute_result"
    }
   ],
   "source": [
    "# ähnliche Wörter zu 'virus' vor Covid-19\n",
    "w2v_ac.wv.most_similar(positive=['virus'], topn=20)"
   ]
  },
  {
   "cell_type": "markdown",
   "metadata": {},
   "source": [
    "## Ausrichtung der beiden Embedding-Modelle"
   ]
  },
  {
   "cell_type": "code",
   "execution_count": 58,
   "metadata": {},
   "outputs": [],
   "source": [
    "# Quelle: https://gist.github.com/zhicongchen/9e23d5c3f1e5b1293b16133485cd17d8\n",
    "\n",
    "def smart_procrustes_align_gensim(base_embed, other_embed, words=None):\n",
    "    \"\"\"\n",
    "    Original script: https://gist.github.com/quadrismegistus/09a93e219a6ffc4f216fb85235535faf\n",
    "    Updatet script: https://gist.github.com/zhicongchen/9e23d5c3f1e5b1293b16133485cd17d8\n",
    "    Procrustes align two gensim models (to allow for comparison between same word across models).\n",
    "    Code ported from HistWords <https://github.com/williamleif/histwords> by William Hamilton <wleif@stanford.edu>.\n",
    "        \n",
    "    First, intersect the vocabularies (see `intersection_align_gensim` documentation).\n",
    "    Then do the alignment on the other_embed model.\n",
    "    Replace the other_embed model's syn0 and syn0norm numpy matrices with the aligned version.\n",
    "    Return other_embed.\n",
    "\n",
    "    If `words` is set, intersect the two models' vocabulary with the vocabulary in words (see `intersection_align_gensim` documentation).\n",
    "    \"\"\"\n",
    "\n",
    "    # patch by Richard So [https://twitter.com/richardjeanso) (thanks!) to update this code for new version of gensim\n",
    "    # base_embed.init_sims(replace=True)\n",
    "    # other_embed.init_sims(replace=True)\n",
    "\n",
    "    # make sure vocabulary and indices are aligned\n",
    "    in_base_embed, in_other_embed = intersection_align_gensim(base_embed, other_embed, words=words)\n",
    "    \n",
    "    # re-filling the normed vectors\n",
    "    in_base_embed.wv.fill_norms(force=True)\n",
    "    in_other_embed.wv.fill_norms(force=True)\n",
    "\n",
    "    # get the (normalized) embedding matrices\n",
    "    base_vecs = in_base_embed.wv.get_normed_vectors()\n",
    "    other_vecs = in_other_embed.wv.get_normed_vectors()\n",
    "\n",
    "    # just a matrix dot product with numpy\n",
    "    m = other_vecs.T.dot(base_vecs) \n",
    "    # SVD method from numpy\n",
    "    u, _, v = np.linalg.svd(m)\n",
    "    # another matrix operation\n",
    "    ortho = u.dot(v) \n",
    "    # Replace original array with modified one, i.e. multiplying the embedding matrix by \"ortho\"\n",
    "    other_embed.wv.vectors = (other_embed.wv.vectors).dot(ortho)    \n",
    "    \n",
    "    return other_embed\n",
    "\n",
    "def intersection_align_gensim(m1, m2, words=None):\n",
    "    \"\"\"\n",
    "    Intersect two gensim models, m1 and m2.\n",
    "    Only the shared vocabulary between them is kept.\n",
    "    If 'words' is set (as list or set), then the vocabulary is intersected with this list as well.\n",
    "    Indices are re-organized from 0..N in order of descending frequency (=sum of counts from both m1 and m2).\n",
    "    These indices correspond to the new syn0 and syn0norm objects in both gensim models:\n",
    "        -- so that Row 0 of m1.syn0 will be for the same word as Row 0 of m2.syn0\n",
    "        -- you can find the index of any word on the .index2word list: model.index2word.index(word) => 2\n",
    "    The .vocab dictionary is also updated for each model, preserving the count but updating the index.\n",
    "    \"\"\"\n",
    "\n",
    "    # Get the vocab for each model\n",
    "    vocab_m1 = set(m1.wv.index_to_key)\n",
    "    vocab_m2 = set(m2.wv.index_to_key)\n",
    "\n",
    "    # Find the common vocabulary\n",
    "    common_vocab = vocab_m1 & vocab_m2\n",
    "    if words: common_vocab &= set(words)\n",
    "\n",
    "    # If no alignment necessary because vocab is identical...\n",
    "    if not vocab_m1 - common_vocab and not vocab_m2 - common_vocab:\n",
    "        return (m1,m2)\n",
    "\n",
    "    # Otherwise sort by frequency (summed for both)\n",
    "    common_vocab = list(common_vocab)\n",
    "    common_vocab.sort(key=lambda w: m1.wv.get_vecattr(w, \"count\") + m2.wv.get_vecattr(w, \"count\"), reverse=True)\n",
    "    # print(len(common_vocab))\n",
    "\n",
    "    # Then for each model...\n",
    "    for m in [m1, m2]:\n",
    "        # Replace old syn0norm array with new one (with common vocab)\n",
    "        indices = [m.wv.key_to_index[w] for w in common_vocab]\n",
    "        old_arr = m.wv.vectors\n",
    "        new_arr = np.array([old_arr[index] for index in indices])\n",
    "        m.wv.vectors = new_arr\n",
    "\n",
    "        # Replace old vocab dictionary with new one (with common vocab)\n",
    "        # and old index2word with new one\n",
    "        new_key_to_index = {}\n",
    "        new_index_to_key = []\n",
    "        for new_index, key in enumerate(common_vocab):\n",
    "            new_key_to_index[key] = new_index\n",
    "            new_index_to_key.append(key)\n",
    "        m.wv.key_to_index = new_key_to_index\n",
    "        m.wv.index_to_key = new_index_to_key\n",
    "        \n",
    "        print(len(m.wv.key_to_index), len(m.wv.vectors))\n",
    "        \n",
    "    return (m1,m2)"
   ]
  },
  {
   "cell_type": "code",
   "execution_count": 59,
   "metadata": {},
   "outputs": [
    {
     "name": "stdout",
     "output_type": "stream",
     "text": [
      "30160 30160\n",
      "30160 30160\n"
     ]
    }
   ],
   "source": [
    "# Ausrichtung des \"After-Corona-Modells\" an das \"Before-Corona-Modell\"\n",
    "\n",
    "w2v_ac_al = smart_procrustes_align_gensim(w2v_bc, w2v_ac)"
   ]
  },
  {
   "cell_type": "code",
   "execution_count": 60,
   "metadata": {},
   "outputs": [],
   "source": [
    "# speichern\n",
    "w2v_ac_al.save(os.path.join('../trained_models', 'w2v_ac_al_covidvoc.model'))"
   ]
  },
  {
   "cell_type": "markdown",
   "metadata": {},
   "source": [
    "## Cosinus-Ähnlichkeit zwischen den Vektoren der beiden Modelle"
   ]
  },
  {
   "cell_type": "code",
   "execution_count": 61,
   "metadata": {},
   "outputs": [],
   "source": [
    "# laden\n",
    "w2v_ac_al = Word2Vec.load(os.path.join('../trained_models', 'w2v_ac_al_covidvoc.model'))"
   ]
  },
  {
   "cell_type": "markdown",
   "metadata": {},
   "source": [
    "#### Exploration"
   ]
  },
  {
   "cell_type": "code",
   "execution_count": 62,
   "metadata": {},
   "outputs": [
    {
     "data": {
      "text/plain": [
       "[('querdenkern', 0.7625211477279663),\n",
       " ('querdenken', 0.6953054666519165),\n",
       " ('rechtsextreme', 0.6709504723548889),\n",
       " ('rechtsextremisten', 0.6597124338150024),\n",
       " ('demo', 0.6531962156295776),\n",
       " ('kundgebung', 0.6511003971099854),\n",
       " ('demonstrant', 0.650684118270874),\n",
       " ('aufmarsch', 0.6413082480430603),\n",
       " ('kritiker', 0.6406723856925964),\n",
       " ('rebell', 0.6397059559822083),\n",
       " ('neonazi', 0.6394092440605164),\n",
       " ('verfassungsschutz', 0.6293399333953857),\n",
       " ('protest', 0.6273399591445923),\n",
       " ('demonstranten', 0.6247624754905701),\n",
       " ('holocaust', 0.6221030950546265),\n",
       " ('querulant', 0.6175126433372498),\n",
       " ('anti', 0.6157219409942627),\n",
       " ('protestieren', 0.614226222038269),\n",
       " ('rechtsextrem', 0.6113309264183044),\n",
       " ('demonstration', 0.605394184589386),\n",
       " ('antifa', 0.604430615901947),\n",
       " ('nazi', 0.6010743975639343),\n",
       " ('rechtsradikale', 0.5980435013771057),\n",
       " ('diktatur', 0.5971853137016296),\n",
       " ('rechte', 0.5970774292945862)]"
      ]
     },
     "execution_count": 62,
     "metadata": {},
     "output_type": "execute_result"
    }
   ],
   "source": [
    "# ähnliche Wörter zu 'querdenker' nach Covid-19\n",
    "w2v_ac_al.wv.most_similar(positive=['querdenker'], topn=25)"
   ]
  },
  {
   "cell_type": "markdown",
   "metadata": {},
   "source": [
    "#### Cosinus-Ähnlichkeit"
   ]
  },
  {
   "cell_type": "code",
   "execution_count": 63,
   "metadata": {},
   "outputs": [
    {
     "data": {
      "text/plain": [
       "0.36255982518196106"
      ]
     },
     "execution_count": 63,
     "metadata": {},
     "output_type": "execute_result"
    }
   ],
   "source": [
    "vector_abstandsregel_bc = w2v_bc.wv['abstandsregel']  \n",
    "vector_abstandsregel_ac_al = w2v_ac_al.wv['abstandsregel'] \n",
    "\n",
    "cosine_abstandsregel = 1 - spatial.distance.cosine(vector_abstandsregel_bc, vector_abstandsregel_ac_al)\n",
    "cosine_abstandsregel"
   ]
  },
  {
   "cell_type": "code",
   "execution_count": 64,
   "metadata": {},
   "outputs": [
    {
     "data": {
      "text/plain": [
       "0.5909582376480103"
      ]
     },
     "execution_count": 64,
     "metadata": {},
     "output_type": "execute_result"
    }
   ],
   "source": [
    "vector_querdenker_bc = w2v_bc.wv['querdenker']  \n",
    "vector_querdenker_ac_al = w2v_ac_al.wv['querdenker'] \n",
    "\n",
    "cosine_querdenker = 1 - spatial.distance.cosine(vector_querdenker_bc, vector_querdenker_ac_al)\n",
    "cosine_querdenker"
   ]
  },
  {
   "cell_type": "code",
   "execution_count": 65,
   "metadata": {},
   "outputs": [
    {
     "data": {
      "text/plain": [
       "0.6305479407310486"
      ]
     },
     "execution_count": 65,
     "metadata": {},
     "output_type": "execute_result"
    }
   ],
   "source": [
    "vector_maske_bc = w2v_bc.wv['maske']  \n",
    "vector_maske_ac_al = w2v_ac_al.wv['maske'] \n",
    "\n",
    "cosine_maske = 1 - spatial.distance.cosine(vector_maske_bc, vector_maske_ac_al)\n",
    "cosine_maske"
   ]
  },
  {
   "cell_type": "code",
   "execution_count": 66,
   "metadata": {},
   "outputs": [
    {
     "data": {
      "text/plain": [
       "0.5835626125335693"
      ]
     },
     "execution_count": 66,
     "metadata": {},
     "output_type": "execute_result"
    }
   ],
   "source": [
    "vector_kontaktverbot_bc = w2v_bc.wv['kontaktverbot']  \n",
    "vector_kontaktverbot_ac_al = w2v_ac_al.wv['kontaktverbot'] \n",
    "\n",
    "cosine_kontaktverbot = 1 - spatial.distance.cosine(vector_kontaktverbot_bc, vector_kontaktverbot_ac_al)\n",
    "cosine_kontaktverbot"
   ]
  },
  {
   "cell_type": "code",
   "execution_count": 67,
   "metadata": {},
   "outputs": [
    {
     "data": {
      "text/plain": [
       "0.40546995401382446"
      ]
     },
     "execution_count": 67,
     "metadata": {},
     "output_type": "execute_result"
    }
   ],
   "source": [
    "vector_corona_bc = w2v_bc.wv['corona']  \n",
    "vector_corona_ac_al = w2v_ac_al.wv['corona'] \n",
    "\n",
    "cosine_corona = 1 - spatial.distance.cosine(vector_corona_bc, vector_corona_ac_al)\n",
    "cosine_corona"
   ]
  },
  {
   "cell_type": "code",
   "execution_count": 68,
   "metadata": {},
   "outputs": [
    {
     "data": {
      "text/plain": [
       "0.5771344304084778"
      ]
     },
     "execution_count": 68,
     "metadata": {},
     "output_type": "execute_result"
    }
   ],
   "source": [
    "# Versuch mit unverfänglichen Wörtern\n",
    "\n",
    "vector_deutschland_bc = w2v_bc.wv['deutschland']  \n",
    "vector_deutschland_ac_al = w2v_ac_al.wv['deutschland'] \n",
    "\n",
    "cosine_deutschland = 1 - spatial.distance.cosine(vector_deutschland_bc, vector_deutschland_ac_al)\n",
    "cosine_deutschland"
   ]
  },
  {
   "cell_type": "code",
   "execution_count": 69,
   "metadata": {},
   "outputs": [
    {
     "data": {
      "text/plain": [
       "0.38154929876327515"
      ]
     },
     "execution_count": 69,
     "metadata": {},
     "output_type": "execute_result"
    }
   ],
   "source": [
    "vector_nachricht_bc = w2v_bc.wv['nachricht']  \n",
    "vector_nachricht_ac_al = w2v_ac_al.wv['nachricht'] \n",
    "\n",
    "cosine_nachricht = 1 - spatial.distance.cosine(vector_nachricht_bc, vector_nachricht_ac_al)\n",
    "cosine_nachricht"
   ]
  },
  {
   "cell_type": "code",
   "execution_count": 70,
   "metadata": {},
   "outputs": [
    {
     "data": {
      "text/plain": [
       "0.46783527731895447"
      ]
     },
     "execution_count": 70,
     "metadata": {},
     "output_type": "execute_result"
    }
   ],
   "source": [
    "vector_schreiben_bc = w2v_bc.wv['schreiben']  \n",
    "vector_schreiben_ac_al = w2v_ac_al.wv['schreiben'] \n",
    "\n",
    "cosine_schreiben = 1 - spatial.distance.cosine(vector_schreiben_bc, vector_schreiben_ac_al)\n",
    "cosine_schreiben"
   ]
  },
  {
   "cell_type": "code",
   "execution_count": 71,
   "metadata": {},
   "outputs": [
    {
     "data": {
      "text/plain": [
       "0.6912623047828674"
      ]
     },
     "execution_count": 71,
     "metadata": {},
     "output_type": "execute_result"
    }
   ],
   "source": [
    "vector_sagen_bc = w2v_bc.wv['sagen']  \n",
    "vector_sagen_ac_al = w2v_ac_al.wv['sagen'] \n",
    "\n",
    "cosine_sagen = 1 - spatial.distance.cosine(vector_sagen_bc, vector_sagen_ac_al)\n",
    "cosine_sagen"
   ]
  },
  {
   "cell_type": "code",
   "execution_count": 72,
   "metadata": {},
   "outputs": [
    {
     "data": {
      "text/plain": [
       "0.7342627644538879"
      ]
     },
     "execution_count": 72,
     "metadata": {},
     "output_type": "execute_result"
    }
   ],
   "source": [
    "vector_mann_bc = w2v_bc.wv['mann']  \n",
    "vector_mann_ac_al = w2v_ac_al.wv['mann'] \n",
    "\n",
    "cosine_mann = 1 - spatial.distance.cosine(vector_mann_bc, vector_mann_ac_al)\n",
    "cosine_mann"
   ]
  },
  {
   "cell_type": "code",
   "execution_count": 73,
   "metadata": {},
   "outputs": [
    {
     "data": {
      "text/plain": [
       "0.6818694472312927"
      ]
     },
     "execution_count": 73,
     "metadata": {},
     "output_type": "execute_result"
    }
   ],
   "source": [
    "vector_frau_bc = w2v_bc.wv['frau']  \n",
    "vector_frau_ac_al = w2v_ac_al.wv['frau'] \n",
    "\n",
    "cosine_frau = 1 - spatial.distance.cosine(vector_frau_bc, vector_frau_ac_al)\n",
    "cosine_frau"
   ]
  },
  {
   "cell_type": "code",
   "execution_count": 74,
   "metadata": {},
   "outputs": [
    {
     "data": {
      "text/plain": [
       "0.689818799495697"
      ]
     },
     "execution_count": 74,
     "metadata": {},
     "output_type": "execute_result"
    }
   ],
   "source": [
    "vector_mensch_bc = w2v_bc.wv['mensch']  \n",
    "vector_mensch_ac_al = w2v_ac_al.wv['mensch'] \n",
    "\n",
    "cosine_mensch = 1 - spatial.distance.cosine(vector_mensch_bc, vector_mensch_ac_al)\n",
    "cosine_mensch"
   ]
  },
  {
   "cell_type": "code",
   "execution_count": 75,
   "metadata": {},
   "outputs": [
    {
     "data": {
      "text/plain": [
       "0.6341598629951477"
      ]
     },
     "execution_count": 75,
     "metadata": {},
     "output_type": "execute_result"
    }
   ],
   "source": [
    "vector_montag_bc = w2v_bc.wv['montag']  \n",
    "vector_montag_ac_al = w2v_ac_al.wv['montag'] \n",
    "\n",
    "cosine_montag = 1 - spatial.distance.cosine(vector_montag_bc, vector_montag_ac_al)\n",
    "cosine_montag"
   ]
  },
  {
   "cell_type": "markdown",
   "metadata": {},
   "source": [
    "### durchschnittliche Cosinus-Ähnlichkeit, Standardweichung und 'Normalbereich'"
   ]
  },
  {
   "cell_type": "markdown",
   "metadata": {},
   "source": [
    "- von allen Wörtern/Vektoren, die in beiden Modellen vorkommen jeweils die Cosinus-Ähnlichkeit berechnen (also zueinander zwischen den Modellen)\n",
    "- durchschnittliche Ähnlichkeit und Standardabweichung berechnen, um einen 'Normalbereich' zu ermitteln\n",
    "- liegt der Wert der Cosinus-Ähnlichkeit (desselben Lemmas zwischen den Modellen) unter dem Normalbereich?"
   ]
  },
  {
   "cell_type": "code",
   "execution_count": 76,
   "metadata": {},
   "outputs": [],
   "source": [
    "# alle Wörter, die in beiden Modellen vorkommmen\n",
    "\n",
    "vocab_bc = set(w2v_bc.wv.index_to_key)\n",
    "vocab_ac_al = set(w2v_ac_al.wv.index_to_key)\n",
    "\n",
    "common_vocab = vocab_bc & vocab_ac_al"
   ]
  },
  {
   "cell_type": "code",
   "execution_count": 77,
   "metadata": {},
   "outputs": [
    {
     "data": {
      "text/plain": [
       "30160"
      ]
     },
     "execution_count": 77,
     "metadata": {},
     "output_type": "execute_result"
    }
   ],
   "source": [
    "len(common_vocab)"
   ]
  },
  {
   "cell_type": "code",
   "execution_count": 78,
   "metadata": {},
   "outputs": [],
   "source": [
    "# Cosinus-Ähnlichkeit zwischen dem Wort in den beiden Modellen berechnen\n",
    "\n",
    "cosines = {}\n",
    "\n",
    "for word in common_vocab:\n",
    "    vector_bc = w2v_bc.wv[word]  \n",
    "    vector_ac_al = w2v_ac_al.wv[word] \n",
    "    cosine = 1 - spatial.distance.cosine(vector_bc, vector_ac_al)\n",
    "    cosines[word] = cosine"
   ]
  },
  {
   "cell_type": "code",
   "execution_count": 79,
   "metadata": {},
   "outputs": [
    {
     "data": {
      "text/html": [
       "<div>\n",
       "<style scoped>\n",
       "    .dataframe tbody tr th:only-of-type {\n",
       "        vertical-align: middle;\n",
       "    }\n",
       "\n",
       "    .dataframe tbody tr th {\n",
       "        vertical-align: top;\n",
       "    }\n",
       "\n",
       "    .dataframe thead th {\n",
       "        text-align: right;\n",
       "    }\n",
       "</style>\n",
       "<table border=\"1\" class=\"dataframe\">\n",
       "  <thead>\n",
       "    <tr style=\"text-align: right;\">\n",
       "      <th></th>\n",
       "      <th>cosine</th>\n",
       "    </tr>\n",
       "  </thead>\n",
       "  <tbody>\n",
       "    <tr>\n",
       "      <th>erstrahlt</th>\n",
       "      <td>0.833356</td>\n",
       "    </tr>\n",
       "    <tr>\n",
       "      <th>leichtfertig</th>\n",
       "      <td>0.754352</td>\n",
       "    </tr>\n",
       "    <tr>\n",
       "      <th>werd</th>\n",
       "      <td>0.350977</td>\n",
       "    </tr>\n",
       "    <tr>\n",
       "      <th>luthersaal</th>\n",
       "      <td>0.932293</td>\n",
       "    </tr>\n",
       "    <tr>\n",
       "      <th>theatertage</th>\n",
       "      <td>0.892394</td>\n",
       "    </tr>\n",
       "    <tr>\n",
       "      <th>...</th>\n",
       "      <td>...</td>\n",
       "    </tr>\n",
       "    <tr>\n",
       "      <th>kneten</th>\n",
       "      <td>0.856570</td>\n",
       "    </tr>\n",
       "    <tr>\n",
       "      <th>ende_oktober</th>\n",
       "      <td>0.696160</td>\n",
       "    </tr>\n",
       "    <tr>\n",
       "      <th>straftatbestand</th>\n",
       "      <td>0.943443</td>\n",
       "    </tr>\n",
       "    <tr>\n",
       "      <th>mozart</th>\n",
       "      <td>0.738692</td>\n",
       "    </tr>\n",
       "    <tr>\n",
       "      <th>bräunlinger</th>\n",
       "      <td>0.830121</td>\n",
       "    </tr>\n",
       "  </tbody>\n",
       "</table>\n",
       "<p>30160 rows × 1 columns</p>\n",
       "</div>"
      ],
      "text/plain": [
       "                   cosine\n",
       "erstrahlt        0.833356\n",
       "leichtfertig     0.754352\n",
       "werd             0.350977\n",
       "luthersaal       0.932293\n",
       "theatertage      0.892394\n",
       "...                   ...\n",
       "kneten           0.856570\n",
       "ende_oktober     0.696160\n",
       "straftatbestand  0.943443\n",
       "mozart           0.738692\n",
       "bräunlinger      0.830121\n",
       "\n",
       "[30160 rows x 1 columns]"
      ]
     },
     "execution_count": 79,
     "metadata": {},
     "output_type": "execute_result"
    }
   ],
   "source": [
    "cosine_df = pd.DataFrame.from_dict(cosines, orient='index', columns=['cosine'])\n",
    "cosine_df"
   ]
  },
  {
   "cell_type": "code",
   "execution_count": 80,
   "metadata": {},
   "outputs": [
    {
     "data": {
      "text/plain": [
       "0.7610481301796269"
      ]
     },
     "execution_count": 80,
     "metadata": {},
     "output_type": "execute_result"
    }
   ],
   "source": [
    "# durchschnittliche Cosinus-Ähnlichkeit der Wörter der beiden Modelle \n",
    "\n",
    "statistics.mean(cosine_df['cosine'])"
   ]
  },
  {
   "cell_type": "code",
   "execution_count": 93,
   "metadata": {},
   "outputs": [
    {
     "data": {
      "text/plain": [
       "0.7802836298942566"
      ]
     },
     "execution_count": 93,
     "metadata": {},
     "output_type": "execute_result"
    }
   ],
   "source": [
    "# Median \n",
    "\n",
    "statistics.median(cosine_df['cosine'])"
   ]
  },
  {
   "cell_type": "code",
   "execution_count": 81,
   "metadata": {},
   "outputs": [
    {
     "data": {
      "text/plain": [
       "0.12000767523511746"
      ]
     },
     "execution_count": 81,
     "metadata": {},
     "output_type": "execute_result"
    }
   ],
   "source": [
    "# Standardabweichung\n",
    "\n",
    "statistics.stdev(cosine_df['cosine'])"
   ]
  },
  {
   "cell_type": "code",
   "execution_count": 82,
   "metadata": {},
   "outputs": [
    {
     "name": "stdout",
     "output_type": "stream",
     "text": [
      "der Normalbereich der Cosinus-Ähnlichkeit liegt über 0.6410404549445095\n"
     ]
    }
   ],
   "source": [
    "# 'Normalbereich' der Cosinus-Ähnlichkeit\n",
    "\n",
    "border = statistics.mean(cosine_df['cosine']) - statistics.stdev(cosine_df['cosine'])\n",
    "\n",
    "print('der Normalbereich der Cosinus-Ähnlichkeit liegt über', border)"
   ]
  },
  {
   "cell_type": "code",
   "execution_count": 83,
   "metadata": {},
   "outputs": [
    {
     "data": {
      "text/html": [
       "<div>\n",
       "<style scoped>\n",
       "    .dataframe tbody tr th:only-of-type {\n",
       "        vertical-align: middle;\n",
       "    }\n",
       "\n",
       "    .dataframe tbody tr th {\n",
       "        vertical-align: top;\n",
       "    }\n",
       "\n",
       "    .dataframe thead th {\n",
       "        text-align: right;\n",
       "    }\n",
       "</style>\n",
       "<table border=\"1\" class=\"dataframe\">\n",
       "  <thead>\n",
       "    <tr style=\"text-align: right;\">\n",
       "      <th></th>\n",
       "      <th>cosine</th>\n",
       "    </tr>\n",
       "  </thead>\n",
       "  <tbody>\n",
       "    <tr>\n",
       "      <th>u_geschw</th>\n",
       "      <td>0.014840</td>\n",
       "    </tr>\n",
       "    <tr>\n",
       "      <th>zulässt</th>\n",
       "      <td>0.241259</td>\n",
       "    </tr>\n",
       "    <tr>\n",
       "      <th>opfer</th>\n",
       "      <td>0.258436</td>\n",
       "    </tr>\n",
       "    <tr>\n",
       "      <th>strich</th>\n",
       "      <td>0.260116</td>\n",
       "    </tr>\n",
       "    <tr>\n",
       "      <th>lahm</th>\n",
       "      <td>0.286042</td>\n",
       "    </tr>\n",
       "    <tr>\n",
       "      <th>regeln</th>\n",
       "      <td>0.288744</td>\n",
       "    </tr>\n",
       "    <tr>\n",
       "      <th>kv</th>\n",
       "      <td>0.290009</td>\n",
       "    </tr>\n",
       "    <tr>\n",
       "      <th>nk</th>\n",
       "      <td>0.290303</td>\n",
       "    </tr>\n",
       "    <tr>\n",
       "      <th>fluch</th>\n",
       "      <td>0.290594</td>\n",
       "    </tr>\n",
       "    <tr>\n",
       "      <th>abstandsregeln</th>\n",
       "      <td>0.291209</td>\n",
       "    </tr>\n",
       "    <tr>\n",
       "      <th>impfen</th>\n",
       "      <td>0.300276</td>\n",
       "    </tr>\n",
       "    <tr>\n",
       "      <th>trotz</th>\n",
       "      <td>0.301250</td>\n",
       "    </tr>\n",
       "    <tr>\n",
       "      <th>z</th>\n",
       "      <td>0.312939</td>\n",
       "    </tr>\n",
       "    <tr>\n",
       "      <th>pers</th>\n",
       "      <td>0.313792</td>\n",
       "    </tr>\n",
       "    <tr>\n",
       "      <th>raiffeisenbank</th>\n",
       "      <td>0.316826</td>\n",
       "    </tr>\n",
       "    <tr>\n",
       "      <th>eck</th>\n",
       "      <td>0.324685</td>\n",
       "    </tr>\n",
       "    <tr>\n",
       "      <th>niesen</th>\n",
       "      <td>0.325160</td>\n",
       "    </tr>\n",
       "    <tr>\n",
       "      <th>lage</th>\n",
       "      <td>0.325494</td>\n",
       "    </tr>\n",
       "    <tr>\n",
       "      <th>doppel</th>\n",
       "      <td>0.327815</td>\n",
       "    </tr>\n",
       "    <tr>\n",
       "      <th>landkreis</th>\n",
       "      <td>0.329360</td>\n",
       "    </tr>\n",
       "    <tr>\n",
       "      <th>hälfte</th>\n",
       "      <td>0.329555</td>\n",
       "    </tr>\n",
       "    <tr>\n",
       "      <th>heute_morgen</th>\n",
       "      <td>0.333375</td>\n",
       "    </tr>\n",
       "    <tr>\n",
       "      <th>ansage</th>\n",
       "      <td>0.335933</td>\n",
       "    </tr>\n",
       "    <tr>\n",
       "      <th>it</th>\n",
       "      <td>0.336231</td>\n",
       "    </tr>\n",
       "    <tr>\n",
       "      <th>holzkirchen</th>\n",
       "      <td>0.338465</td>\n",
       "    </tr>\n",
       "    <tr>\n",
       "      <th>alten_pflegeheim</th>\n",
       "      <td>0.339698</td>\n",
       "    </tr>\n",
       "    <tr>\n",
       "      <th>abstand</th>\n",
       "      <td>0.340515</td>\n",
       "    </tr>\n",
       "    <tr>\n",
       "      <th>trotzen</th>\n",
       "      <td>0.340612</td>\n",
       "    </tr>\n",
       "    <tr>\n",
       "      <th>erst_recht</th>\n",
       "      <td>0.342500</td>\n",
       "    </tr>\n",
       "    <tr>\n",
       "      <th>neunkirchen</th>\n",
       "      <td>0.346339</td>\n",
       "    </tr>\n",
       "  </tbody>\n",
       "</table>\n",
       "</div>"
      ],
      "text/plain": [
       "                    cosine\n",
       "u_geschw          0.014840\n",
       "zulässt           0.241259\n",
       "opfer             0.258436\n",
       "strich            0.260116\n",
       "lahm              0.286042\n",
       "regeln            0.288744\n",
       "kv                0.290009\n",
       "nk                0.290303\n",
       "fluch             0.290594\n",
       "abstandsregeln    0.291209\n",
       "impfen            0.300276\n",
       "trotz             0.301250\n",
       "z                 0.312939\n",
       "pers              0.313792\n",
       "raiffeisenbank    0.316826\n",
       "eck               0.324685\n",
       "niesen            0.325160\n",
       "lage              0.325494\n",
       "doppel            0.327815\n",
       "landkreis         0.329360\n",
       "hälfte            0.329555\n",
       "heute_morgen      0.333375\n",
       "ansage            0.335933\n",
       "it                0.336231\n",
       "holzkirchen       0.338465\n",
       "alten_pflegeheim  0.339698\n",
       "abstand           0.340515\n",
       "trotzen           0.340612\n",
       "erst_recht        0.342500\n",
       "neunkirchen       0.346339"
      ]
     },
     "execution_count": 83,
     "metadata": {},
     "output_type": "execute_result"
    }
   ],
   "source": [
    "# Standardabweichung erscheint hoch\n",
    "# DF aufsteigend sortieren und die ersten 30 Zeilen ausgeben, um die 'Ausreißer' anzuschauen\n",
    "\n",
    "cosine_df.sort_values(by=['cosine'], axis=0).iloc[:30]"
   ]
  },
  {
   "cell_type": "markdown",
   "metadata": {},
   "source": [
    "--> Versuch: Ausreißer (u_geschw) rauslöschen und erneut den Normalbereich berechnen <br>\n",
    "--> die restlichen Ausreißer erscheinen nicht ganz unrealistisch und sind intuitiv ebenfalls Wörter, die durch die Pandemie ihre Bedeutung verändert haben, z.B. 'impfen'"
   ]
  },
  {
   "cell_type": "code",
   "execution_count": 84,
   "metadata": {},
   "outputs": [
    {
     "data": {
      "text/html": [
       "<div>\n",
       "<style scoped>\n",
       "    .dataframe tbody tr th:only-of-type {\n",
       "        vertical-align: middle;\n",
       "    }\n",
       "\n",
       "    .dataframe tbody tr th {\n",
       "        vertical-align: top;\n",
       "    }\n",
       "\n",
       "    .dataframe thead th {\n",
       "        text-align: right;\n",
       "    }\n",
       "</style>\n",
       "<table border=\"1\" class=\"dataframe\">\n",
       "  <thead>\n",
       "    <tr style=\"text-align: right;\">\n",
       "      <th></th>\n",
       "      <th>cosine</th>\n",
       "    </tr>\n",
       "  </thead>\n",
       "  <tbody>\n",
       "    <tr>\n",
       "      <th>zulässt</th>\n",
       "      <td>0.241259</td>\n",
       "    </tr>\n",
       "    <tr>\n",
       "      <th>opfer</th>\n",
       "      <td>0.258436</td>\n",
       "    </tr>\n",
       "    <tr>\n",
       "      <th>strich</th>\n",
       "      <td>0.260116</td>\n",
       "    </tr>\n",
       "    <tr>\n",
       "      <th>lahm</th>\n",
       "      <td>0.286042</td>\n",
       "    </tr>\n",
       "    <tr>\n",
       "      <th>regeln</th>\n",
       "      <td>0.288744</td>\n",
       "    </tr>\n",
       "  </tbody>\n",
       "</table>\n",
       "</div>"
      ],
      "text/plain": [
       "           cosine\n",
       "zulässt  0.241259\n",
       "opfer    0.258436\n",
       "strich   0.260116\n",
       "lahm     0.286042\n",
       "regeln   0.288744"
      ]
     },
     "execution_count": 84,
     "metadata": {},
     "output_type": "execute_result"
    }
   ],
   "source": [
    "cosine_df_new = cosine_df.sort_values(by=['cosine'], axis=0).iloc[1:,:]\n",
    "cosine_df_new.head()"
   ]
  },
  {
   "cell_type": "code",
   "execution_count": 85,
   "metadata": {},
   "outputs": [
    {
     "data": {
      "text/plain": [
       "0.7610728726566199"
      ]
     },
     "execution_count": 85,
     "metadata": {},
     "output_type": "execute_result"
    }
   ],
   "source": [
    "statistics.mean(cosine_df_new['cosine']) "
   ]
  },
  {
   "cell_type": "code",
   "execution_count": 86,
   "metadata": {},
   "outputs": [
    {
     "data": {
      "text/plain": [
       "0.11993271194288001"
      ]
     },
     "execution_count": 86,
     "metadata": {},
     "output_type": "execute_result"
    }
   ],
   "source": [
    "statistics.stdev(cosine_df_new['cosine'])"
   ]
  },
  {
   "cell_type": "code",
   "execution_count": 87,
   "metadata": {},
   "outputs": [
    {
     "name": "stdout",
     "output_type": "stream",
     "text": [
      "der Normalbereich der Cosinus-Ähnlichkeit liegt über 0.6411401607137399\n"
     ]
    }
   ],
   "source": [
    "# neuer 'Normalbereich' der Cosinus-Ähnlichkeit\n",
    "\n",
    "border = statistics.mean(cosine_df_new['cosine']) - statistics.stdev(cosine_df_new['cosine'])\n",
    "\n",
    "print('der Normalbereich der Cosinus-Ähnlichkeit liegt über', border)"
   ]
  },
  {
   "cell_type": "markdown",
   "metadata": {},
   "source": [
    "### Ergebnis"
   ]
  },
  {
   "cell_type": "code",
   "execution_count": 88,
   "metadata": {},
   "outputs": [
    {
     "data": {
      "text/plain": [
       "True"
      ]
     },
     "execution_count": 88,
     "metadata": {},
     "output_type": "execute_result"
    }
   ],
   "source": [
    "cosine_abstandsregel < border"
   ]
  },
  {
   "cell_type": "code",
   "execution_count": 89,
   "metadata": {},
   "outputs": [
    {
     "data": {
      "text/plain": [
       "True"
      ]
     },
     "execution_count": 89,
     "metadata": {},
     "output_type": "execute_result"
    }
   ],
   "source": [
    "cosine_querdenker < border"
   ]
  },
  {
   "cell_type": "code",
   "execution_count": 90,
   "metadata": {},
   "outputs": [
    {
     "data": {
      "text/plain": [
       "True"
      ]
     },
     "execution_count": 90,
     "metadata": {},
     "output_type": "execute_result"
    }
   ],
   "source": [
    "cosine_maske < border"
   ]
  },
  {
   "cell_type": "code",
   "execution_count": 91,
   "metadata": {},
   "outputs": [
    {
     "data": {
      "text/plain": [
       "True"
      ]
     },
     "execution_count": 91,
     "metadata": {},
     "output_type": "execute_result"
    }
   ],
   "source": [
    "cosine_corona < border"
   ]
  },
  {
   "cell_type": "code",
   "execution_count": 92,
   "metadata": {},
   "outputs": [
    {
     "data": {
      "text/plain": [
       "True"
      ]
     },
     "execution_count": 92,
     "metadata": {},
     "output_type": "execute_result"
    }
   ],
   "source": [
    "cosine_kontaktverbot < border"
   ]
  },
  {
   "cell_type": "markdown",
   "metadata": {},
   "source": [
    "Die Cosinus-Ähnlichkeit zwischen den Vektoren liegt jeweils unterhalb des Normalbereichs. <br>\n",
    "Die Hypothese kann für diese Lemmas als verifiziert gelten. <br>"
   ]
  }
 ],
 "metadata": {
  "accelerator": "GPU",
  "colab": {
   "collapsed_sections": [],
   "name": "Fasttext Corona.ipynb",
   "provenance": []
  },
  "kernelspec": {
   "display_name": "Python 3",
   "language": "python",
   "name": "python3"
  },
  "language_info": {
   "codemirror_mode": {
    "name": "ipython",
    "version": 3
   },
   "file_extension": ".py",
   "mimetype": "text/x-python",
   "name": "python",
   "nbconvert_exporter": "python",
   "pygments_lexer": "ipython3",
   "version": "3.7.6"
  }
 },
 "nbformat": 4,
 "nbformat_minor": 1
}
