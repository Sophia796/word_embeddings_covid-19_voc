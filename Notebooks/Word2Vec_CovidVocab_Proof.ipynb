{
 "cells": [
  {
   "cell_type": "markdown",
   "metadata": {
    "id": "Oq24UvixibZR"
   },
   "source": [
    "# Covid-19-Wörter vor und nach Covid-19 - Überprüfung"
   ]
  },
  {
   "cell_type": "markdown",
   "metadata": {},
   "source": [
    "#### Lemmas\n",
    "- Abstandsregel\n",
    "- Corona\n",
    "- Maske\n",
    "- Kontaktverbot\n",
    "- Querdenker"
   ]
  },
  {
   "cell_type": "markdown",
   "metadata": {
    "id": "5FQnxIrfibZf"
   },
   "source": [
    "## Importe und Datenvorbereitung"
   ]
  },
  {
   "cell_type": "code",
   "execution_count": 1,
   "metadata": {
    "colab": {
     "base_uri": "https://localhost:8080/"
    },
    "id": "YIZS463EibZh",
    "outputId": "d8d8fe3f-70be-4322-a081-ba1b02ef7f2f"
   },
   "outputs": [],
   "source": [
    "import codecs\n",
    "import matplotlib.pyplot as plt\n",
    "import nltk\n",
    "import numpy as np\n",
    "import os\n",
    "import pandas as pd\n",
    "import re\n",
    "import scipy\n",
    "import seaborn as sns\n",
    "import spacy\n",
    "import statistics \n",
    "\n",
    "from gensim.models import KeyedVectors\n",
    "from gensim.models import Word2Vec\n",
    "from gensim.models.phrases import Phraser, Phrases\n",
    "from joblib import Parallel, delayed  \n",
    "from nltk.corpus import stopwords\n",
    "from scipy import spatial\n",
    "from sklearn.manifold import TSNE\n",
    "from tabulate import tabulate"
   ]
  },
  {
   "cell_type": "code",
   "execution_count": 2,
   "metadata": {
    "colab": {
     "base_uri": "https://localhost:8080/"
    },
    "id": "Bjlyp7Bjiu60",
    "outputId": "83b51d0b-4222-48c0-ecb3-a6a2d926c0ae",
    "scrolled": true
   },
   "outputs": [],
   "source": [
    "nlp = spacy.load('de_core_news_md')\n",
    "stopwords = stopwords.words('german')\n",
    "tokenizer = nltk.data.load('tokenizers/punkt/german.pickle')"
   ]
  },
  {
   "cell_type": "markdown",
   "metadata": {},
   "source": [
    "#### Korpus laden und vorbereiten"
   ]
  },
  {
   "cell_type": "code",
   "execution_count": 3,
   "metadata": {
    "colab": {
     "base_uri": "https://localhost:8080/",
     "height": 319
    },
    "id": "QaI8RPMJibZj",
    "outputId": "7a4e7af2-20e5-4048-a2b1-341f8c0a8568"
   },
   "outputs": [
    {
     "data": {
      "text/html": [
       "<div>\n",
       "<style scoped>\n",
       "    .dataframe tbody tr th:only-of-type {\n",
       "        vertical-align: middle;\n",
       "    }\n",
       "\n",
       "    .dataframe tbody tr th {\n",
       "        vertical-align: top;\n",
       "    }\n",
       "\n",
       "    .dataframe thead th {\n",
       "        text-align: right;\n",
       "    }\n",
       "</style>\n",
       "<table border=\"1\" class=\"dataframe\">\n",
       "  <thead>\n",
       "    <tr style=\"text-align: right;\">\n",
       "      <th></th>\n",
       "      <th>Corpus</th>\n",
       "      <th>Date</th>\n",
       "      <th>Genre</th>\n",
       "      <th>Bibl</th>\n",
       "      <th>ContextBefore</th>\n",
       "      <th>Hit</th>\n",
       "      <th>ContextAfter</th>\n",
       "    </tr>\n",
       "  </thead>\n",
       "  <tbody>\n",
       "    <tr>\n",
       "      <th>0</th>\n",
       "      <td>saar_regional</td>\n",
       "      <td>1993-02-01</td>\n",
       "      <td>Zeitung</td>\n",
       "      <td>Saarbrücker Zeitung, 01.02.1993</td>\n",
       "      <td>Filmprogramme Neunkirchen.</td>\n",
       "      <td>Corona 1: \"Bodyguard\" 15.30, 17.45, 20.15 Uhr.</td>\n",
       "      <td>Corona 2: \"Whoopi Sister act, eine himmlische ...</td>\n",
       "    </tr>\n",
       "    <tr>\n",
       "      <th>1</th>\n",
       "      <td>saar_regional</td>\n",
       "      <td>1993-02-01</td>\n",
       "      <td>Zeitung</td>\n",
       "      <td>Saarbrücker Zeitung, 01.02.1993</td>\n",
       "      <td>NaN</td>\n",
       "      <td>Von der farbkräftigen Maske (Venezianischer Tr...</td>\n",
       "      <td>NaN</td>\n",
       "    </tr>\n",
       "    <tr>\n",
       "      <th>2</th>\n",
       "      <td>saar_regional</td>\n",
       "      <td>1993-02-01</td>\n",
       "      <td>Zeitung</td>\n",
       "      <td>Saarbrücker Zeitung, 01.02.1993</td>\n",
       "      <td>Corona 1: \"Bodyguard\" 15.30, 17.45, 20.15 Uhr.</td>\n",
       "      <td>Corona 2: \"Whoopi Sister act, eine himmlische ...</td>\n",
       "      <td>Burg 1:15.15, 17.45 und 20.15 Uhr \"Der letzte ...</td>\n",
       "    </tr>\n",
       "    <tr>\n",
       "      <th>3</th>\n",
       "      <td>saar_regional</td>\n",
       "      <td>1993-02-03</td>\n",
       "      <td>Zeitung</td>\n",
       "      <td>Saarbrücker Zeitung, 03.02.1993</td>\n",
       "      <td>Corona 1: \"Bodyguard\" 15.30, 17.45, 20.15 Uhr.</td>\n",
       "      <td>Corona 2: \"Whoopi Sister act, eine himmlische ...</td>\n",
       "      <td>Burg 1:15.15, 17.45 und 20.15 Uhr \"Der letzte ...</td>\n",
       "    </tr>\n",
       "    <tr>\n",
       "      <th>4</th>\n",
       "      <td>saar_regional</td>\n",
       "      <td>1993-02-03</td>\n",
       "      <td>Zeitung</td>\n",
       "      <td>Saarbrücker Zeitung, 03.02.1993</td>\n",
       "      <td>Filmprogramme Neunkirchen.</td>\n",
       "      <td>Corona 1: \"Bodyguard\" 15.30, 17.45, 20.15 Uhr.</td>\n",
       "      <td>Corona 2: \"Whoopi Sister act, eine himmlische ...</td>\n",
       "    </tr>\n",
       "  </tbody>\n",
       "</table>\n",
       "</div>"
      ],
      "text/plain": [
       "          Corpus        Date    Genre                             Bibl  \\\n",
       "0  saar_regional  1993-02-01  Zeitung  Saarbrücker Zeitung, 01.02.1993   \n",
       "1  saar_regional  1993-02-01  Zeitung  Saarbrücker Zeitung, 01.02.1993   \n",
       "2  saar_regional  1993-02-01  Zeitung  Saarbrücker Zeitung, 01.02.1993   \n",
       "3  saar_regional  1993-02-03  Zeitung  Saarbrücker Zeitung, 03.02.1993   \n",
       "4  saar_regional  1993-02-03  Zeitung  Saarbrücker Zeitung, 03.02.1993   \n",
       "\n",
       "                                    ContextBefore  \\\n",
       "0                      Filmprogramme Neunkirchen.   \n",
       "1                                             NaN   \n",
       "2  Corona 1: \"Bodyguard\" 15.30, 17.45, 20.15 Uhr.   \n",
       "3  Corona 1: \"Bodyguard\" 15.30, 17.45, 20.15 Uhr.   \n",
       "4                      Filmprogramme Neunkirchen.   \n",
       "\n",
       "                                                 Hit  \\\n",
       "0     Corona 1: \"Bodyguard\" 15.30, 17.45, 20.15 Uhr.   \n",
       "1  Von der farbkräftigen Maske (Venezianischer Tr...   \n",
       "2  Corona 2: \"Whoopi Sister act, eine himmlische ...   \n",
       "3  Corona 2: \"Whoopi Sister act, eine himmlische ...   \n",
       "4     Corona 1: \"Bodyguard\" 15.30, 17.45, 20.15 Uhr.   \n",
       "\n",
       "                                        ContextAfter  \n",
       "0  Corona 2: \"Whoopi Sister act, eine himmlische ...  \n",
       "1                                                NaN  \n",
       "2  Burg 1:15.15, 17.45 und 20.15 Uhr \"Der letzte ...  \n",
       "3  Burg 1:15.15, 17.45 und 20.15 Uhr \"Der letzte ...  \n",
       "4  Corona 2: \"Whoopi Sister act, eine himmlische ...  "
      ]
     },
     "execution_count": 3,
     "metadata": {},
     "output_type": "execute_result"
    }
   ],
   "source": [
    "# die Datei enthält alle Treffer der oben genannten Lemmas im ZDL-Regionalkorpus des DWDS \n",
    "# mit jeweils einem Satz Kontext davor und danach\n",
    "\n",
    "df = pd.read_csv('../data/covid-vocab_1993-2021.csv', sep=',', encoding='utf-8')\n",
    "df.head()"
   ]
  },
  {
   "cell_type": "code",
   "execution_count": 4,
   "metadata": {},
   "outputs": [],
   "source": [
    "# NaN durch Whitespace ersetzen\n",
    "\n",
    "df = df.fillna(' ')"
   ]
  },
  {
   "cell_type": "code",
   "execution_count": 5,
   "metadata": {},
   "outputs": [],
   "source": [
    "# Wörter, die mit [...] anfangen löschen\n",
    "\n",
    "expression = '\\[...]\\w*'\n",
    "df = df.replace(to_replace = expression, value = ' ', regex=True)"
   ]
  },
  {
   "cell_type": "code",
   "execution_count": 6,
   "metadata": {},
   "outputs": [],
   "source": [
    "# bevor die Spalten verbunden werden: Whitespace einfügen, um ein Aneinanderkleben der Wörter zu verhindern\n",
    "\n",
    "df['ContextBefore'] = df['ContextBefore'].astype(str) + ' '\n",
    "df['ContextAfter'] = ' ' + df['ContextAfter'].astype(str) "
   ]
  },
  {
   "cell_type": "code",
   "execution_count": 7,
   "metadata": {},
   "outputs": [
    {
     "data": {
      "text/html": [
       "<div>\n",
       "<style scoped>\n",
       "    .dataframe tbody tr th:only-of-type {\n",
       "        vertical-align: middle;\n",
       "    }\n",
       "\n",
       "    .dataframe tbody tr th {\n",
       "        vertical-align: top;\n",
       "    }\n",
       "\n",
       "    .dataframe thead th {\n",
       "        text-align: right;\n",
       "    }\n",
       "</style>\n",
       "<table border=\"1\" class=\"dataframe\">\n",
       "  <thead>\n",
       "    <tr style=\"text-align: right;\">\n",
       "      <th></th>\n",
       "      <th>Corpus</th>\n",
       "      <th>Date</th>\n",
       "      <th>Genre</th>\n",
       "      <th>Bibl</th>\n",
       "      <th>ContextBefore</th>\n",
       "      <th>Hit</th>\n",
       "      <th>ContextAfter</th>\n",
       "      <th>Text</th>\n",
       "    </tr>\n",
       "  </thead>\n",
       "  <tbody>\n",
       "    <tr>\n",
       "      <th>0</th>\n",
       "      <td>saar_regional</td>\n",
       "      <td>1993-02-01</td>\n",
       "      <td>Zeitung</td>\n",
       "      <td>Saarbrücker Zeitung, 01.02.1993</td>\n",
       "      <td>Filmprogramme Neunkirchen.</td>\n",
       "      <td>Corona 1: \"Bodyguard\" 15.30, 17.45, 20.15 Uhr.</td>\n",
       "      <td>Corona 2: \"Whoopi Sister act, eine himmlische...</td>\n",
       "      <td>Filmprogramme Neunkirchen. Corona 1: \"Bodyguar...</td>\n",
       "    </tr>\n",
       "    <tr>\n",
       "      <th>1</th>\n",
       "      <td>saar_regional</td>\n",
       "      <td>1993-02-01</td>\n",
       "      <td>Zeitung</td>\n",
       "      <td>Saarbrücker Zeitung, 01.02.1993</td>\n",
       "      <td></td>\n",
       "      <td>Von der farbkräftigen Maske (Venezianischer Tr...</td>\n",
       "      <td></td>\n",
       "      <td>Von der farbkräftigen Maske (Venezianischer ...</td>\n",
       "    </tr>\n",
       "    <tr>\n",
       "      <th>2</th>\n",
       "      <td>saar_regional</td>\n",
       "      <td>1993-02-01</td>\n",
       "      <td>Zeitung</td>\n",
       "      <td>Saarbrücker Zeitung, 01.02.1993</td>\n",
       "      <td>Corona 1: \"Bodyguard\" 15.30, 17.45, 20.15 Uhr.</td>\n",
       "      <td>Corona 2: \"Whoopi Sister act, eine himmlische ...</td>\n",
       "      <td>Burg 1:15.15, 17.45 und 20.15 Uhr \"Der letzte...</td>\n",
       "      <td>Corona 1: \"Bodyguard\" 15.30, 17.45, 20.15 Uhr....</td>\n",
       "    </tr>\n",
       "    <tr>\n",
       "      <th>3</th>\n",
       "      <td>saar_regional</td>\n",
       "      <td>1993-02-03</td>\n",
       "      <td>Zeitung</td>\n",
       "      <td>Saarbrücker Zeitung, 03.02.1993</td>\n",
       "      <td>Corona 1: \"Bodyguard\" 15.30, 17.45, 20.15 Uhr.</td>\n",
       "      <td>Corona 2: \"Whoopi Sister act, eine himmlische ...</td>\n",
       "      <td>Burg 1:15.15, 17.45 und 20.15 Uhr \"Der letzte...</td>\n",
       "      <td>Corona 1: \"Bodyguard\" 15.30, 17.45, 20.15 Uhr....</td>\n",
       "    </tr>\n",
       "    <tr>\n",
       "      <th>4</th>\n",
       "      <td>saar_regional</td>\n",
       "      <td>1993-02-03</td>\n",
       "      <td>Zeitung</td>\n",
       "      <td>Saarbrücker Zeitung, 03.02.1993</td>\n",
       "      <td>Filmprogramme Neunkirchen.</td>\n",
       "      <td>Corona 1: \"Bodyguard\" 15.30, 17.45, 20.15 Uhr.</td>\n",
       "      <td>Corona 2: \"Whoopi Sister act, eine himmlische...</td>\n",
       "      <td>Filmprogramme Neunkirchen. Corona 1: \"Bodyguar...</td>\n",
       "    </tr>\n",
       "  </tbody>\n",
       "</table>\n",
       "</div>"
      ],
      "text/plain": [
       "          Corpus        Date    Genre                             Bibl  \\\n",
       "0  saar_regional  1993-02-01  Zeitung  Saarbrücker Zeitung, 01.02.1993   \n",
       "1  saar_regional  1993-02-01  Zeitung  Saarbrücker Zeitung, 01.02.1993   \n",
       "2  saar_regional  1993-02-01  Zeitung  Saarbrücker Zeitung, 01.02.1993   \n",
       "3  saar_regional  1993-02-03  Zeitung  Saarbrücker Zeitung, 03.02.1993   \n",
       "4  saar_regional  1993-02-03  Zeitung  Saarbrücker Zeitung, 03.02.1993   \n",
       "\n",
       "                                     ContextBefore  \\\n",
       "0                      Filmprogramme Neunkirchen.    \n",
       "1                                                    \n",
       "2  Corona 1: \"Bodyguard\" 15.30, 17.45, 20.15 Uhr.    \n",
       "3  Corona 1: \"Bodyguard\" 15.30, 17.45, 20.15 Uhr.    \n",
       "4                      Filmprogramme Neunkirchen.    \n",
       "\n",
       "                                                 Hit  \\\n",
       "0     Corona 1: \"Bodyguard\" 15.30, 17.45, 20.15 Uhr.   \n",
       "1  Von der farbkräftigen Maske (Venezianischer Tr...   \n",
       "2  Corona 2: \"Whoopi Sister act, eine himmlische ...   \n",
       "3  Corona 2: \"Whoopi Sister act, eine himmlische ...   \n",
       "4     Corona 1: \"Bodyguard\" 15.30, 17.45, 20.15 Uhr.   \n",
       "\n",
       "                                        ContextAfter  \\\n",
       "0   Corona 2: \"Whoopi Sister act, eine himmlische...   \n",
       "1                                                      \n",
       "2   Burg 1:15.15, 17.45 und 20.15 Uhr \"Der letzte...   \n",
       "3   Burg 1:15.15, 17.45 und 20.15 Uhr \"Der letzte...   \n",
       "4   Corona 2: \"Whoopi Sister act, eine himmlische...   \n",
       "\n",
       "                                                Text  \n",
       "0  Filmprogramme Neunkirchen. Corona 1: \"Bodyguar...  \n",
       "1    Von der farbkräftigen Maske (Venezianischer ...  \n",
       "2  Corona 1: \"Bodyguard\" 15.30, 17.45, 20.15 Uhr....  \n",
       "3  Corona 1: \"Bodyguard\" 15.30, 17.45, 20.15 Uhr....  \n",
       "4  Filmprogramme Neunkirchen. Corona 1: \"Bodyguar...  "
      ]
     },
     "execution_count": 7,
     "metadata": {},
     "output_type": "execute_result"
    }
   ],
   "source": [
    "# Text zu einer Spalte verbinden\n",
    "\n",
    "columns = ['ContextBefore', 'Hit', 'ContextAfter']\n",
    "\n",
    "df['Text'] = df[columns].astype(str).sum(axis=1)\n",
    "df.head()"
   ]
  },
  {
   "cell_type": "code",
   "execution_count": 8,
   "metadata": {},
   "outputs": [
    {
     "data": {
      "text/plain": [
       "(416493, 8)"
      ]
     },
     "execution_count": 8,
     "metadata": {},
     "output_type": "execute_result"
    }
   ],
   "source": [
    "# Größe des DF\n",
    "\n",
    "df.shape"
   ]
  },
  {
   "cell_type": "markdown",
   "metadata": {},
   "source": [
    "#### Korpus shuffeln und random in der Mitte in zwei Teile teilen"
   ]
  },
  {
   "cell_type": "code",
   "execution_count": 14,
   "metadata": {},
   "outputs": [
    {
     "data": {
      "text/html": [
       "<div>\n",
       "<style scoped>\n",
       "    .dataframe tbody tr th:only-of-type {\n",
       "        vertical-align: middle;\n",
       "    }\n",
       "\n",
       "    .dataframe tbody tr th {\n",
       "        vertical-align: top;\n",
       "    }\n",
       "\n",
       "    .dataframe thead th {\n",
       "        text-align: right;\n",
       "    }\n",
       "</style>\n",
       "<table border=\"1\" class=\"dataframe\">\n",
       "  <thead>\n",
       "    <tr style=\"text-align: right;\">\n",
       "      <th></th>\n",
       "      <th>Corpus</th>\n",
       "      <th>Date</th>\n",
       "      <th>Genre</th>\n",
       "      <th>Bibl</th>\n",
       "      <th>ContextBefore</th>\n",
       "      <th>Hit</th>\n",
       "      <th>ContextAfter</th>\n",
       "      <th>Text</th>\n",
       "    </tr>\n",
       "  </thead>\n",
       "  <tbody>\n",
       "    <tr>\n",
       "      <th>0</th>\n",
       "      <td>mib_regional</td>\n",
       "      <td>2020-08-28</td>\n",
       "      <td>Zeitung</td>\n",
       "      <td>Mittelbayerische, 28.08.2020</td>\n",
       "      <td>Beginn ist um 8 Uhr.</td>\n",
       "      <td>Masken werden gestellt.</td>\n",
       "      <td>Kosten pro Person 30 Euro.</td>\n",
       "      <td>Beginn ist um 8 Uhr. Masken werden gestellt. K...</td>\n",
       "    </tr>\n",
       "    <tr>\n",
       "      <th>1</th>\n",
       "      <td>saar_regional</td>\n",
       "      <td>2003-03-06</td>\n",
       "      <td>Zeitung</td>\n",
       "      <td>Saarbrücker Zeitung, 06.03.2003</td>\n",
       "      <td>\"Ring\" von Gore Verbinski (USA 2002).</td>\n",
       "      <td>- Cinestar (Sb), PK2 (Sb), Eden (Hom), Corona ...</td>\n",
       "      <td>\"Ein Chef zum Verlieben\" von Marc Lawrence (U...</td>\n",
       "      <td>\"Ring\" von Gore Verbinski (USA 2002). - Cinest...</td>\n",
       "    </tr>\n",
       "    <tr>\n",
       "      <th>2</th>\n",
       "      <td>rztg_regional</td>\n",
       "      <td>2005-04-14</td>\n",
       "      <td>Zeitung</td>\n",
       "      <td>Rhein-Zeitung, 14.04.2005</td>\n",
       "      <td>Unterlagen des Klosters eine Antwort zu find...</td>\n",
       "      <td>Vorerst hat man nur das Bildmaterial zur Hand,...</td>\n",
       "      <td>Da sieht man etliche der Patres beim fleißige...</td>\n",
       "      <td>Unterlagen des Klosters eine Antwort zu find...</td>\n",
       "    </tr>\n",
       "    <tr>\n",
       "      <th>3</th>\n",
       "      <td>sk_regional</td>\n",
       "      <td>2011-03-07</td>\n",
       "      <td>Zeitung</td>\n",
       "      <td>Südkurier, 07.03.2011</td>\n",
       "      <td>sich die \"Highlander\" aus Basel am Narresams...</td>\n",
       "      <td>Mit ihren gelb-karierten Kilts und Plaits und ...</td>\n",
       "      <td>Die Kinder der Maisenhardt-Joggele tanzten ih...</td>\n",
       "      <td>sich die \"Highlander\" aus Basel am Narresams...</td>\n",
       "    </tr>\n",
       "    <tr>\n",
       "      <th>4</th>\n",
       "      <td>saar_regional</td>\n",
       "      <td>2021-01-28</td>\n",
       "      <td>Zeitung</td>\n",
       "      <td>Saarbrücker Zeitung, 28.01.2021</td>\n",
       "      <td>Kolumne Lock-Buch</td>\n",
       "      <td>Warum nicht Corona wegzaubern?</td>\n",
       "      <td>Ich kann nicht zaubern.</td>\n",
       "      <td>Kolumne Lock-Buch Warum nicht Corona wegzauber...</td>\n",
       "    </tr>\n",
       "  </tbody>\n",
       "</table>\n",
       "</div>"
      ],
      "text/plain": [
       "          Corpus        Date    Genre                             Bibl  \\\n",
       "0   mib_regional  2020-08-28  Zeitung     Mittelbayerische, 28.08.2020   \n",
       "1  saar_regional  2003-03-06  Zeitung  Saarbrücker Zeitung, 06.03.2003   \n",
       "2  rztg_regional  2005-04-14  Zeitung        Rhein-Zeitung, 14.04.2005   \n",
       "3    sk_regional  2011-03-07  Zeitung            Südkurier, 07.03.2011   \n",
       "4  saar_regional  2021-01-28  Zeitung  Saarbrücker Zeitung, 28.01.2021   \n",
       "\n",
       "                                       ContextBefore  \\\n",
       "0                              Beginn ist um 8 Uhr.    \n",
       "1             \"Ring\" von Gore Verbinski (USA 2002).    \n",
       "2    Unterlagen des Klosters eine Antwort zu find...   \n",
       "3    sich die \"Highlander\" aus Basel am Narresams...   \n",
       "4                                 Kolumne Lock-Buch    \n",
       "\n",
       "                                                 Hit  \\\n",
       "0                            Masken werden gestellt.   \n",
       "1  - Cinestar (Sb), PK2 (Sb), Eden (Hom), Corona ...   \n",
       "2  Vorerst hat man nur das Bildmaterial zur Hand,...   \n",
       "3  Mit ihren gelb-karierten Kilts und Plaits und ...   \n",
       "4                     Warum nicht Corona wegzaubern?   \n",
       "\n",
       "                                        ContextAfter  \\\n",
       "0                         Kosten pro Person 30 Euro.   \n",
       "1   \"Ein Chef zum Verlieben\" von Marc Lawrence (U...   \n",
       "2   Da sieht man etliche der Patres beim fleißige...   \n",
       "3   Die Kinder der Maisenhardt-Joggele tanzten ih...   \n",
       "4                            Ich kann nicht zaubern.   \n",
       "\n",
       "                                                Text  \n",
       "0  Beginn ist um 8 Uhr. Masken werden gestellt. K...  \n",
       "1  \"Ring\" von Gore Verbinski (USA 2002). - Cinest...  \n",
       "2    Unterlagen des Klosters eine Antwort zu find...  \n",
       "3    sich die \"Highlander\" aus Basel am Narresams...  \n",
       "4  Kolumne Lock-Buch Warum nicht Corona wegzauber...  "
      ]
     },
     "execution_count": 14,
     "metadata": {},
     "output_type": "execute_result"
    }
   ],
   "source": [
    "# Shuffeln \n",
    "\n",
    "df_shuffled = df.sample(frac=1).reset_index(drop=True)\n",
    "df_shuffled.head()"
   ]
  },
  {
   "cell_type": "code",
   "execution_count": 15,
   "metadata": {},
   "outputs": [
    {
     "data": {
      "text/plain": [
       "208246.5"
      ]
     },
     "execution_count": 15,
     "metadata": {},
     "output_type": "execute_result"
    }
   ],
   "source": [
    "416493/2"
   ]
  },
  {
   "cell_type": "code",
   "execution_count": 16,
   "metadata": {
    "id": "6uioii_SibZl"
   },
   "outputs": [],
   "source": [
    "# Korpus in 2 Teilkorpora (Grenze in der Mitte des geshuffelten DF)\n",
    "\n",
    "df1 = df_shuffled.iloc[:208246,:]\n",
    "df2 = df_shuffled.iloc[208247:,:]"
   ]
  },
  {
   "cell_type": "code",
   "execution_count": 17,
   "metadata": {},
   "outputs": [
    {
     "data": {
      "text/html": [
       "<div>\n",
       "<style scoped>\n",
       "    .dataframe tbody tr th:only-of-type {\n",
       "        vertical-align: middle;\n",
       "    }\n",
       "\n",
       "    .dataframe tbody tr th {\n",
       "        vertical-align: top;\n",
       "    }\n",
       "\n",
       "    .dataframe thead th {\n",
       "        text-align: right;\n",
       "    }\n",
       "</style>\n",
       "<table border=\"1\" class=\"dataframe\">\n",
       "  <thead>\n",
       "    <tr style=\"text-align: right;\">\n",
       "      <th></th>\n",
       "      <th>Corpus</th>\n",
       "      <th>Date</th>\n",
       "      <th>Genre</th>\n",
       "      <th>Bibl</th>\n",
       "      <th>ContextBefore</th>\n",
       "      <th>Hit</th>\n",
       "      <th>ContextAfter</th>\n",
       "      <th>Text</th>\n",
       "    </tr>\n",
       "  </thead>\n",
       "  <tbody>\n",
       "    <tr>\n",
       "      <th>208247</th>\n",
       "      <td>svz_regional</td>\n",
       "      <td>2020-04-20</td>\n",
       "      <td>Zeitung</td>\n",
       "      <td>Schweriner Volkszeitung, 20.04.2020</td>\n",
       "      <td>, die dort, wo sie die größte filmische Wirku...</td>\n",
       "      <td>Einige dieser Objekte beschäftigen sich direkt...</td>\n",
       "      <td>Indem die Künstlerin sich selbst mehrfach mas...</td>\n",
       "      <td>, die dort, wo sie die größte filmische Wirku...</td>\n",
       "    </tr>\n",
       "    <tr>\n",
       "      <th>208248</th>\n",
       "      <td>lvz_regional</td>\n",
       "      <td>2021-06-23</td>\n",
       "      <td>Zeitung</td>\n",
       "      <td>Leipziger Volkszeitung, 23.06.2021</td>\n",
       "      <td>je 100000 Einwohner nachweislich an - wie in...</td>\n",
       "      <td>Ab Mitte Juli könnten laut der Einschätzung de...</td>\n",
       "      <td>Bisher wurden in Tschechien mit seinen 10,7 M...</td>\n",
       "      <td>je 100000 Einwohner nachweislich an - wie in...</td>\n",
       "    </tr>\n",
       "    <tr>\n",
       "      <th>208249</th>\n",
       "      <td>laz_regional</td>\n",
       "      <td>2020-04-09</td>\n",
       "      <td>Zeitung</td>\n",
       "      <td>Landshuter Zeitung, 09.04.2020</td>\n",
       "      <td>(red)</td>\n",
       "      <td>Der Bauernmarkt beim Biller ist trotz Corona K...</td>\n",
       "      <td>Diese Woche findet der Bauernmarkt am heutige...</td>\n",
       "      <td>(red) Der Bauernmarkt beim Biller ist trotz Co...</td>\n",
       "    </tr>\n",
       "    <tr>\n",
       "      <th>208250</th>\n",
       "      <td>dnn_regional</td>\n",
       "      <td>2021-02-12</td>\n",
       "      <td>Zeitung</td>\n",
       "      <td>Dresdner Neueste Nachrichten, 12.02.2021</td>\n",
       "      <td>Sicher durch die Krise:</td>\n",
       "      <td>Das lernen die DVB aus Corona</td>\n",
       "      <td>Das Hygieneregime und vor allem eine klare Ko...</td>\n",
       "      <td>Sicher durch die Krise: Das lernen die DVB aus...</td>\n",
       "    </tr>\n",
       "    <tr>\n",
       "      <th>208251</th>\n",
       "      <td>rztg_regional</td>\n",
       "      <td>2011-08-02</td>\n",
       "      <td>Zeitung</td>\n",
       "      <td>Rhein-Zeitung, 02.08.2011</td>\n",
       "      <td></td>\n",
       "      <td>Kirchen, Selbsthilfegruppe Schlafapnoe/Chronis...</td>\n",
       "      <td></td>\n",
       "      <td>Kirchen, Selbsthilfegruppe Schlafapnoe/Chron...</td>\n",
       "    </tr>\n",
       "  </tbody>\n",
       "</table>\n",
       "</div>"
      ],
      "text/plain": [
       "               Corpus        Date    Genre  \\\n",
       "208247   svz_regional  2020-04-20  Zeitung   \n",
       "208248   lvz_regional  2021-06-23  Zeitung   \n",
       "208249   laz_regional  2020-04-09  Zeitung   \n",
       "208250   dnn_regional  2021-02-12  Zeitung   \n",
       "208251  rztg_regional  2011-08-02  Zeitung   \n",
       "\n",
       "                                            Bibl  \\\n",
       "208247       Schweriner Volkszeitung, 20.04.2020   \n",
       "208248        Leipziger Volkszeitung, 23.06.2021   \n",
       "208249            Landshuter Zeitung, 09.04.2020   \n",
       "208250  Dresdner Neueste Nachrichten, 12.02.2021   \n",
       "208251                 Rhein-Zeitung, 02.08.2011   \n",
       "\n",
       "                                            ContextBefore  \\\n",
       "208247   , die dort, wo sie die größte filmische Wirku...   \n",
       "208248    je 100000 Einwohner nachweislich an - wie in...   \n",
       "208249                                             (red)    \n",
       "208250                           Sicher durch die Krise:    \n",
       "208251                                                      \n",
       "\n",
       "                                                      Hit  \\\n",
       "208247  Einige dieser Objekte beschäftigen sich direkt...   \n",
       "208248  Ab Mitte Juli könnten laut der Einschätzung de...   \n",
       "208249  Der Bauernmarkt beim Biller ist trotz Corona K...   \n",
       "208250                      Das lernen die DVB aus Corona   \n",
       "208251  Kirchen, Selbsthilfegruppe Schlafapnoe/Chronis...   \n",
       "\n",
       "                                             ContextAfter  \\\n",
       "208247   Indem die Künstlerin sich selbst mehrfach mas...   \n",
       "208248   Bisher wurden in Tschechien mit seinen 10,7 M...   \n",
       "208249   Diese Woche findet der Bauernmarkt am heutige...   \n",
       "208250   Das Hygieneregime und vor allem eine klare Ko...   \n",
       "208251                                                      \n",
       "\n",
       "                                                     Text  \n",
       "208247   , die dort, wo sie die größte filmische Wirku...  \n",
       "208248    je 100000 Einwohner nachweislich an - wie in...  \n",
       "208249  (red) Der Bauernmarkt beim Biller ist trotz Co...  \n",
       "208250  Sicher durch die Krise: Das lernen die DVB aus...  \n",
       "208251    Kirchen, Selbsthilfegruppe Schlafapnoe/Chron...  "
      ]
     },
     "execution_count": 17,
     "metadata": {},
     "output_type": "execute_result"
    }
   ],
   "source": [
    "df2.head()"
   ]
  },
  {
   "cell_type": "code",
   "execution_count": 18,
   "metadata": {},
   "outputs": [
    {
     "name": "stdout",
     "output_type": "stream",
     "text": [
      "(208246, 8) (208246, 8)\n"
     ]
    }
   ],
   "source": [
    "# Größe der Teilkorpora im Vergleich\n",
    "\n",
    "print(df1.shape, df2.shape)"
   ]
  },
  {
   "cell_type": "code",
   "execution_count": 22,
   "metadata": {},
   "outputs": [
    {
     "data": {
      "image/png": "[encoded data removed]",
      "text/plain": [
       "<Figure size 320x480 with 1 Axes>"
      ]
     },
     "metadata": {},
     "output_type": "display_data"
    }
   ],
   "source": [
    "plt.figure(figsize=[4, 6])\n",
    "plt.style.use('seaborn-whitegrid')\n",
    "\n",
    "data = [208246, 208246]\n",
    "labels = ['Teilkorpus1', 'Teilkorpus2']\n",
    "\n",
    "plt.xticks(range(len(data)), labels)\n",
    "plt.ylabel('Einträge im Korpus')\n",
    "plt.bar(range(len(data)), data, width=0.6)\n",
    "\n",
    "for i, j in zip(range(len(data)), data):\n",
    "    plt.annotate(j, xy=(i,j), xycoords='data', verticalalignment='bottom', horizontalalignment='center', \n",
    "                 fontsize='small', fontweight='demi')\n",
    "    \n",
    "#plt.savefig('../plots/Korpusvergleich_Shuffled.png', bbox_inches='tight')\n",
    "plt.show()"
   ]
  },
  {
   "cell_type": "markdown",
   "metadata": {},
   "source": [
    "#### Hilfsfunktionen zur Vorbereitung der Texte"
   ]
  },
  {
   "cell_type": "code",
   "execution_count": 29,
   "metadata": {},
   "outputs": [],
   "source": [
    "def lemmatize_text_column(df, column):\n",
    "    \"\"\"\n",
    "    transforms the Dataframe-column in a lemmatized string\n",
    "    \"\"\"\n",
    "    text = ''\n",
    "    for i in df[column]:\n",
    "        doc = nlp(i)\n",
    "        lemmas = ' '.join([x.lemma_ for x in doc])\n",
    "        text = text + lemmas\n",
    "    return text\n",
    "\n",
    "\n",
    "def sentence_to_wordlist(raw:str):\n",
    "    \"\"\"\n",
    "    cleans and tokenizes the sentences\n",
    "    \"\"\"\n",
    "    text = re.sub('[^A-Za-z_äÄöÖüÜß]',' ', raw).split()                              \n",
    "    filtered_text = [word for word in text if word not in stopwords]\n",
    "    return filtered_text\n",
    "\n",
    "\n",
    "def prepare_text(raw_text):\n",
    "    \"\"\"\n",
    "    returns a list of tokenized sentences\n",
    "    \"\"\"\n",
    "    raw_sentences = tokenizer.tokenize(str(raw_text).lower())    \n",
    "    tokenized_sentences = Parallel(n_jobs=-1)(delayed(sentence_to_wordlist)(raw_sentence) for raw_sentence in raw_sentences)\n",
    "    phrases = Phrases(tokenized_sentences)\n",
    "    bigram = Phraser(phrases)\n",
    "    sentences = list(bigram[tokenized_sentences])\n",
    "    return sentences"
   ]
  },
  {
   "cell_type": "markdown",
   "metadata": {},
   "source": [
    "#### Vorbereitung des ersten Texts "
   ]
  },
  {
   "cell_type": "code",
   "execution_count": 30,
   "metadata": {
    "id": "uVMUJzlpibZo",
    "outputId": "d9d2a45d-3e51-41e2-83a8-decaed115ab4"
   },
   "outputs": [
    {
     "name": "stdout",
     "output_type": "stream",
     "text": [
      "['persönlich_kontakt', 'wichtig', 'schwangere', 'wöchnersouffleusen', 'monika_meyer', 'ingrid', 'demaire']\n"
     ]
    }
   ],
   "source": [
    "text = lemmatize_text_column(df1, 'Text')\n",
    "sentences = prepare_text(text)\n",
    "\n",
    "# sentences ist eine Liste von tokenisierten Sätzen, zum Beispiel:\n",
    "print(sentences[15])"
   ]
  },
  {
   "cell_type": "markdown",
   "metadata": {},
   "source": [
    "#### Vorbereitung des zweiten Texts "
   ]
  },
  {
   "cell_type": "code",
   "execution_count": 31,
   "metadata": {},
   "outputs": [
    {
     "name": "stdout",
     "output_type": "stream",
     "text": [
      "['all', 'aufgabe', 'müssen', 'genau', 'planen', 'teamarbeit', 'bewälvon', 'kirsten_astor', 'konstanz', 'beim', 'stichwort', 'schule', 'gehen', 'monatelang', 'wechsel', 'fernunterricht', 'lüftungsanlagen', 'maske', 'coronatests']\n"
     ]
    }
   ],
   "source": [
    "text2 = lemmatize_text_column(df2, 'Text')            \n",
    "sentences2 = prepare_text(text2)\n",
    "\n",
    "print(sentences2[100])"
   ]
  },
  {
   "cell_type": "markdown",
   "metadata": {},
   "source": [
    "## Training von Word2Vec auf den Text vor Covid-19"
   ]
  },
  {
   "cell_type": "code",
   "execution_count": 32,
   "metadata": {
    "id": "HI1V5EARibZo"
   },
   "outputs": [],
   "source": [
    "# Paramter setzen\n",
    "workers = 4                      # Use these many worker threads to train the model (=faster training with multicore machines)\n",
    "seed = 42                        # Seed for the random number generator"
   ]
  },
  {
   "cell_type": "code",
   "execution_count": 33,
   "metadata": {
    "id": "gWLaiZ5cibZq"
   },
   "outputs": [],
   "source": [
    "# Ordner anlegen zum Abspeichern von trainierten Modellen\n",
    "if not os.path.exists('../trained_models'):\n",
    "    os.makedirs('../trained_models')"
   ]
  },
  {
   "cell_type": "code",
   "execution_count": 34,
   "metadata": {
    "id": "kpbrlbf0ibZq",
    "outputId": "1f537e5c-add4-40c4-8b31-49c6f8869309"
   },
   "outputs": [],
   "source": [
    "# Training\n",
    "\n",
    "w2v1 = Word2Vec(sentences=sentences,                   \n",
    "                 vector_size=300,          # Dimensionality of the word vectors\n",
    "                 window=10,                # The maximum distance between the current and predicted word within a sentence\n",
    "                 min_count=3,              # (int, optional) – The model ignores all words with total frequency lower than this\n",
    "                 workers=workers, \n",
    "                 min_alpha=0.0001,         # Learning rate will linearly drop to min_alpha as training progresses\n",
    "                 sg=1,                     # Training algorithm: skip-gram if sg=1, otherwise CBOW\n",
    "                 seed=seed)"
   ]
  },
  {
   "cell_type": "markdown",
   "metadata": {
    "id": "EH8M_UkAibZr"
   },
   "source": [
    "## Training von Word2Vec auf den Text nach Covid-19"
   ]
  },
  {
   "cell_type": "code",
   "execution_count": 35,
   "metadata": {
    "id": "Gfy3LgWyibZt",
    "outputId": "0962a7be-cecd-4c1f-a1e0-ba52aff1fdc1"
   },
   "outputs": [],
   "source": [
    "w2v2 = Word2Vec(sentences=sentences2,                   \n",
    "                 vector_size=300,                \n",
    "                 window=10,              \n",
    "                 min_count=3,             \n",
    "                 workers=workers, \n",
    "                 min_alpha=0.0001,                                                    \n",
    "                 sg=1,                     \n",
    "                 seed=seed)"
   ]
  },
  {
   "cell_type": "code",
   "execution_count": null,
   "metadata": {},
   "outputs": [],
   "source": [
    "# trainierte Modelle speichern\n",
    "w2v1.save(os.path.join('../trained_models', 'w2v1_covidvoc_proof.model'))\n",
    "w2v2.save(os.path.join('../trained_models', 'w2v2_covidvoc_proof.model'))"
   ]
  },
  {
   "cell_type": "markdown",
   "metadata": {},
   "source": [
    "## Exploration und Vergleich der Embeddings"
   ]
  },
  {
   "cell_type": "code",
   "execution_count": 23,
   "metadata": {},
   "outputs": [],
   "source": [
    "# trainierte Modelle laden\n",
    "w2v1 = Word2Vec.load(os.path.join('../trained_models', 'w2v1_covidvoc_proof.model'))\n",
    "w2v2 = Word2Vec.load(os.path.join('../trained_models', 'w2v2_covidvoc_proof.model'))"
   ]
  },
  {
   "cell_type": "code",
   "execution_count": 6,
   "metadata": {},
   "outputs": [
    {
     "data": {
      "text/plain": [
       "[('geltend_abstandsregeln', 0.7701268792152405),\n",
       " ('abstandsregeln_maskenpflicht', 0.768765389919281),\n",
       " ('abstandsregeln', 0.7610800266265869),\n",
       " ('einhaltung_abstandsregel', 0.7596372365951538),\n",
       " ('geboten_abstandsregeln', 0.7485668063163757),\n",
       " ('abstandsregel_meter', 0.7472391724586487),\n",
       " ('maskenpflicht_abstandsregeln', 0.7408834099769592),\n",
       " ('vorgeschrieben_abstandsregeln', 0.7291265726089478),\n",
       " ('abstandsregelung', 0.72797030210495),\n",
       " ('abstandsregelungen', 0.7276399731636047),\n",
       " ('abstandsregeln_hygienevorschriften', 0.7275987863540649),\n",
       " ('mindestabstände', 0.7247234582901001),\n",
       " ('coronabedingten_abstandsregeln', 0.7242799997329712),\n",
       " ('mindestabstand', 0.7237578630447388),\n",
       " ('hygienevorschriften_abstandsregeln', 0.7212684154510498),\n",
       " ('beachtung_abstandsregeln', 0.7202203273773193),\n",
       " ('zwei_meter', 0.717494010925293),\n",
       " ('gültig_abstandsregeln', 0.7170891165733337),\n",
       " ('gefordert_abstandsregeln', 0.716526210308075),\n",
       " ('sicherheitsabstände', 0.7120739221572876)]"
      ]
     },
     "execution_count": 6,
     "metadata": {},
     "output_type": "execute_result"
    }
   ],
   "source": [
    "w2v1.wv.most_similar(positive=['abstandsregel'], topn=20)"
   ]
  },
  {
   "cell_type": "code",
   "execution_count": 39,
   "metadata": {},
   "outputs": [
    {
     "data": {
      "text/plain": [
       "[('abstandsregeln', 0.7915059328079224),\n",
       " ('geltend_abstandsregeln', 0.7745211124420166),\n",
       " ('abstandsregel_meter', 0.7656550407409668),\n",
       " ('einhaltung_abstandsregeln', 0.7648481130599976),\n",
       " ('abstandsregeln_maskenpflicht', 0.7585480809211731),\n",
       " ('maskenpflicht_abstandsregeln', 0.7410424947738647),\n",
       " ('abstandsregeln_hygienevorschriften', 0.7240259647369385),\n",
       " ('coronabedingten_abstandsregeln', 0.721706211566925),\n",
       " ('gefordert_abstandsregeln', 0.7209890484809875),\n",
       " ('abstandsregelungen', 0.7185673117637634),\n",
       " ('geboten_abstandsregeln', 0.7053349614143372),\n",
       " ('mindestabstand_meter', 0.6953330039978027),\n",
       " ('vorgeschrieben_abstandsregeln', 0.6928499937057495),\n",
       " ('hygiene_abstandsregeln', 0.6917800903320312),\n",
       " ('mindestabstände', 0.6914039850234985),\n",
       " ('abstandsgebot', 0.6908648610115051),\n",
       " ('mindestabstand', 0.6905454993247986),\n",
       " ('abstandsregelung', 0.690310001373291),\n",
       " ('abstandsregeln_achten', 0.6900097131729126),\n",
       " ('abstandsregel_maskenpflicht', 0.6899303793907166)]"
      ]
     },
     "execution_count": 39,
     "metadata": {},
     "output_type": "execute_result"
    }
   ],
   "source": [
    "w2v2.wv.most_similar(positive=['abstandsregel'], topn=20)"
   ]
  },
  {
   "cell_type": "code",
   "execution_count": 40,
   "metadata": {
    "id": "okTISay5ibZv",
    "outputId": "8f2fe288-c8ba-4abc-881f-a2ed7c6e69f8"
   },
   "outputs": [
    {
     "data": {
      "text/plain": [
       "[('querdenkern', 0.6677117347717285),\n",
       " ('querdenkers', 0.5819493532180786),\n",
       " ('partei', 0.5489332675933838),\n",
       " ('sogenannt_querdenker', 0.5329312682151794),\n",
       " ('demokratie', 0.5228005051612854),\n",
       " ('politisch', 0.5210294127464294),\n",
       " ('querdenken', 0.5193929672241211),\n",
       " ('corona_leugner', 0.5162573456764221),\n",
       " ('kundgebung', 0.5093892216682434),\n",
       " ('rebell', 0.4945392608642578),\n",
       " ('kabarettist', 0.49372074007987976),\n",
       " ('nazi', 0.4887658655643463),\n",
       " ('zweifler', 0.48552003502845764),\n",
       " ('demo', 0.4850448668003082),\n",
       " ('politiker', 0.4841187298297882),\n",
       " ('heiner_geißler', 0.48384931683540344),\n",
       " ('afd', 0.4779796302318573),\n",
       " ('verschwörungstheoretiker', 0.47479668259620667),\n",
       " ('rechtsextreme', 0.47386422753334045),\n",
       " ('querdenker_bezeichnen', 0.4707520604133606)]"
      ]
     },
     "execution_count": 40,
     "metadata": {},
     "output_type": "execute_result"
    }
   ],
   "source": [
    "w2v1.wv.most_similar(positive=['querdenker'], topn=20)"
   ]
  },
  {
   "cell_type": "code",
   "execution_count": 41,
   "metadata": {
    "id": "twofLe79ibZw",
    "outputId": "baea5bc0-fcdb-4e83-c22c-37853c505e65"
   },
   "outputs": [
    {
     "data": {
      "text/plain": [
       "[('querdenkern', 0.6831921339035034),\n",
       " ('querdenken', 0.5550023913383484),\n",
       " ('kritiker', 0.5445088744163513),\n",
       " ('partei', 0.5352951884269714),\n",
       " ('querdenkers', 0.5341922640800476),\n",
       " ('politisch', 0.5334186553955078),\n",
       " ('rebell', 0.5332849621772766),\n",
       " ('corona_leugner', 0.5332393050193787),\n",
       " ('demokratie', 0.5207334756851196),\n",
       " ('sogenannt_querdenker', 0.5050901770591736),\n",
       " ('zweifler', 0.5003487467765808),\n",
       " ('reichsbürger', 0.49958354234695435),\n",
       " ('afd', 0.49501675367355347),\n",
       " ('unbequem_querdenker', 0.49327853322029114),\n",
       " ('anti', 0.49209779500961304),\n",
       " ('querdenker_bewegung', 0.4903837740421295),\n",
       " ('rechtsextremisten', 0.4900110363960266),\n",
       " ('ernannt_querdenker', 0.4821624755859375),\n",
       " ('reichsbürgern', 0.4816438853740692),\n",
       " ('heiner_geißler', 0.48048752546310425)]"
      ]
     },
     "execution_count": 41,
     "metadata": {},
     "output_type": "execute_result"
    }
   ],
   "source": [
    "w2v2.wv.most_similar(positive=['querdenker'], topn=20)"
   ]
  },
  {
   "cell_type": "code",
   "execution_count": 42,
   "metadata": {},
   "outputs": [
    {
     "data": {
      "text/plain": [
       "[('strapaze', 0.5987325310707092),\n",
       " ('krankenhäus', 0.5927661657333374),\n",
       " ('weißer_ring', 0.5877431631088257),\n",
       " ('faktor', 0.5877408385276794),\n",
       " ('tho', 0.585295557975769),\n",
       " ('hilfsang', 0.5850502848625183),\n",
       " ('vorwarnung', 0.5829862952232361),\n",
       " ('nittendorf', 0.5820106863975525),\n",
       " ('kreis_altenkirchen', 0.5806494951248169),\n",
       " ('müllmengen', 0.5790178179740906),\n",
       " ('inzidenzwertes', 0.5770630836486816),\n",
       " ('inf', 0.5747200846672058),\n",
       " ('pandemien', 0.574161946773529),\n",
       " ('herau', 0.5736324191093445),\n",
       " ('bu', 0.5731735229492188),\n",
       " ('pand', 0.5726583003997803),\n",
       " ('schleierfahnder', 0.5721743702888489),\n",
       " ('erfolgr', 0.5720962882041931),\n",
       " ('ande', 0.5706537961959839),\n",
       " ('wwer', 0.5705773234367371)]"
      ]
     },
     "execution_count": 42,
     "metadata": {},
     "output_type": "execute_result"
    }
   ],
   "source": [
    "w2v1.wv.most_similar(positive=['corona'], topn=20)"
   ]
  },
  {
   "cell_type": "code",
   "execution_count": 43,
   "metadata": {},
   "outputs": [
    {
     "data": {
      "text/plain": [
       "[('aktiv_dienst', 0.6278630495071411),\n",
       " ('landkreis_bamberg', 0.6010090708732605),\n",
       " ('verena_wehrle', 0.5977479219436646),\n",
       " ('euphorisch', 0.5959132313728333),\n",
       " ('seit_längerem', 0.5957773327827454),\n",
       " ('kath', 0.5950383543968201),\n",
       " ('pfarreiengemeinschaft_altenstadt', 0.5892712473869324),\n",
       " ('bere', 0.5890672206878662),\n",
       " ('berufsleben', 0.5858368873596191),\n",
       " ('konfrontation', 0.5847256183624268),\n",
       " ('schweinehalter', 0.5842107534408569),\n",
       " ('physis', 0.5839177966117859),\n",
       " ('erholungs', 0.5825784802436829),\n",
       " ('schi', 0.579191267490387),\n",
       " ('stetig_steigend', 0.5776932239532471),\n",
       " ('gem', 0.5776254534721375),\n",
       " ('nichtder', 0.5765896439552307),\n",
       " ('hä', 0.5761868953704834),\n",
       " ('bu', 0.5755386352539062),\n",
       " ('ort_wahrheit', 0.5752866864204407)]"
      ]
     },
     "execution_count": 43,
     "metadata": {},
     "output_type": "execute_result"
    }
   ],
   "source": [
    "w2v2.wv.most_similar(positive=['corona'], topn=20)"
   ]
  },
  {
   "cell_type": "code",
   "execution_count": 44,
   "metadata": {},
   "outputs": [
    {
     "data": {
      "text/plain": [
       "[('gesichtsmaske', 0.611844539642334),\n",
       " ('perücke', 0.5879767537117004),\n",
       " ('kleidungsstücke', 0.5789077877998352),\n",
       " ('gefertigt_maske', 0.5671688318252563),\n",
       " ('gesichtsschutz', 0.5669394731521606),\n",
       " ('schurke', 0.5636043548583984),\n",
       " ('falten', 0.5606070756912231),\n",
       " ('schemme', 0.5602198839187622),\n",
       " ('schale', 0.5601814389228821),\n",
       " ('angefertigt', 0.5579606294631958),\n",
       " ('gesichts', 0.55784672498703),\n",
       " ('halbmasken', 0.5564191341400146),\n",
       " ('leder', 0.5560787320137024),\n",
       " ('hergestellt', 0.5540332198143005),\n",
       " ('tuch', 0.553625762462616),\n",
       " ('gurke', 0.5533351898193359),\n",
       " ('schutzmaske', 0.552010178565979),\n",
       " ('handtaschen', 0.5511892437934875),\n",
       " ('make_up', 0.5508029460906982),\n",
       " ('stoffmaske', 0.5506318211555481)]"
      ]
     },
     "execution_count": 44,
     "metadata": {},
     "output_type": "execute_result"
    }
   ],
   "source": [
    "w2v1.wv.most_similar(positive=['maske'], topn=20)"
   ]
  },
  {
   "cell_type": "code",
   "execution_count": 45,
   "metadata": {},
   "outputs": [
    {
     "data": {
      "text/plain": [
       "[('taschenlampe', 0.5911465287208557),\n",
       " ('gesichtsmaske', 0.5900164842605591),\n",
       " ('umhang', 0.5872777700424194),\n",
       " ('perücke', 0.5833641290664673),\n",
       " ('stoffmasken', 0.5802402496337891),\n",
       " ('gefertigt_maske', 0.5801826119422913),\n",
       " ('modelle', 0.5739672183990479),\n",
       " ('verstauen', 0.5703433752059937),\n",
       " ('abdruck', 0.5651313662528992),\n",
       " ('maske_waffe', 0.5646113753318787),\n",
       " ('helm', 0.564320981502533),\n",
       " ('tuch', 0.5637840628623962),\n",
       " ('papiertüten', 0.5635735392570496),\n",
       " ('latex', 0.5620972514152527),\n",
       " ('utensil', 0.5612934231758118),\n",
       " ('gesichtsschutz', 0.5586518049240112),\n",
       " ('kleidungsstücke', 0.5584940314292908),\n",
       " ('holzmasken', 0.557597815990448),\n",
       " ('lungenautomat', 0.5568675994873047),\n",
       " ('steril', 0.5568419098854065)]"
      ]
     },
     "execution_count": 45,
     "metadata": {},
     "output_type": "execute_result"
    }
   ],
   "source": [
    "w2v2.wv.most_similar(positive=['maske'], topn=20)"
   ]
  },
  {
   "cell_type": "code",
   "execution_count": 46,
   "metadata": {},
   "outputs": [
    {
     "data": {
      "text/plain": [
       "[('kontaktverbote', 0.7696605324745178),\n",
       " ('kontaktverbots', 0.7527285814285278),\n",
       " ('erwirken', 0.7132073640823364),\n",
       " ('kontaktverbotes', 0.699994683265686),\n",
       " ('familiengericht', 0.6936256885528564),\n",
       " ('gerichtlich_kontaktverbot', 0.693515419960022),\n",
       " ('gewaltschutzgesetz', 0.6820884943008423),\n",
       " ('gerichtlich', 0.6812159419059753),\n",
       " ('kontaktverbot_verhängen', 0.6667863726615906),\n",
       " ('verhängen', 0.663589358329773),\n",
       " ('gemeinsam_wohnung', 0.6618293523788452),\n",
       " ('näherungs', 0.6508514285087585),\n",
       " ('haftstrafe', 0.6499714851379395),\n",
       " ('ex_freundin', 0.6494500041007996),\n",
       " ('trennung', 0.6479063034057617),\n",
       " ('ex_frau', 0.647412121295929),\n",
       " ('minderjährige', 0.6462560892105103),\n",
       " ('ehegatte', 0.6410043835639954),\n",
       " ('trennen_lebend', 0.6398888230323792),\n",
       " ('kontaktverbot_aussprechen', 0.6393277645111084)]"
      ]
     },
     "execution_count": 46,
     "metadata": {},
     "output_type": "execute_result"
    }
   ],
   "source": [
    "w2v1.wv.most_similar(positive=['kontaktverbot'], topn=20)"
   ]
  },
  {
   "cell_type": "code",
   "execution_count": 47,
   "metadata": {},
   "outputs": [
    {
     "data": {
      "text/plain": [
       "[('kontaktverbots', 0.7545434236526489),\n",
       " ('kontaktverbote', 0.7519899010658264),\n",
       " ('gerichtlich', 0.6998516321182251),\n",
       " ('verhängen', 0.6937190294265747),\n",
       " ('kontaktverbotes', 0.6933520436286926),\n",
       " ('erwirken', 0.690180242061615),\n",
       " ('angeklagte', 0.6705118417739868),\n",
       " ('kontaktverboten', 0.666558027267456),\n",
       " ('platzverweis', 0.6639909148216248),\n",
       " ('polizeilich_kontaktverbot', 0.6628536581993103),\n",
       " ('gewaltschutzgesetz', 0.6610758900642395),\n",
       " ('ex_freundin', 0.6593270897865295),\n",
       " ('kontaktverbot_aussprechen', 0.6579135060310364),\n",
       " ('gerichtlich_kontaktverbot', 0.6498368978500366),\n",
       " ('ausgangsbeschränkungen', 0.6476878523826599),\n",
       " ('geschieden', 0.6389782428741455),\n",
       " ('körperverletzung', 0.6381058692932129),\n",
       " ('verhängen_kontaktverbot', 0.6359133720397949),\n",
       " ('näherungs_kontaktverbot', 0.6305239796638489),\n",
       " ('zahlung_euro', 0.6301316618919373)]"
      ]
     },
     "execution_count": 47,
     "metadata": {},
     "output_type": "execute_result"
    }
   ],
   "source": [
    "w2v2.wv.most_similar(positive=['kontaktverbot'], topn=20)"
   ]
  },
  {
   "cell_type": "code",
   "execution_count": 48,
   "metadata": {},
   "outputs": [
    {
     "data": {
      "text/plain": [
       "[('krankheit', 0.5995078086853027),\n",
       " ('grippe', 0.5906738042831421),\n",
       " ('digital_unterricht', 0.5724870562553406),\n",
       " ('entwickler_ih', 0.5688995122909546),\n",
       " ('bamberger_computer', 0.5648005604743958),\n",
       " ('epidemie', 0.5628247261047363),\n",
       " ('sars_cov', 0.5626935362815857),\n",
       " ('krise_leisten', 0.5625532865524292),\n",
       " ('coronavirus', 0.5605601668357849),\n",
       " ('ausbreitung', 0.560135006904602),\n",
       " ('hilfesuchend_verbinden', 0.5455876588821411),\n",
       " ('erreger', 0.5414254069328308),\n",
       " ('reale_helfer', 0.541212260723114),\n",
       " ('hiv', 0.5393618941307068),\n",
       " ('computergestützte_ortung', 0.5351648330688477),\n",
       " ('seuche', 0.5343260765075684),\n",
       " ('virtuelle_apps', 0.5337358117103577),\n",
       " ('covid', 0.5289719104766846),\n",
       " ('keim', 0.527550458908081),\n",
       " ('lebenswichtig_lieferung', 0.5273190140724182)]"
      ]
     },
     "execution_count": 48,
     "metadata": {},
     "output_type": "execute_result"
    }
   ],
   "source": [
    "w2v1.wv.most_similar(positive=['virus'], topn=20)"
   ]
  },
  {
   "cell_type": "code",
   "execution_count": 49,
   "metadata": {},
   "outputs": [
    {
     "data": {
      "text/plain": [
       "[('coronavirus', 0.6124714016914368),\n",
       " ('covid', 0.5929511189460754),\n",
       " ('bekämpfen', 0.5776335000991821),\n",
       " ('verbreitung', 0.5749279856681824),\n",
       " ('ausbreitung', 0.5743873715400696),\n",
       " ('krankheit', 0.5734677910804749),\n",
       " ('infektion', 0.5730469226837158),\n",
       " ('delta_variante', 0.5637614727020264),\n",
       " ('seuche', 0.5594642162322998),\n",
       " ('sars_cov', 0.5584248304367065),\n",
       " ('grippe', 0.5494418144226074),\n",
       " ('ansteckend', 0.5466501116752625),\n",
       " ('sars', 0.5419886708259583),\n",
       " ('mutation', 0.5402911305427551),\n",
       " ('grippal_infekt', 0.5394871830940247),\n",
       " ('erreger', 0.5332973003387451),\n",
       " ('viren', 0.5324938297271729),\n",
       " ('epidemie', 0.5324164628982544),\n",
       " ('influenza', 0.5306320786476135),\n",
       " ('erkrankung', 0.5299732089042664)]"
      ]
     },
     "execution_count": 49,
     "metadata": {},
     "output_type": "execute_result"
    }
   ],
   "source": [
    "w2v2.wv.most_similar(positive=['virus'], topn=20)"
   ]
  },
  {
   "cell_type": "markdown",
   "metadata": {},
   "source": [
    "## Ausrichtung der beiden Embedding-Modelle"
   ]
  },
  {
   "cell_type": "code",
   "execution_count": 50,
   "metadata": {},
   "outputs": [],
   "source": [
    "# Quelle: https://gist.github.com/zhicongchen/9e23d5c3f1e5b1293b16133485cd17d8\n",
    "\n",
    "def smart_procrustes_align_gensim(base_embed, other_embed, words=None):\n",
    "    \"\"\"\n",
    "    Original script: https://gist.github.com/quadrismegistus/09a93e219a6ffc4f216fb85235535faf\n",
    "    Updatet script: https://gist.github.com/zhicongchen/9e23d5c3f1e5b1293b16133485cd17d8\n",
    "    Procrustes align two gensim models (to allow for comparison between same word across models).\n",
    "    Code ported from HistWords <https://github.com/williamleif/histwords> by William Hamilton <wleif@stanford.edu>.\n",
    "        \n",
    "    First, intersect the vocabularies (see `intersection_align_gensim` documentation).\n",
    "    Then do the alignment on the other_embed model.\n",
    "    Replace the other_embed model's syn0 and syn0norm numpy matrices with the aligned version.\n",
    "    Return other_embed.\n",
    "\n",
    "    If `words` is set, intersect the two models' vocabulary with the vocabulary in words (see `intersection_align_gensim` documentation).\n",
    "    \"\"\"\n",
    "\n",
    "    # patch by Richard So [https://twitter.com/richardjeanso) (thanks!) to update this code for new version of gensim\n",
    "    # base_embed.init_sims(replace=True)\n",
    "    # other_embed.init_sims(replace=True)\n",
    "\n",
    "    # make sure vocabulary and indices are aligned\n",
    "    in_base_embed, in_other_embed = intersection_align_gensim(base_embed, other_embed, words=words)\n",
    "    \n",
    "    # re-filling the normed vectors\n",
    "    in_base_embed.wv.fill_norms(force=True)\n",
    "    in_other_embed.wv.fill_norms(force=True)\n",
    "\n",
    "    # get the (normalized) embedding matrices\n",
    "    base_vecs = in_base_embed.wv.get_normed_vectors()\n",
    "    other_vecs = in_other_embed.wv.get_normed_vectors()\n",
    "\n",
    "    # just a matrix dot product with numpy\n",
    "    m = other_vecs.T.dot(base_vecs) \n",
    "    # SVD method from numpy\n",
    "    u, _, v = np.linalg.svd(m)\n",
    "    # another matrix operation\n",
    "    ortho = u.dot(v) \n",
    "    # Replace original array with modified one, i.e. multiplying the embedding matrix by \"ortho\"\n",
    "    other_embed.wv.vectors = (other_embed.wv.vectors).dot(ortho)    \n",
    "    \n",
    "    return other_embed\n",
    "\n",
    "def intersection_align_gensim(m1, m2, words=None):\n",
    "    \"\"\"\n",
    "    Intersect two gensim models, m1 and m2.\n",
    "    Only the shared vocabulary between them is kept.\n",
    "    If 'words' is set (as list or set), then the vocabulary is intersected with this list as well.\n",
    "    Indices are re-organized from 0..N in order of descending frequency (=sum of counts from both m1 and m2).\n",
    "    These indices correspond to the new syn0 and syn0norm objects in both gensim models:\n",
    "        -- so that Row 0 of m1.syn0 will be for the same word as Row 0 of m2.syn0\n",
    "        -- you can find the index of any word on the .index2word list: model.index2word.index(word) => 2\n",
    "    The .vocab dictionary is also updated for each model, preserving the count but updating the index.\n",
    "    \"\"\"\n",
    "\n",
    "    # Get the vocab for each model\n",
    "    vocab_m1 = set(m1.wv.index_to_key)\n",
    "    vocab_m2 = set(m2.wv.index_to_key)\n",
    "\n",
    "    # Find the common vocabulary\n",
    "    common_vocab = vocab_m1 & vocab_m2\n",
    "    if words: common_vocab &= set(words)\n",
    "\n",
    "    # If no alignment necessary because vocab is identical...\n",
    "    if not vocab_m1 - common_vocab and not vocab_m2 - common_vocab:\n",
    "        return (m1,m2)\n",
    "\n",
    "    # Otherwise sort by frequency (summed for both)\n",
    "    common_vocab = list(common_vocab)\n",
    "    common_vocab.sort(key=lambda w: m1.wv.get_vecattr(w, \"count\") + m2.wv.get_vecattr(w, \"count\"), reverse=True)\n",
    "    # print(len(common_vocab))\n",
    "\n",
    "    # Then for each model...\n",
    "    for m in [m1, m2]:\n",
    "        # Replace old syn0norm array with new one (with common vocab)\n",
    "        indices = [m.wv.key_to_index[w] for w in common_vocab]\n",
    "        old_arr = m.wv.vectors\n",
    "        new_arr = np.array([old_arr[index] for index in indices])\n",
    "        m.wv.vectors = new_arr\n",
    "\n",
    "        # Replace old vocab dictionary with new one (with common vocab)\n",
    "        # and old index2word with new one\n",
    "        new_key_to_index = {}\n",
    "        new_index_to_key = []\n",
    "        for new_index, key in enumerate(common_vocab):\n",
    "            new_key_to_index[key] = new_index\n",
    "            new_index_to_key.append(key)\n",
    "        m.wv.key_to_index = new_key_to_index\n",
    "        m.wv.index_to_key = new_index_to_key\n",
    "        \n",
    "        print(len(m.wv.key_to_index), len(m.wv.vectors))\n",
    "        \n",
    "    return (m1,m2)"
   ]
  },
  {
   "cell_type": "code",
   "execution_count": 51,
   "metadata": {},
   "outputs": [
    {
     "name": "stdout",
     "output_type": "stream",
     "text": [
      "59613 59613\n",
      "59613 59613\n"
     ]
    }
   ],
   "source": [
    "# Ausrichtung der beiden Modelle\n",
    "\n",
    "w2v2_al = smart_procrustes_align_gensim(w2v1, w2v2)"
   ]
  },
  {
   "cell_type": "code",
   "execution_count": 52,
   "metadata": {},
   "outputs": [],
   "source": [
    "# speichern\n",
    "w2v2_al.save(os.path.join('../trained_models', 'w2v2_al_covidvoc.model'))"
   ]
  },
  {
   "cell_type": "markdown",
   "metadata": {},
   "source": [
    "## Cosinus-Ähnlichkeit zwischen den Vektoren der beiden Modelle"
   ]
  },
  {
   "cell_type": "code",
   "execution_count": 24,
   "metadata": {},
   "outputs": [],
   "source": [
    "# laden\n",
    "w2v2_al = Word2Vec.load(os.path.join('../trained_models', 'w2v2_al_covidvoc.model'))"
   ]
  },
  {
   "cell_type": "markdown",
   "metadata": {},
   "source": [
    "#### Exploration"
   ]
  },
  {
   "cell_type": "code",
   "execution_count": 46,
   "metadata": {},
   "outputs": [
    {
     "data": {
      "text/plain": [
       "[('querdenkern', 0.6831921339035034),\n",
       " ('querdenken', 0.5550023913383484),\n",
       " ('kritiker', 0.5445088744163513),\n",
       " ('partei', 0.5352951288223267),\n",
       " ('querdenkers', 0.5341922044754028),\n",
       " ('politisch', 0.533418595790863),\n",
       " ('rebell', 0.5332849621772766),\n",
       " ('corona_leugner', 0.5332393646240234),\n",
       " ('demokratie', 0.5207335352897644),\n",
       " ('sogenannt_querdenker', 0.5050901770591736),\n",
       " ('zweifler', 0.5003488063812256),\n",
       " ('reichsbürger', 0.49958354234695435),\n",
       " ('afd', 0.4950166940689087),\n",
       " ('unbequem_querdenker', 0.49327853322029114),\n",
       " ('anti', 0.49209776520729065),\n",
       " ('querdenker_bewegung', 0.49038371443748474),\n",
       " ('rechtsextremisten', 0.4900110363960266),\n",
       " ('ernannt_querdenker', 0.4821625053882599),\n",
       " ('reichsbürgern', 0.4816438853740692),\n",
       " ('heiner_geißler', 0.48048752546310425),\n",
       " ('protest', 0.4804638922214508),\n",
       " ('bodo_schiffmann', 0.4738032817840576),\n",
       " ('rechtsextreme', 0.4730693995952606),\n",
       " ('groß_zyniker', 0.47176963090896606),\n",
       " ('rechte', 0.47104668617248535)]"
      ]
     },
     "execution_count": 46,
     "metadata": {},
     "output_type": "execute_result"
    }
   ],
   "source": [
    "# ähnliche Wörter zu 'querdenker' nach Covid-19\n",
    "w2v2_al.wv.most_similar(positive=['querdenker'], topn=25)"
   ]
  },
  {
   "cell_type": "code",
   "execution_count": 47,
   "metadata": {},
   "outputs": [
    {
     "data": {
      "text/plain": [
       "0.8919187188148499"
      ]
     },
     "execution_count": 47,
     "metadata": {},
     "output_type": "execute_result"
    }
   ],
   "source": [
    "vector_querdenker1 = w2v1.wv['querdenker']  \n",
    "vector_querdenker2_al = w2v2_al.wv['querdenker'] \n",
    "\n",
    "cosine_querdenker = 1 - spatial.distance.cosine(vector_querdenker1, vector_querdenker2_al)\n",
    "cosine_querdenker"
   ]
  },
  {
   "cell_type": "code",
   "execution_count": 48,
   "metadata": {},
   "outputs": [
    {
     "data": {
      "text/plain": [
       "0.8980690240859985"
      ]
     },
     "execution_count": 48,
     "metadata": {},
     "output_type": "execute_result"
    }
   ],
   "source": [
    "vector_abstandsregel1 = w2v1.wv['abstandsregel']  \n",
    "vector_abstandsregel2_al = w2v2_al.wv['abstandsregel'] \n",
    "\n",
    "cosine_abstandsregel = 1 - spatial.distance.cosine(vector_abstandsregel1, vector_abstandsregel2_al)\n",
    "cosine_abstandsregel"
   ]
  },
  {
   "cell_type": "code",
   "execution_count": 49,
   "metadata": {},
   "outputs": [
    {
     "data": {
      "text/plain": [
       "0.929179310798645"
      ]
     },
     "execution_count": 49,
     "metadata": {},
     "output_type": "execute_result"
    }
   ],
   "source": [
    "vector_maske1 = w2v1.wv['maske']  \n",
    "vector_maske2_al = w2v2_al.wv['maske'] \n",
    "\n",
    "cosine_maske = 1 - spatial.distance.cosine(vector_maske1, vector_maske2_al)\n",
    "cosine_maske"
   ]
  },
  {
   "cell_type": "code",
   "execution_count": 50,
   "metadata": {},
   "outputs": [
    {
     "data": {
      "text/plain": [
       "0.8616482615470886"
      ]
     },
     "execution_count": 50,
     "metadata": {},
     "output_type": "execute_result"
    }
   ],
   "source": [
    "vector_kontaktverbot1 = w2v1.wv['kontaktverbot']  \n",
    "vector_kontaktverbot2_al = w2v2_al.wv['kontaktverbot'] \n",
    "\n",
    "cosine_kontaktverbot = 1 - spatial.distance.cosine(vector_kontaktverbot1, vector_kontaktverbot2_al)\n",
    "cosine_kontaktverbot"
   ]
  },
  {
   "cell_type": "code",
   "execution_count": 51,
   "metadata": {},
   "outputs": [
    {
     "data": {
      "text/plain": [
       "0.9309435486793518"
      ]
     },
     "execution_count": 51,
     "metadata": {},
     "output_type": "execute_result"
    }
   ],
   "source": [
    "vector_corona1 = w2v1.wv['corona']  \n",
    "vector_corona2_al = w2v2_al.wv['corona'] \n",
    "\n",
    "cosine_corona = 1 - spatial.distance.cosine(vector_corona1, vector_corona2_al)\n",
    "cosine_corona"
   ]
  },
  {
   "cell_type": "markdown",
   "metadata": {},
   "source": [
    "### durchschnittliche Cosinus-Ähnlichkeit, Standardweichung und 5%-Quantil"
   ]
  },
  {
   "cell_type": "code",
   "execution_count": 25,
   "metadata": {},
   "outputs": [],
   "source": [
    "# alle Wörter, die in beiden Modellen vorkommmen\n",
    "\n",
    "vocab1 = set(w2v1.wv.index_to_key)\n",
    "vocab2_al = set(w2v2_al.wv.index_to_key)\n",
    "\n",
    "common_vocab = vocab1 & vocab2_al"
   ]
  },
  {
   "cell_type": "code",
   "execution_count": 26,
   "metadata": {},
   "outputs": [
    {
     "data": {
      "text/plain": [
       "59613"
      ]
     },
     "execution_count": 26,
     "metadata": {},
     "output_type": "execute_result"
    }
   ],
   "source": [
    "len(common_vocab)"
   ]
  },
  {
   "cell_type": "code",
   "execution_count": 27,
   "metadata": {},
   "outputs": [],
   "source": [
    "# Cosinus-Ähnlichkeit zwischen dem Wort in den beiden Modellen berechnen\n",
    "\n",
    "cosines = {}\n",
    "\n",
    "for word in common_vocab:\n",
    "    vector1 = w2v1.wv[word]  \n",
    "    vector2_al = w2v2_al.wv[word] \n",
    "    cosine = 1 - spatial.distance.cosine(vector1, vector2_al)\n",
    "    cosines[word] = cosine"
   ]
  },
  {
   "cell_type": "code",
   "execution_count": 35,
   "metadata": {},
   "outputs": [
    {
     "data": {
      "text/html": [
       "<div>\n",
       "<style scoped>\n",
       "    .dataframe tbody tr th:only-of-type {\n",
       "        vertical-align: middle;\n",
       "    }\n",
       "\n",
       "    .dataframe tbody tr th {\n",
       "        vertical-align: top;\n",
       "    }\n",
       "\n",
       "    .dataframe thead th {\n",
       "        text-align: right;\n",
       "    }\n",
       "</style>\n",
       "<table border=\"1\" class=\"dataframe\">\n",
       "  <thead>\n",
       "    <tr style=\"text-align: right;\">\n",
       "      <th></th>\n",
       "      <th>cosine</th>\n",
       "    </tr>\n",
       "  </thead>\n",
       "  <tbody>\n",
       "    <tr>\n",
       "      <th>umriss</th>\n",
       "      <td>0.909572</td>\n",
       "    </tr>\n",
       "    <tr>\n",
       "      <th>pommes</th>\n",
       "      <td>0.824309</td>\n",
       "    </tr>\n",
       "    <tr>\n",
       "      <th>stadtranderholung</th>\n",
       "      <td>0.894654</td>\n",
       "    </tr>\n",
       "    <tr>\n",
       "      <th>skiverband</th>\n",
       "      <td>0.936502</td>\n",
       "    </tr>\n",
       "    <tr>\n",
       "      <th>verlierer</th>\n",
       "      <td>0.874112</td>\n",
       "    </tr>\n",
       "  </tbody>\n",
       "</table>\n",
       "</div>"
      ],
      "text/plain": [
       "                     cosine\n",
       "umriss             0.909572\n",
       "pommes             0.824309\n",
       "stadtranderholung  0.894654\n",
       "skiverband         0.936502\n",
       "verlierer          0.874112"
      ]
     },
     "execution_count": 35,
     "metadata": {},
     "output_type": "execute_result"
    }
   ],
   "source": [
    "cosine_df = pd.DataFrame.from_dict(cosines, orient='index', columns=['cosine'])\n",
    "cosine_df.iloc[57:62]        # random Ausschnitt"
   ]
  },
  {
   "cell_type": "code",
   "execution_count": 36,
   "metadata": {},
   "outputs": [
    {
     "data": {
      "text/plain": [
       "0.8898709109070201"
      ]
     },
     "execution_count": 36,
     "metadata": {},
     "output_type": "execute_result"
    }
   ],
   "source": [
    "# durchschnittliche Cosinus-Ähnlichkeit der Wörter der beiden Modelle \n",
    "\n",
    "statistics.mean(cosine_df['cosine'])"
   ]
  },
  {
   "cell_type": "code",
   "execution_count": 37,
   "metadata": {},
   "outputs": [
    {
     "data": {
      "text/plain": [
       "0.9014507532119751"
      ]
     },
     "execution_count": 37,
     "metadata": {},
     "output_type": "execute_result"
    }
   ],
   "source": [
    "# Median\n",
    "\n",
    "statistics.median(cosine_df['cosine'])"
   ]
  },
  {
   "cell_type": "code",
   "execution_count": 38,
   "metadata": {},
   "outputs": [
    {
     "data": {
      "text/plain": [
       "0.056941916001396066"
      ]
     },
     "execution_count": 38,
     "metadata": {},
     "output_type": "execute_result"
    }
   ],
   "source": [
    "# Standardabweichung\n",
    "\n",
    "statistics.stdev(cosine_df['cosine'])"
   ]
  },
  {
   "cell_type": "code",
   "execution_count": 42,
   "metadata": {},
   "outputs": [
    {
     "data": {
      "image/png": "[encoded data removed]",
      "text/plain": [
       "<Figure size 800x640 with 1 Axes>"
      ]
     },
     "metadata": {},
     "output_type": "display_data"
    }
   ],
   "source": [
    "# Verteilung der Cosinus-Ähnlichkeit der Wörter der beiden Modelle als Histogramm\n",
    "\n",
    "plt.figure(figsize=[10, 8])\n",
    "plt.style.use('seaborn-whitegrid')\n",
    "plt.hist(cosine_df['cosine'])\n",
    "plt.xticks(np.arange(0, 1.1, step=0.1))\n",
    "plt.xlabel('Cosinus-Ähnlichkeit')\n",
    "plt.ylabel('Häufigkeit')        \n",
    "#plt.savefig('../plots/VerteilungCosinusÄhnlichkeit_Shuffled.png', bbox_inches='tight')\n",
    "plt.show()"
   ]
  },
  {
   "cell_type": "code",
   "execution_count": 43,
   "metadata": {},
   "outputs": [
    {
     "data": {
      "text/plain": [
       "0.7801095962524414"
      ]
     },
     "execution_count": 43,
     "metadata": {},
     "output_type": "execute_result"
    }
   ],
   "source": [
    "# 5%-Quantil\n",
    "\n",
    "border = np.quantile(cosine_df['cosine'], 0.05)\n",
    "border"
   ]
  },
  {
   "cell_type": "code",
   "execution_count": 44,
   "metadata": {},
   "outputs": [
    {
     "data": {
      "image/png": "[encoded data removed]",
      "text/plain": [
       "<Figure size 800x640 with 1 Axes>"
      ]
     },
     "metadata": {},
     "output_type": "display_data"
    }
   ],
   "source": [
    "# Verteilung der Cosinus-Ähnlichkeit der Wörter der beiden Modelle als Histogramm\n",
    "\n",
    "plt.figure(figsize=[10, 8])\n",
    "plt.style.use('seaborn-whitegrid')\n",
    "plt.hist(cosine_df['cosine'])\n",
    "plt.xlabel('Cosinus-Ähnlichkeit')\n",
    "plt.ylabel('Häufigkeit')       \n",
    "plt.xticks(np.arange(0, 1.1, step=0.1))\n",
    "plt.axvline(border, color='k', linestyle='--')\n",
    "plt.text(border-0.035, 7000, 'p',color='k', fontsize=18, fontstyle='italic')\n",
    "plt.legend\n",
    "plt.savefig('../plots/VerteilungCosinusÄhnlichkeit_Shuffled_mitP.png', bbox_inches='tight')\n",
    "plt.show()"
   ]
  },
  {
   "cell_type": "markdown",
   "metadata": {},
   "source": [
    "### Ergebnis"
   ]
  },
  {
   "cell_type": "markdown",
   "metadata": {},
   "source": [
    "Wie erwartet ist Cosinus-Ähnlichkeit zwischen den Vektoren der geshuffelten Modellen jeweils höher als zwischen dem Before- und After-Covid-Modell. <br>\n",
    "Der Test bestätigt nochmal die Hypothese. <br>\n",
    "Außerdem sind diesmal alle Werte überhalb des 5%-Quantils."
   ]
  },
  {
   "cell_type": "code",
   "execution_count": 52,
   "metadata": {},
   "outputs": [
    {
     "data": {
      "text/plain": [
       "False"
      ]
     },
     "execution_count": 52,
     "metadata": {},
     "output_type": "execute_result"
    }
   ],
   "source": [
    "cosine_abstandsregel < border"
   ]
  },
  {
   "cell_type": "code",
   "execution_count": 53,
   "metadata": {},
   "outputs": [
    {
     "data": {
      "text/plain": [
       "False"
      ]
     },
     "execution_count": 53,
     "metadata": {},
     "output_type": "execute_result"
    }
   ],
   "source": [
    "cosine_querdenker < border"
   ]
  },
  {
   "cell_type": "code",
   "execution_count": 54,
   "metadata": {},
   "outputs": [
    {
     "data": {
      "text/plain": [
       "False"
      ]
     },
     "execution_count": 54,
     "metadata": {},
     "output_type": "execute_result"
    }
   ],
   "source": [
    "cosine_maske < border"
   ]
  },
  {
   "cell_type": "code",
   "execution_count": 55,
   "metadata": {},
   "outputs": [
    {
     "data": {
      "text/plain": [
       "False"
      ]
     },
     "execution_count": 55,
     "metadata": {},
     "output_type": "execute_result"
    }
   ],
   "source": [
    "cosine_corona < border"
   ]
  },
  {
   "cell_type": "code",
   "execution_count": 56,
   "metadata": {},
   "outputs": [
    {
     "data": {
      "text/plain": [
       "False"
      ]
     },
     "execution_count": 56,
     "metadata": {},
     "output_type": "execute_result"
    }
   ],
   "source": [
    "cosine_kontaktverbot < border"
   ]
  }
 ],
 "metadata": {
  "accelerator": "GPU",
  "colab": {
   "collapsed_sections": [],
   "name": "Fasttext Corona.ipynb",
   "provenance": []
  },
  "kernelspec": {
   "display_name": "Python 3",
   "language": "python",
   "name": "python3"
  },
  "language_info": {
   "codemirror_mode": {
    "name": "ipython",
    "version": 3
   },
   "file_extension": ".py",
   "mimetype": "text/x-python",
   "name": "python",
   "nbconvert_exporter": "python",
   "pygments_lexer": "ipython3",
   "version": "3.7.6"
  }
 },
 "nbformat": 4,
 "nbformat_minor": 1
}
