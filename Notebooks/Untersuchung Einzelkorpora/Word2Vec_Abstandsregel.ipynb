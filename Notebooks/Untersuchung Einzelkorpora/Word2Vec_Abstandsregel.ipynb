{
 "cells": [
  {
   "cell_type": "markdown",
   "metadata": {
    "id": "Oq24UvixibZR"
   },
   "source": [
    "# 'Abstandsregel' vor und nach Covid-19 - eine Untersuchung mit Word2Vec"
   ]
  },
  {
   "cell_type": "markdown",
   "metadata": {},
   "source": [
    "#### Bedeutung des Lemmas 'Abstandsregel'\n",
    "\n",
    "Festlegung bzw. juristisch relevante Vorgabe einer einzuhaltenden Distanz zu etw., zu jmdm. bzw. zwischen bestimmten Objekten <br>\n",
    "a) [Gesundheitswesen] Hygienemaßnahme, Vorschrift über einen einzuhaltenden Sicherheitsabstand zur Vermeidung einer Übertragung von Krankheitserregern <br>\n",
    "b) [Verkehrswesen] den einzuhaltenden Sicherheitsabstand zwischen Verkehrsteilnehmern festlegende Vorgabe der gesetzlichen Bestimmungen über das Verhalten im Straßenverkehr <br>\n",
    "(Quelle: https://www.dwds.de/wb/Abstandsregel) <br>\n",
    "<br>\n",
    " \n",
    "\n",
    "#### Hypothese\n",
    "\n",
    "Durch die Pandemie und die daraus entstandenen Vorschriften zur Einhaltung eines Mindestabstands wird das Lemma populärer und die Bedeutung verschiebt sich von b) nach a). "
   ]
  },
  {
   "cell_type": "markdown",
   "metadata": {
    "id": "5FQnxIrfibZf"
   },
   "source": [
    "## Importe und Datenvorbereitung"
   ]
  },
  {
   "cell_type": "code",
   "execution_count": 1,
   "metadata": {
    "colab": {
     "base_uri": "https://localhost:8080/"
    },
    "id": "YIZS463EibZh",
    "outputId": "d8d8fe3f-70be-4322-a081-ba1b02ef7f2f"
   },
   "outputs": [],
   "source": [
    "import codecs\n",
    "import matplotlib.pyplot as plt\n",
    "import nltk\n",
    "import numpy as np\n",
    "import os\n",
    "import pandas as pd\n",
    "import re\n",
    "import scipy\n",
    "import seaborn as sns\n",
    "import spacy\n",
    "import statistics \n",
    "\n",
    "from gensim.models import KeyedVectors\n",
    "from gensim.models import Word2Vec\n",
    "from gensim.models.phrases import Phraser, Phrases\n",
    "from joblib import Parallel, delayed  \n",
    "from nltk.corpus import stopwords\n",
    "from scipy import spatial\n",
    "from sklearn.manifold import TSNE\n",
    "from tabulate import tabulate"
   ]
  },
  {
   "cell_type": "code",
   "execution_count": 2,
   "metadata": {
    "colab": {
     "base_uri": "https://localhost:8080/"
    },
    "id": "Bjlyp7Bjiu60",
    "outputId": "83b51d0b-4222-48c0-ecb3-a6a2d926c0ae"
   },
   "outputs": [],
   "source": [
    "nlp = spacy.load('de_core_news_md')\n",
    "stopwords = stopwords.words('german')\n",
    "tokenizer = nltk.data.load('tokenizers/punkt/german.pickle')"
   ]
  },
  {
   "cell_type": "markdown",
   "metadata": {},
   "source": [
    "#### Korpus laden und teilen"
   ]
  },
  {
   "cell_type": "code",
   "execution_count": 4,
   "metadata": {
    "colab": {
     "base_uri": "https://localhost:8080/",
     "height": 319
    },
    "id": "QaI8RPMJibZj",
    "outputId": "7a4e7af2-20e5-4048-a2b1-341f8c0a8568"
   },
   "outputs": [
    {
     "data": {
      "text/html": [
       "<div>\n",
       "<style scoped>\n",
       "    .dataframe tbody tr th:only-of-type {\n",
       "        vertical-align: middle;\n",
       "    }\n",
       "\n",
       "    .dataframe tbody tr th {\n",
       "        vertical-align: top;\n",
       "    }\n",
       "\n",
       "    .dataframe thead th {\n",
       "        text-align: right;\n",
       "    }\n",
       "</style>\n",
       "<table border=\"1\" class=\"dataframe\">\n",
       "  <thead>\n",
       "    <tr style=\"text-align: right;\">\n",
       "      <th></th>\n",
       "      <th>Corpus</th>\n",
       "      <th>Date</th>\n",
       "      <th>Genre</th>\n",
       "      <th>Bibl</th>\n",
       "      <th>ContextBefore</th>\n",
       "      <th>Hit</th>\n",
       "      <th>ContextAfter</th>\n",
       "    </tr>\n",
       "  </thead>\n",
       "  <tbody>\n",
       "    <tr>\n",
       "      <th>0</th>\n",
       "      <td>fr_regional</td>\n",
       "      <td>1995-02-20</td>\n",
       "      <td>Zeitung</td>\n",
       "      <td>Frankfurter Rundschau, 20.02.1995</td>\n",
       "      <td>[...]aess geoeffnet werden\", bilanzierte das A...</td>\n",
       "      <td>Selbst an die sogenannte \"Abstandsregel\" halte...</td>\n",
       "      <td>Sie untersagt Wahlwerbung auf den letzten zehn...</td>\n",
       "    </tr>\n",
       "    <tr>\n",
       "      <th>1</th>\n",
       "      <td>saar_regional</td>\n",
       "      <td>1996-07-09</td>\n",
       "      <td>Zeitung</td>\n",
       "      <td>Saarbrücker Zeitung, 09.07.1996</td>\n",
       "      <td>[...]t der schwarzen Aufschrift.</td>\n",
       "      <td>\"Leider halten sich viele nicht an die Abstand...</td>\n",
       "      <td>Die beiden Beamten arbeiten[...]</td>\n",
       "    </tr>\n",
       "    <tr>\n",
       "      <th>2</th>\n",
       "      <td>saar_regional</td>\n",
       "      <td>1996-07-09</td>\n",
       "      <td>Zeitung</td>\n",
       "      <td>Saarbrücker Zeitung, 09.07.1996</td>\n",
       "      <td>NaN</td>\n",
       "      <td>Abstandsregeln Abstandsmessungen erfolgen auf ...</td>\n",
       "      <td>Abstandsregeln Abstandsmessungen erfolgen auf ...</td>\n",
       "    </tr>\n",
       "    <tr>\n",
       "      <th>3</th>\n",
       "      <td>saar_regional</td>\n",
       "      <td>1996-07-09</td>\n",
       "      <td>Zeitung</td>\n",
       "      <td>Saarbrücker Zeitung, 09.07.1996</td>\n",
       "      <td>[...]standsmessungen erfolgen auf der Grundlag...</td>\n",
       "      <td>Abstandsregeln Abstandsmessungen erfolgen auf ...</td>\n",
       "      <td>Der Abstand richtet sich nach Örtlichkeit, Str...</td>\n",
       "    </tr>\n",
       "    <tr>\n",
       "      <th>4</th>\n",
       "      <td>saar_regional</td>\n",
       "      <td>1996-07-12</td>\n",
       "      <td>Zeitung</td>\n",
       "      <td>Saarbrücker Zeitung, 12.07.1996</td>\n",
       "      <td>[...]t der schwarzen Aufschrift.</td>\n",
       "      <td>\"Leider halten sich viele nicht an die Abstand...</td>\n",
       "      <td>Die beiden Beamten arbeiten[...]</td>\n",
       "    </tr>\n",
       "  </tbody>\n",
       "</table>\n",
       "</div>"
      ],
      "text/plain": [
       "          Corpus        Date    Genre                               Bibl  \\\n",
       "0    fr_regional  1995-02-20  Zeitung  Frankfurter Rundschau, 20.02.1995   \n",
       "1  saar_regional  1996-07-09  Zeitung    Saarbrücker Zeitung, 09.07.1996   \n",
       "2  saar_regional  1996-07-09  Zeitung    Saarbrücker Zeitung, 09.07.1996   \n",
       "3  saar_regional  1996-07-09  Zeitung    Saarbrücker Zeitung, 09.07.1996   \n",
       "4  saar_regional  1996-07-12  Zeitung    Saarbrücker Zeitung, 12.07.1996   \n",
       "\n",
       "                                       ContextBefore  \\\n",
       "0  [...]aess geoeffnet werden\", bilanzierte das A...   \n",
       "1                   [...]t der schwarzen Aufschrift.   \n",
       "2                                                NaN   \n",
       "3  [...]standsmessungen erfolgen auf der Grundlag...   \n",
       "4                   [...]t der schwarzen Aufschrift.   \n",
       "\n",
       "                                                 Hit  \\\n",
       "0  Selbst an die sogenannte \"Abstandsregel\" halte...   \n",
       "1  \"Leider halten sich viele nicht an die Abstand...   \n",
       "2  Abstandsregeln Abstandsmessungen erfolgen auf ...   \n",
       "3  Abstandsregeln Abstandsmessungen erfolgen auf ...   \n",
       "4  \"Leider halten sich viele nicht an die Abstand...   \n",
       "\n",
       "                                        ContextAfter  \n",
       "0  Sie untersagt Wahlwerbung auf den letzten zehn...  \n",
       "1                   Die beiden Beamten arbeiten[...]  \n",
       "2  Abstandsregeln Abstandsmessungen erfolgen auf ...  \n",
       "3  Der Abstand richtet sich nach Örtlichkeit, Str...  \n",
       "4                   Die beiden Beamten arbeiten[...]  "
      ]
     },
     "execution_count": 4,
     "metadata": {},
     "output_type": "execute_result"
    }
   ],
   "source": [
    "# die Datei enthält alle Treffer des Lemmas 'abstandsregel' im ZDL-Regionalkorpus des DWDS \n",
    "# mit jeweils einem Satz Kontext davor und danach\n",
    "\n",
    "df = pd.read_csv('../../data/abstandsregel_1993-2021.csv', sep=',', encoding='utf-8')\n",
    "df.head()"
   ]
  },
  {
   "cell_type": "code",
   "execution_count": 4,
   "metadata": {},
   "outputs": [],
   "source": [
    "# NaN durch Whitespace ersetzen\n",
    "\n",
    "df = df.fillna(' ')"
   ]
  },
  {
   "cell_type": "code",
   "execution_count": 5,
   "metadata": {},
   "outputs": [],
   "source": [
    "# Wörter, die mit [...] anfangen löschen\n",
    "\n",
    "expression = '\\[...]\\w*'\n",
    "df = df.replace(to_replace = expression, value = ' ', regex=True)"
   ]
  },
  {
   "cell_type": "code",
   "execution_count": 6,
   "metadata": {},
   "outputs": [],
   "source": [
    "# bevor die Spalten verbunden werden: Whitespace einfügen, um ein Aneinanderkleben der Wörter zu verhindern\n",
    "\n",
    "df['ContextBefore'] = df['ContextBefore'].astype(str) + ' '\n",
    "df['ContextAfter'] = ' ' + df['ContextAfter'].astype(str) "
   ]
  },
  {
   "cell_type": "code",
   "execution_count": 7,
   "metadata": {},
   "outputs": [
    {
     "data": {
      "text/html": [
       "<div>\n",
       "<style scoped>\n",
       "    .dataframe tbody tr th:only-of-type {\n",
       "        vertical-align: middle;\n",
       "    }\n",
       "\n",
       "    .dataframe tbody tr th {\n",
       "        vertical-align: top;\n",
       "    }\n",
       "\n",
       "    .dataframe thead th {\n",
       "        text-align: right;\n",
       "    }\n",
       "</style>\n",
       "<table border=\"1\" class=\"dataframe\">\n",
       "  <thead>\n",
       "    <tr style=\"text-align: right;\">\n",
       "      <th></th>\n",
       "      <th>Corpus</th>\n",
       "      <th>Date</th>\n",
       "      <th>Genre</th>\n",
       "      <th>Bibl</th>\n",
       "      <th>ContextBefore</th>\n",
       "      <th>Hit</th>\n",
       "      <th>ContextAfter</th>\n",
       "      <th>Text</th>\n",
       "    </tr>\n",
       "  </thead>\n",
       "  <tbody>\n",
       "    <tr>\n",
       "      <th>0</th>\n",
       "      <td>fr_regional</td>\n",
       "      <td>1995-02-20</td>\n",
       "      <td>Zeitung</td>\n",
       "      <td>Frankfurter Rundschau, 20.02.1995</td>\n",
       "      <td>geoeffnet werden\", bilanzierte das Amt.Zwisc...</td>\n",
       "      <td>Selbst an die sogenannte \"Abstandsregel\" halte...</td>\n",
       "      <td>Sie untersagt Wahlwerbung auf den letzten zeh...</td>\n",
       "      <td>geoeffnet werden\", bilanzierte das Amt.Zwisc...</td>\n",
       "    </tr>\n",
       "    <tr>\n",
       "      <th>1</th>\n",
       "      <td>saar_regional</td>\n",
       "      <td>1996-07-09</td>\n",
       "      <td>Zeitung</td>\n",
       "      <td>Saarbrücker Zeitung, 09.07.1996</td>\n",
       "      <td>der schwarzen Aufschrift.</td>\n",
       "      <td>\"Leider halten sich viele nicht an die Abstand...</td>\n",
       "      <td>Die beiden Beamten arbeiten</td>\n",
       "      <td>der schwarzen Aufschrift. \"Leider halten sic...</td>\n",
       "    </tr>\n",
       "    <tr>\n",
       "      <th>2</th>\n",
       "      <td>saar_regional</td>\n",
       "      <td>1996-07-09</td>\n",
       "      <td>Zeitung</td>\n",
       "      <td>Saarbrücker Zeitung, 09.07.1996</td>\n",
       "      <td></td>\n",
       "      <td>Abstandsregeln Abstandsmessungen erfolgen auf ...</td>\n",
       "      <td>Abstandsregeln Abstandsmessungen erfolgen auf...</td>\n",
       "      <td>Abstandsregeln Abstandsmessungen erfolgen au...</td>\n",
       "    </tr>\n",
       "    <tr>\n",
       "      <th>3</th>\n",
       "      <td>saar_regional</td>\n",
       "      <td>1996-07-09</td>\n",
       "      <td>Zeitung</td>\n",
       "      <td>Saarbrücker Zeitung, 09.07.1996</td>\n",
       "      <td>erfolgen auf der Grundlage einer...</td>\n",
       "      <td>Abstandsregeln Abstandsmessungen erfolgen auf ...</td>\n",
       "      <td>Der Abstand richtet sich nach Örtlichkeit, St...</td>\n",
       "      <td>erfolgen auf der Grundlage einer... Abstands...</td>\n",
       "    </tr>\n",
       "    <tr>\n",
       "      <th>4</th>\n",
       "      <td>saar_regional</td>\n",
       "      <td>1996-07-12</td>\n",
       "      <td>Zeitung</td>\n",
       "      <td>Saarbrücker Zeitung, 12.07.1996</td>\n",
       "      <td>der schwarzen Aufschrift.</td>\n",
       "      <td>\"Leider halten sich viele nicht an die Abstand...</td>\n",
       "      <td>Die beiden Beamten arbeiten</td>\n",
       "      <td>der schwarzen Aufschrift. \"Leider halten sic...</td>\n",
       "    </tr>\n",
       "  </tbody>\n",
       "</table>\n",
       "</div>"
      ],
      "text/plain": [
       "          Corpus        Date    Genre                               Bibl  \\\n",
       "0    fr_regional  1995-02-20  Zeitung  Frankfurter Rundschau, 20.02.1995   \n",
       "1  saar_regional  1996-07-09  Zeitung    Saarbrücker Zeitung, 09.07.1996   \n",
       "2  saar_regional  1996-07-09  Zeitung    Saarbrücker Zeitung, 09.07.1996   \n",
       "3  saar_regional  1996-07-09  Zeitung    Saarbrücker Zeitung, 09.07.1996   \n",
       "4  saar_regional  1996-07-12  Zeitung    Saarbrücker Zeitung, 12.07.1996   \n",
       "\n",
       "                                       ContextBefore  \\\n",
       "0    geoeffnet werden\", bilanzierte das Amt.Zwisc...   \n",
       "1                         der schwarzen Aufschrift.    \n",
       "2                                                      \n",
       "3               erfolgen auf der Grundlage einer...    \n",
       "4                         der schwarzen Aufschrift.    \n",
       "\n",
       "                                                 Hit  \\\n",
       "0  Selbst an die sogenannte \"Abstandsregel\" halte...   \n",
       "1  \"Leider halten sich viele nicht an die Abstand...   \n",
       "2  Abstandsregeln Abstandsmessungen erfolgen auf ...   \n",
       "3  Abstandsregeln Abstandsmessungen erfolgen auf ...   \n",
       "4  \"Leider halten sich viele nicht an die Abstand...   \n",
       "\n",
       "                                        ContextAfter  \\\n",
       "0   Sie untersagt Wahlwerbung auf den letzten zeh...   \n",
       "1                       Die beiden Beamten arbeiten    \n",
       "2   Abstandsregeln Abstandsmessungen erfolgen auf...   \n",
       "3   Der Abstand richtet sich nach Örtlichkeit, St...   \n",
       "4                       Die beiden Beamten arbeiten    \n",
       "\n",
       "                                                Text  \n",
       "0    geoeffnet werden\", bilanzierte das Amt.Zwisc...  \n",
       "1    der schwarzen Aufschrift. \"Leider halten sic...  \n",
       "2    Abstandsregeln Abstandsmessungen erfolgen au...  \n",
       "3    erfolgen auf der Grundlage einer... Abstands...  \n",
       "4    der schwarzen Aufschrift. \"Leider halten sic...  "
      ]
     },
     "execution_count": 7,
     "metadata": {},
     "output_type": "execute_result"
    }
   ],
   "source": [
    "# Text zu einer Spalte verbinden\n",
    "\n",
    "columns = ['ContextBefore', 'Hit', 'ContextAfter']\n",
    "\n",
    "df['Text'] = df[columns].astype(str).sum(axis=1)\n",
    "df.head()"
   ]
  },
  {
   "cell_type": "code",
   "execution_count": 8,
   "metadata": {},
   "outputs": [
    {
     "data": {
      "text/plain": [
       "(22794, 8)"
      ]
     },
     "execution_count": 8,
     "metadata": {},
     "output_type": "execute_result"
    }
   ],
   "source": [
    "df.shape"
   ]
  },
  {
   "cell_type": "code",
   "execution_count": 19,
   "metadata": {
    "id": "6uioii_SibZl"
   },
   "outputs": [],
   "source": [
    "# Korpus in 2 Teilkorpora splitten: vor und nach Covid-19 (dem Ausbruch in Deutschland)\n",
    "# hier wurde die Grenze zwischen Januar und Februar 2020 gezogen (es wird sich noch zeigen, inwiefern sich das bewährt)\n",
    "\n",
    "df_before_corona = df.iloc[:405,:]\n",
    "df_after_corona = df.iloc[406:,:]"
   ]
  },
  {
   "cell_type": "code",
   "execution_count": 20,
   "metadata": {},
   "outputs": [
    {
     "data": {
      "text/html": [
       "<div>\n",
       "<style scoped>\n",
       "    .dataframe tbody tr th:only-of-type {\n",
       "        vertical-align: middle;\n",
       "    }\n",
       "\n",
       "    .dataframe tbody tr th {\n",
       "        vertical-align: top;\n",
       "    }\n",
       "\n",
       "    .dataframe thead th {\n",
       "        text-align: right;\n",
       "    }\n",
       "</style>\n",
       "<table border=\"1\" class=\"dataframe\">\n",
       "  <thead>\n",
       "    <tr style=\"text-align: right;\">\n",
       "      <th></th>\n",
       "      <th>Corpus</th>\n",
       "      <th>Date</th>\n",
       "      <th>Genre</th>\n",
       "      <th>Bibl</th>\n",
       "      <th>ContextBefore</th>\n",
       "      <th>Hit</th>\n",
       "      <th>ContextAfter</th>\n",
       "      <th>Text</th>\n",
       "    </tr>\n",
       "  </thead>\n",
       "  <tbody>\n",
       "    <tr>\n",
       "      <th>406</th>\n",
       "      <td>neuw_regional</td>\n",
       "      <td>2020-02-04</td>\n",
       "      <td>Zeitung</td>\n",
       "      <td>Neue Westfälische, 04.02.2020</td>\n",
       "      <td>Borgentreich.</td>\n",
       "      <td>In unserer gestrigen Berichterstattung zum The...</td>\n",
       "      <td>Für die Windvorrangzonen bei Bühne und Manrod...</td>\n",
       "      <td>Borgentreich. In unserer gestrigen Berichterst...</td>\n",
       "    </tr>\n",
       "    <tr>\n",
       "      <th>407</th>\n",
       "      <td>aaz_regional</td>\n",
       "      <td>2020-02-05</td>\n",
       "      <td>Zeitung</td>\n",
       "      <td>Aachener Zeitung, 05.02.2020</td>\n",
       "      <td>\"Es gibt kein verbrieftes Recht auf den freien...</td>\n",
       "      <td>Solange Abstandsregeln beachtet würden, sei da...</td>\n",
       "      <td>Michael Kleine würde dennoch immer zum Kompro...</td>\n",
       "      <td>\"Es gibt kein verbrieftes Recht auf den freien...</td>\n",
       "    </tr>\n",
       "    <tr>\n",
       "      <th>408</th>\n",
       "      <td>sk_regional</td>\n",
       "      <td>2020-02-07</td>\n",
       "      <td>Zeitung</td>\n",
       "      <td>Südkurier, 07.02.2020</td>\n",
       "      <td>in Pfullendorf bundesweit über 550 Spielhall...</td>\n",
       "      <td>Das Gesetz sieht neue Abstandsregeln für Spiel...</td>\n",
       "      <td>Moßbrucker rechnet damit, dass etwa 50 Prozen...</td>\n",
       "      <td>in Pfullendorf bundesweit über 550 Spielhall...</td>\n",
       "    </tr>\n",
       "    <tr>\n",
       "      <th>409</th>\n",
       "      <td>mume_regional</td>\n",
       "      <td>2020-02-08</td>\n",
       "      <td>Zeitung</td>\n",
       "      <td>Münchner Merkur, 08.02.2020</td>\n",
       "      <td>, die diese Regelung nicht haben, sprich mit ...</td>\n",
       "      <td>Die Abstandsregel sei auf Wunsch großer Teile ...</td>\n",
       "      <td>\"Über die Absolutheit von 10H kann man diskut...</td>\n",
       "      <td>, die diese Regelung nicht haben, sprich mit ...</td>\n",
       "    </tr>\n",
       "    <tr>\n",
       "      <th>410</th>\n",
       "      <td>frt_regional</td>\n",
       "      <td>2020-02-08</td>\n",
       "      <td>Zeitung</td>\n",
       "      <td>Fränkischer Tag, 08.02.2020</td>\n",
       "      <td>Gemeinderat Litzendorf will die Erweiterung de...</td>\n",
       "      <td>Knackpunkt könnte die Abstandsregel zu Wohnhäu...</td>\n",
       "      <td>Werner Höchstetter</td>\n",
       "      <td>Gemeinderat Litzendorf will die Erweiterung de...</td>\n",
       "    </tr>\n",
       "  </tbody>\n",
       "</table>\n",
       "</div>"
      ],
      "text/plain": [
       "            Corpus        Date    Genre                           Bibl  \\\n",
       "406  neuw_regional  2020-02-04  Zeitung  Neue Westfälische, 04.02.2020   \n",
       "407   aaz_regional  2020-02-05  Zeitung   Aachener Zeitung, 05.02.2020   \n",
       "408    sk_regional  2020-02-07  Zeitung          Südkurier, 07.02.2020   \n",
       "409  mume_regional  2020-02-08  Zeitung    Münchner Merkur, 08.02.2020   \n",
       "410   frt_regional  2020-02-08  Zeitung    Fränkischer Tag, 08.02.2020   \n",
       "\n",
       "                                         ContextBefore  \\\n",
       "406                                     Borgentreich.    \n",
       "407  \"Es gibt kein verbrieftes Recht auf den freien...   \n",
       "408    in Pfullendorf bundesweit über 550 Spielhall...   \n",
       "409   , die diese Regelung nicht haben, sprich mit ...   \n",
       "410  Gemeinderat Litzendorf will die Erweiterung de...   \n",
       "\n",
       "                                                   Hit  \\\n",
       "406  In unserer gestrigen Berichterstattung zum The...   \n",
       "407  Solange Abstandsregeln beachtet würden, sei da...   \n",
       "408  Das Gesetz sieht neue Abstandsregeln für Spiel...   \n",
       "409  Die Abstandsregel sei auf Wunsch großer Teile ...   \n",
       "410  Knackpunkt könnte die Abstandsregel zu Wohnhäu...   \n",
       "\n",
       "                                          ContextAfter  \\\n",
       "406   Für die Windvorrangzonen bei Bühne und Manrod...   \n",
       "407   Michael Kleine würde dennoch immer zum Kompro...   \n",
       "408   Moßbrucker rechnet damit, dass etwa 50 Prozen...   \n",
       "409   \"Über die Absolutheit von 10H kann man diskut...   \n",
       "410                                 Werner Höchstetter   \n",
       "\n",
       "                                                  Text  \n",
       "406  Borgentreich. In unserer gestrigen Berichterst...  \n",
       "407  \"Es gibt kein verbrieftes Recht auf den freien...  \n",
       "408    in Pfullendorf bundesweit über 550 Spielhall...  \n",
       "409   , die diese Regelung nicht haben, sprich mit ...  \n",
       "410  Gemeinderat Litzendorf will die Erweiterung de...  "
      ]
     },
     "execution_count": 20,
     "metadata": {},
     "output_type": "execute_result"
    }
   ],
   "source": [
    "df_after_corona.head()"
   ]
  },
  {
   "cell_type": "markdown",
   "metadata": {},
   "source": [
    "#### Hilfsfunktionen zur Vorbereitung der Texte"
   ]
  },
  {
   "cell_type": "code",
   "execution_count": 21,
   "metadata": {},
   "outputs": [],
   "source": [
    "def lemmatize_text_column(df, column):\n",
    "    \"\"\"\n",
    "    transforms the Dataframe-column in a lemmatized string\n",
    "    \"\"\"\n",
    "    text = ''\n",
    "    for i in df[column]:\n",
    "        doc = nlp(i)\n",
    "        lemmas = ' '.join([x.lemma_ for x in doc])\n",
    "        text = text + lemmas\n",
    "    return text\n",
    "\n",
    "\n",
    "def sentence_to_wordlist(raw:str):\n",
    "    \"\"\"\n",
    "    cleans and tokenizes the sentences\n",
    "    \"\"\"\n",
    "    text = re.sub('[^A-Za-z_äÄöÖüÜß]',' ', raw).split()\n",
    "    filtered_text = [word for word in text if word not in stopwords]\n",
    "    return filtered_text\n",
    "\n",
    "\n",
    "def prepare_text(raw_text):\n",
    "    \"\"\"\n",
    "    returns a list of tokenized sentences\n",
    "    \"\"\"\n",
    "    raw_sentences = tokenizer.tokenize(str(raw_text).lower())    \n",
    "    tokenized_sentences = Parallel(n_jobs=-1)(delayed(sentence_to_wordlist)(raw_sentence) for raw_sentence in raw_sentences)\n",
    "    phrases = Phrases(tokenized_sentences)\n",
    "    bigram = Phraser(phrases)\n",
    "    sentences = list(bigram[tokenized_sentences])\n",
    "    return sentences"
   ]
  },
  {
   "cell_type": "markdown",
   "metadata": {},
   "source": [
    "#### Vorbereitung des ersten Texts (vor Covid-19)"
   ]
  },
  {
   "cell_type": "code",
   "execution_count": 22,
   "metadata": {
    "id": "uVMUJzlpibZo",
    "outputId": "d9d2a45d-3e51-41e2-83a8-decaed115ab4"
   },
   "outputs": [
    {
     "name": "stdout",
     "output_type": "stream",
     "text": [
      "['hoz', 'weihnachtsparkverbotjetzt', 'solch', 'bundesebene', 'regeln']\n"
     ]
    }
   ],
   "source": [
    "text = lemmatize_text_column(df_before_corona, 'Text')\n",
    "sentences = prepare_text(text)\n",
    "\n",
    "# sentences ist eine Liste von tokenisierten Sätzen, zum Beispiel:\n",
    "print(sentences[15])"
   ]
  },
  {
   "cell_type": "markdown",
   "metadata": {},
   "source": [
    "#### Vorbereitung des zweiten Texts (nach Covid-19)"
   ]
  },
  {
   "cell_type": "code",
   "execution_count": 23,
   "metadata": {},
   "outputs": [
    {
     "name": "stdout",
     "output_type": "stream",
     "text": [
      "['sollen', 'dringend', 'notwendigkeit', 'benutzen']\n"
     ]
    }
   ],
   "source": [
    "text2 = lemmatize_text_column(df_after_corona, 'Text')\n",
    "sentences2 = prepare_text(text2)\n",
    "\n",
    "print(sentences2[100])"
   ]
  },
  {
   "cell_type": "markdown",
   "metadata": {},
   "source": [
    "## Training von Word2Vec auf den Text vor Covid-19"
   ]
  },
  {
   "cell_type": "code",
   "execution_count": 25,
   "metadata": {
    "id": "HI1V5EARibZo"
   },
   "outputs": [],
   "source": [
    "# Paramter setzen\n",
    "workers = 4                      # Use these many worker threads to train the model (=faster training with multicore machines)\n",
    "seed = 42                        # Seed for the random number generator"
   ]
  },
  {
   "cell_type": "code",
   "execution_count": 26,
   "metadata": {
    "id": "gWLaiZ5cibZq"
   },
   "outputs": [],
   "source": [
    "# Ordner anlegen zum Abspeichern von trainierten Modellen\n",
    "if not os.path.exists('../../trained_models'):\n",
    "    os.makedirs('../../trained_models')"
   ]
  },
  {
   "cell_type": "code",
   "execution_count": 27,
   "metadata": {
    "id": "kpbrlbf0ibZq",
    "outputId": "1f537e5c-add4-40c4-8b31-49c6f8869309"
   },
   "outputs": [],
   "source": [
    "# Training\n",
    "\n",
    "w2v_bc = Word2Vec(sentences=sentences,                   \n",
    "                 vector_size=300,          # Dimensionality of the word vectors\n",
    "                 window=10,                # The maximum distance between the current and predicted word within a sentence\n",
    "                 min_count=3,              # (int, optional) – The model ignores all words with total frequency lower than this\n",
    "                 workers=workers, \n",
    "                 min_alpha=0.0001,         # Learning rate will linearly drop to min_alpha as training progresses\n",
    "                 sg=1,                     # Training algorithm: skip-gram if sg=1, otherwise CBOW\n",
    "                 seed=seed)"
   ]
  },
  {
   "cell_type": "markdown",
   "metadata": {
    "id": "EH8M_UkAibZr"
   },
   "source": [
    "## Training von Word2Vec auf den Text nach Covid-19"
   ]
  },
  {
   "cell_type": "code",
   "execution_count": 28,
   "metadata": {
    "id": "Gfy3LgWyibZt",
    "outputId": "0962a7be-cecd-4c1f-a1e0-ba52aff1fdc1"
   },
   "outputs": [],
   "source": [
    "w2v_ac = Word2Vec(sentences=sentences2,                   \n",
    "                 vector_size=300,                \n",
    "                 window=10,              \n",
    "                 min_count=3,             \n",
    "                 workers=workers, \n",
    "                 min_alpha=0.0001,                                                    \n",
    "                 sg=1,                     \n",
    "                 seed=seed)"
   ]
  },
  {
   "cell_type": "code",
   "execution_count": 29,
   "metadata": {},
   "outputs": [],
   "source": [
    "# trainierte Modelle speichern\n",
    "w2v_bc.save(os.path.join('../../trained_models', 'w2v_bc_abstandsregel.model'))\n",
    "w2v_ac.save(os.path.join('../../trained_models', 'w2v_ac_abstandsregel.model'))"
   ]
  },
  {
   "cell_type": "markdown",
   "metadata": {},
   "source": [
    "## Exploration und Vergleich der Embeddings"
   ]
  },
  {
   "cell_type": "code",
   "execution_count": 6,
   "metadata": {},
   "outputs": [],
   "source": [
    "# trainierte Modelle laden\n",
    "w2v_bc = Word2Vec.load(os.path.join('../../trained_models', 'w2v_bc_abstandsregel.model'))\n",
    "w2v_ac = Word2Vec.load(os.path.join('../../trained_models', 'w2v_ac_abstandsregel.model'))"
   ]
  },
  {
   "cell_type": "code",
   "execution_count": 7,
   "metadata": {
    "id": "okTISay5ibZv",
    "outputId": "8f2fe288-c8ba-4abc-881f-a2ed7c6e69f8"
   },
   "outputs": [
    {
     "data": {
      "text/plain": [
       "[('abstandsregeln', 0.9995710849761963),\n",
       " ('windkraftanlagen', 0.9993250370025635),\n",
       " ('jahr', 0.9992865324020386),\n",
       " ('weit', 0.9992807507514954),\n",
       " ('sollen', 0.9991781115531921),\n",
       " ('regel', 0.9991607666015625),\n",
       " ('anlage', 0.9991594552993774),\n",
       " ('neue', 0.9991584420204163),\n",
       " ('neu', 0.9991494417190552),\n",
       " ('neu_abstandsregeln', 0.9991443157196045),\n",
       " ('spielhallen', 0.9991360306739807),\n",
       " ('csu', 0.9991241693496704),\n",
       " ('alt', 0.9991123080253601),\n",
       " ('streng', 0.999075710773468),\n",
       " ('gelten', 0.9990652203559875),\n",
       " ('standort', 0.9990517497062683),\n",
       " ('land', 0.999036967754364),\n",
       " ('zwei', 0.9990256428718567),\n",
       " ('ab', 0.9990226030349731),\n",
       " ('windräder', 0.999014139175415),\n",
       " ('müssen', 0.9990114569664001),\n",
       " ('meter', 0.9990014433860779),\n",
       " ('mehr', 0.9989990592002869),\n",
       " ('kaum', 0.9989880919456482),\n",
       " ('energiewende', 0.9989877343177795)]"
      ]
     },
     "execution_count": 7,
     "metadata": {},
     "output_type": "execute_result"
    }
   ],
   "source": [
    "# ähnliche Wörter zu 'querdenker' vor Covid-19\n",
    "w2v_bc.wv.most_similar(positive=['abstandsregel'], topn=25)"
   ]
  },
  {
   "cell_type": "code",
   "execution_count": 32,
   "metadata": {
    "id": "twofLe79ibZw",
    "outputId": "baea5bc0-fcdb-4e83-c22c-37853c505e65"
   },
   "outputs": [
    {
     "data": {
      "text/plain": [
       "[('abstandsregel_meter', 0.772394061088562),\n",
       " ('regel', 0.7514543533325195),\n",
       " ('mindestabstand', 0.7507188320159912),\n",
       " ('abstandsregeln', 0.7445181608200073),\n",
       " ('abstand', 0.7403932213783264),\n",
       " ('zusätzlich', 0.7228553891181946),\n",
       " ('abstandsregel_eineinhalb', 0.7210496068000793),\n",
       " ('abstandsregel_mindestens', 0.7122260332107544),\n",
       " ('körperkontakt', 0.7095844149589539),\n",
       " ('sowohl', 0.7088636159896851),\n",
       " ('fahrgast', 0.7077032923698425),\n",
       " ('geschlossen_raum', 0.701336145401001),\n",
       " ('gebot', 0.6995812654495239),\n",
       " ('foyer', 0.6975014209747314),\n",
       " ('eingangsbereich', 0.6942217350006104),\n",
       " ('fahrt', 0.6932274103164673),\n",
       " ('sicherheitsabstand', 0.6890569925308228),\n",
       " ('meter', 0.6873124837875366),\n",
       " ('risiko', 0.6858959197998047),\n",
       " ('verzicht', 0.6855508089065552),\n",
       " ('beim_verlassen', 0.6855162978172302),\n",
       " ('zahlreiche', 0.6843019723892212),\n",
       " ('einerseits', 0.683091938495636),\n",
       " ('unterschiedlich_haushalt', 0.682589054107666),\n",
       " ('verbot', 0.6822670102119446)]"
      ]
     },
     "execution_count": 32,
     "metadata": {},
     "output_type": "execute_result"
    }
   ],
   "source": [
    "# ähnliche Wörter zu 'querdenker' nach Covid-19\n",
    "w2v_ac.wv.most_similar(positive=['abstandsregel'], topn=25)"
   ]
  },
  {
   "cell_type": "code",
   "execution_count": 33,
   "metadata": {},
   "outputs": [
    {
     "data": {
      "text/plain": [
       "[('niemand', 0.9606191515922546),\n",
       " ('vorbildlich', 0.9564299583435059),\n",
       " ('jemand', 0.949895441532135),\n",
       " ('demonstrant', 0.938120424747467),\n",
       " ('eher', 0.9317079186439514),\n",
       " ('feststellen', 0.926060140132904),\n",
       " ('verhalten', 0.9258441925048828),\n",
       " ('verständnis', 0.9258394837379456),\n",
       " ('supermarkt', 0.9255701899528503),\n",
       " ('wirklich', 0.9246327877044678)]"
      ]
     },
     "execution_count": 33,
     "metadata": {},
     "output_type": "execute_result"
    }
   ],
   "source": [
    "w2v_ac.wv.most_similar(positive=['virus'], topn=10)"
   ]
  },
  {
   "cell_type": "markdown",
   "metadata": {},
   "source": [
    "## Ausrichtung der beiden Embedding-Modelle"
   ]
  },
  {
   "cell_type": "code",
   "execution_count": 34,
   "metadata": {},
   "outputs": [],
   "source": [
    "# Quelle: https://gist.github.com/zhicongchen/9e23d5c3f1e5b1293b16133485cd17d8\n",
    "\n",
    "def smart_procrustes_align_gensim(base_embed, other_embed, words=None):\n",
    "    \"\"\"\n",
    "    Original script: https://gist.github.com/quadrismegistus/09a93e219a6ffc4f216fb85235535faf\n",
    "    Updatet script: https://gist.github.com/zhicongchen/9e23d5c3f1e5b1293b16133485cd17d8\n",
    "    Procrustes align two gensim models (to allow for comparison between same word across models).\n",
    "    Code ported from HistWords <https://github.com/williamleif/histwords> by William Hamilton <wleif@stanford.edu>.\n",
    "        \n",
    "    First, intersect the vocabularies (see `intersection_align_gensim` documentation).\n",
    "    Then do the alignment on the other_embed model.\n",
    "    Replace the other_embed model's syn0 and syn0norm numpy matrices with the aligned version.\n",
    "    Return other_embed.\n",
    "\n",
    "    If `words` is set, intersect the two models' vocabulary with the vocabulary in words (see `intersection_align_gensim` documentation).\n",
    "    \"\"\"\n",
    "\n",
    "    # patch by Richard So [https://twitter.com/richardjeanso) (thanks!) to update this code for new version of gensim\n",
    "    # base_embed.init_sims(replace=True)\n",
    "    # other_embed.init_sims(replace=True)\n",
    "\n",
    "    # make sure vocabulary and indices are aligned\n",
    "    in_base_embed, in_other_embed = intersection_align_gensim(base_embed, other_embed, words=words)\n",
    "    \n",
    "    # re-filling the normed vectors\n",
    "    in_base_embed.wv.fill_norms(force=True)\n",
    "    in_other_embed.wv.fill_norms(force=True)\n",
    "\n",
    "    # get the (normalized) embedding matrices\n",
    "    base_vecs = in_base_embed.wv.get_normed_vectors()\n",
    "    other_vecs = in_other_embed.wv.get_normed_vectors()\n",
    "\n",
    "    # just a matrix dot product with numpy\n",
    "    m = other_vecs.T.dot(base_vecs) \n",
    "    # SVD method from numpy\n",
    "    u, _, v = np.linalg.svd(m)\n",
    "    # another matrix operation\n",
    "    ortho = u.dot(v) \n",
    "    # Replace original array with modified one, i.e. multiplying the embedding matrix by \"ortho\"\n",
    "    other_embed.wv.vectors = (other_embed.wv.vectors).dot(ortho)    \n",
    "    \n",
    "    return other_embed\n",
    "\n",
    "def intersection_align_gensim(m1, m2, words=None):\n",
    "    \"\"\"\n",
    "    Intersect two gensim models, m1 and m2.\n",
    "    Only the shared vocabulary between them is kept.\n",
    "    If 'words' is set (as list or set), then the vocabulary is intersected with this list as well.\n",
    "    Indices are re-organized from 0..N in order of descending frequency (=sum of counts from both m1 and m2).\n",
    "    These indices correspond to the new syn0 and syn0norm objects in both gensim models:\n",
    "        -- so that Row 0 of m1.syn0 will be for the same word as Row 0 of m2.syn0\n",
    "        -- you can find the index of any word on the .index2word list: model.index2word.index(word) => 2\n",
    "    The .vocab dictionary is also updated for each model, preserving the count but updating the index.\n",
    "    \"\"\"\n",
    "\n",
    "    # Get the vocab for each model\n",
    "    vocab_m1 = set(m1.wv.index_to_key)\n",
    "    vocab_m2 = set(m2.wv.index_to_key)\n",
    "\n",
    "    # Find the common vocabulary\n",
    "    common_vocab = vocab_m1 & vocab_m2\n",
    "    if words: common_vocab &= set(words)\n",
    "\n",
    "    # If no alignment necessary because vocab is identical...\n",
    "    if not vocab_m1 - common_vocab and not vocab_m2 - common_vocab:\n",
    "        return (m1,m2)\n",
    "\n",
    "    # Otherwise sort by frequency (summed for both)\n",
    "    common_vocab = list(common_vocab)\n",
    "    common_vocab.sort(key=lambda w: m1.wv.get_vecattr(w, \"count\") + m2.wv.get_vecattr(w, \"count\"), reverse=True)\n",
    "    # print(len(common_vocab))\n",
    "\n",
    "    # Then for each model...\n",
    "    for m in [m1, m2]:\n",
    "        # Replace old syn0norm array with new one (with common vocab)\n",
    "        indices = [m.wv.key_to_index[w] for w in common_vocab]\n",
    "        old_arr = m.wv.vectors\n",
    "        new_arr = np.array([old_arr[index] for index in indices])\n",
    "        m.wv.vectors = new_arr\n",
    "\n",
    "        # Replace old vocab dictionary with new one (with common vocab)\n",
    "        # and old index2word with new one\n",
    "        new_key_to_index = {}\n",
    "        new_index_to_key = []\n",
    "        for new_index, key in enumerate(common_vocab):\n",
    "            new_key_to_index[key] = new_index\n",
    "            new_index_to_key.append(key)\n",
    "        m.wv.key_to_index = new_key_to_index\n",
    "        m.wv.index_to_key = new_index_to_key\n",
    "        \n",
    "        print(len(m.wv.key_to_index), len(m.wv.vectors))\n",
    "        \n",
    "    return (m1,m2)"
   ]
  },
  {
   "cell_type": "code",
   "execution_count": 35,
   "metadata": {},
   "outputs": [
    {
     "name": "stdout",
     "output_type": "stream",
     "text": [
      "515 515\n",
      "515 515\n"
     ]
    }
   ],
   "source": [
    "# Ausrichtung des \"After-Corona-Modells\" an das \"Before-Corona-Modell\"\n",
    "\n",
    "w2v_ac_al = smart_procrustes_align_gensim(w2v_bc, w2v_ac)"
   ]
  },
  {
   "cell_type": "code",
   "execution_count": 36,
   "metadata": {},
   "outputs": [],
   "source": [
    "# speichern\n",
    "w2v_ac_al.save(os.path.join('../../trained_models', 'w2v_ac_al_abstandsregel.model'))"
   ]
  },
  {
   "cell_type": "markdown",
   "metadata": {},
   "source": [
    "## Cosinus-Ähnlichkeit zwischen den Vektoren der beiden Modelle"
   ]
  },
  {
   "cell_type": "code",
   "execution_count": 8,
   "metadata": {},
   "outputs": [],
   "source": [
    "# laden\n",
    "w2v_ac_al = Word2Vec.load(os.path.join('../../trained_models', 'w2v_ac_al_abstandsregel.model'))"
   ]
  },
  {
   "cell_type": "markdown",
   "metadata": {},
   "source": [
    "#### Exploration"
   ]
  },
  {
   "cell_type": "code",
   "execution_count": 9,
   "metadata": {},
   "outputs": [
    {
     "data": {
      "text/plain": [
       "[('regel', 0.7514543533325195),\n",
       " ('mindestabstand', 0.750718891620636),\n",
       " ('abstandsregeln', 0.7445181608200073),\n",
       " ('abstand', 0.7403932213783264),\n",
       " ('meter', 0.6873124837875366),\n",
       " ('boden', 0.6776827573776245),\n",
       " ('generell', 0.6755607724189758),\n",
       " ('lediglich', 0.6753806471824646),\n",
       " ('grundsätzlich', 0.6713965535163879),\n",
       " ('regelung', 0.6655299067497253),\n",
       " ('festgelegt', 0.6641169190406799),\n",
       " ('verringern', 0.661136269569397),\n",
       " ('gesetzlich', 0.6586620807647705),\n",
       " ('beispielsweise', 0.6530029773712158),\n",
       " ('erhöhen', 0.652286946773529),\n",
       " ('entfernen', 0.65088951587677),\n",
       " ('gehören', 0.650300920009613),\n",
       " ('gelingen', 0.6474153995513916),\n",
       " ('hoch', 0.6468162536621094),\n",
       " ('rechtlich', 0.6464312076568604),\n",
       " ('vorgabe', 0.6425298452377319),\n",
       " ('ausnahme', 0.6417384147644043),\n",
       " ('bahn', 0.6413413286209106),\n",
       " ('bestehend', 0.6399807929992676),\n",
       " ('passieren', 0.635582685470581)]"
      ]
     },
     "execution_count": 9,
     "metadata": {},
     "output_type": "execute_result"
    }
   ],
   "source": [
    "# ähnliche Wörter zu 'querdenker' nach Covid-19\n",
    "w2v_ac_al.wv.most_similar(positive=['abstandsregel'], topn=25)"
   ]
  },
  {
   "cell_type": "code",
   "execution_count": 10,
   "metadata": {},
   "outputs": [
    {
     "data": {
      "text/plain": [
       "0.5814823508262634"
      ]
     },
     "execution_count": 10,
     "metadata": {},
     "output_type": "execute_result"
    }
   ],
   "source": [
    "vector_abstandsregel_bc = w2v_bc.wv['abstandsregel']  \n",
    "vector_abstandsregel_ac_al = w2v_ac_al.wv['abstandsregel'] \n",
    "\n",
    "cosine_abstandsregel = 1 - spatial.distance.cosine(vector_abstandsregel_bc, vector_abstandsregel_ac_al)\n",
    "cosine_abstandsregel"
   ]
  },
  {
   "cell_type": "markdown",
   "metadata": {},
   "source": [
    "### durchschnittliche Cosinus-Ähnlichkeit und 5%-Quantil"
   ]
  },
  {
   "cell_type": "markdown",
   "metadata": {},
   "source": [
    "- von allen Wörtern/Vektoren, die in beiden Modellen vorkommen jeweils die Cosinus-Ähnlichkeit berechnen (d.h. zueinander zwischen den Modellen\n",
    "- 5%-Quantil berechnen zur Überprüfung von statistischer Signifikanz\n",
    "- liegt der Wert der Cosinus-Ähnlichkeit (desselben Lemmas zwischen den Modellen) unter dem 5%-Quantil?"
   ]
  },
  {
   "cell_type": "code",
   "execution_count": 13,
   "metadata": {},
   "outputs": [],
   "source": [
    "# alle Wörter, die in beiden Modellen vorkommmen\n",
    "\n",
    "vocab_bc = set(w2v_bc.wv.index_to_key)\n",
    "vocab_ac_al = set(w2v_ac_al.wv.index_to_key)\n",
    "\n",
    "common_vocab = vocab_bc & vocab_ac_al"
   ]
  },
  {
   "cell_type": "code",
   "execution_count": 14,
   "metadata": {},
   "outputs": [
    {
     "data": {
      "text/plain": [
       "515"
      ]
     },
     "execution_count": 14,
     "metadata": {},
     "output_type": "execute_result"
    }
   ],
   "source": [
    "len(common_vocab)"
   ]
  },
  {
   "cell_type": "code",
   "execution_count": 15,
   "metadata": {},
   "outputs": [],
   "source": [
    "# Cosinus-Ähnlichkeit zwischen dem Wort in den beiden Modellen berechnen\n",
    "\n",
    "cosines = {}\n",
    "\n",
    "for word in common_vocab:\n",
    "    vector_bc = w2v_bc.wv[word]  \n",
    "    vector_ac_al = w2v_ac_al.wv[word] \n",
    "    cosine = 1 - spatial.distance.cosine(vector_bc, vector_ac_al)\n",
    "    cosines[word] = cosine"
   ]
  },
  {
   "cell_type": "code",
   "execution_count": 16,
   "metadata": {},
   "outputs": [
    {
     "data": {
      "text/html": [
       "<div>\n",
       "<style scoped>\n",
       "    .dataframe tbody tr th:only-of-type {\n",
       "        vertical-align: middle;\n",
       "    }\n",
       "\n",
       "    .dataframe tbody tr th {\n",
       "        vertical-align: top;\n",
       "    }\n",
       "\n",
       "    .dataframe thead th {\n",
       "        text-align: right;\n",
       "    }\n",
       "</style>\n",
       "<table border=\"1\" class=\"dataframe\">\n",
       "  <thead>\n",
       "    <tr style=\"text-align: right;\">\n",
       "      <th></th>\n",
       "      <th>cosine</th>\n",
       "    </tr>\n",
       "  </thead>\n",
       "  <tbody>\n",
       "    <tr>\n",
       "      <th>bundesländer</th>\n",
       "      <td>0.978400</td>\n",
       "    </tr>\n",
       "    <tr>\n",
       "      <th>staatsregierung</th>\n",
       "      <td>0.974788</td>\n",
       "    </tr>\n",
       "    <tr>\n",
       "      <th>übrigens</th>\n",
       "      <td>0.922042</td>\n",
       "    </tr>\n",
       "    <tr>\n",
       "      <th>müssen</th>\n",
       "      <td>0.632455</td>\n",
       "    </tr>\n",
       "    <tr>\n",
       "      <th>horst</th>\n",
       "      <td>0.970455</td>\n",
       "    </tr>\n",
       "    <tr>\n",
       "      <th>...</th>\n",
       "      <td>...</td>\n",
       "    </tr>\n",
       "    <tr>\n",
       "      <th>energie</th>\n",
       "      <td>0.984278</td>\n",
       "    </tr>\n",
       "    <tr>\n",
       "      <th>bundesländern</th>\n",
       "      <td>0.975233</td>\n",
       "    </tr>\n",
       "    <tr>\n",
       "      <th>verstoß</th>\n",
       "      <td>0.783405</td>\n",
       "    </tr>\n",
       "    <tr>\n",
       "      <th>reagieren</th>\n",
       "      <td>0.949041</td>\n",
       "    </tr>\n",
       "    <tr>\n",
       "      <th>windrad</th>\n",
       "      <td>0.931164</td>\n",
       "    </tr>\n",
       "  </tbody>\n",
       "</table>\n",
       "<p>515 rows × 1 columns</p>\n",
       "</div>"
      ],
      "text/plain": [
       "                   cosine\n",
       "bundesländer     0.978400\n",
       "staatsregierung  0.974788\n",
       "übrigens         0.922042\n",
       "müssen           0.632455\n",
       "horst            0.970455\n",
       "...                   ...\n",
       "energie          0.984278\n",
       "bundesländern    0.975233\n",
       "verstoß          0.783405\n",
       "reagieren        0.949041\n",
       "windrad          0.931164\n",
       "\n",
       "[515 rows x 1 columns]"
      ]
     },
     "execution_count": 16,
     "metadata": {},
     "output_type": "execute_result"
    }
   ],
   "source": [
    "cosine_df = pd.DataFrame.from_dict(cosines, orient='index', columns=['cosine'])\n",
    "cosine_df"
   ]
  },
  {
   "cell_type": "code",
   "execution_count": 17,
   "metadata": {},
   "outputs": [
    {
     "data": {
      "text/plain": [
       "0.8761961601891564"
      ]
     },
     "execution_count": 17,
     "metadata": {},
     "output_type": "execute_result"
    }
   ],
   "source": [
    "# durchschnittliche Cosinus-Ähnlichkeit der Wörter der beiden Modelle \n",
    "\n",
    "statistics.mean(cosine_df['cosine'])"
   ]
  },
  {
   "cell_type": "code",
   "execution_count": 19,
   "metadata": {},
   "outputs": [
    {
     "data": {
      "text/plain": [
       "0.9047220349311829"
      ]
     },
     "execution_count": 19,
     "metadata": {},
     "output_type": "execute_result"
    }
   ],
   "source": [
    "# Median\n",
    "\n",
    "statistics.median(cosine_df['cosine'])"
   ]
  },
  {
   "cell_type": "code",
   "execution_count": 20,
   "metadata": {},
   "outputs": [
    {
     "data": {
      "text/plain": [
       "0.10212023796129951"
      ]
     },
     "execution_count": 20,
     "metadata": {},
     "output_type": "execute_result"
    }
   ],
   "source": [
    "# Standardabweichung\n",
    "\n",
    "statistics.stdev(cosine_df['cosine'])"
   ]
  },
  {
   "cell_type": "code",
   "execution_count": 24,
   "metadata": {},
   "outputs": [
    {
     "data": {
      "image/png": "[encoded data removed]",
      "text/plain": [
       "<Figure size 576x432 with 1 Axes>"
      ]
     },
     "metadata": {},
     "output_type": "display_data"
    }
   ],
   "source": [
    "# Verteilung der Cosinus-Ähnlichkeit der Wörter der beiden Modelle als Histogramm\n",
    "\n",
    "plt.figure(figsize=[8, 6])\n",
    "plt.style.use('fivethirtyeight')\n",
    "plt.hist(cosine_df['cosine'])\n",
    "plt.xlabel('Wert (Cosinus-Ähnlichkeit)')\n",
    "plt.ylabel('Häufigkeit')\n",
    "plt.show()"
   ]
  },
  {
   "cell_type": "code",
   "execution_count": 32,
   "metadata": {},
   "outputs": [
    {
     "data": {
      "text/plain": [
       "0.652020287513733"
      ]
     },
     "execution_count": 32,
     "metadata": {},
     "output_type": "execute_result"
    }
   ],
   "source": [
    "# 5%-Quantil\n",
    "\n",
    "border = np.quantile(cosine_df['cosine'], 0.05)\n",
    "border"
   ]
  },
  {
   "cell_type": "markdown",
   "metadata": {},
   "source": [
    "### Ergebnis"
   ]
  },
  {
   "cell_type": "code",
   "execution_count": 33,
   "metadata": {},
   "outputs": [
    {
     "data": {
      "text/plain": [
       "True"
      ]
     },
     "execution_count": 33,
     "metadata": {},
     "output_type": "execute_result"
    }
   ],
   "source": [
    "cosine_abstandsregel < border"
   ]
  },
  {
   "cell_type": "markdown",
   "metadata": {},
   "source": [
    "Die Cosinus-Ähnlichkeit zwischen den beiden Vektoren für 'Abstandsregel' liegt unterhalb des 5%-Quantils. <br>\n",
    "Die Hypothese kann als verifiziert gelten. "
   ]
  }
 ],
 "metadata": {
  "accelerator": "GPU",
  "colab": {
   "collapsed_sections": [],
   "name": "Fasttext Corona.ipynb",
   "provenance": []
  },
  "kernelspec": {
   "display_name": "Python 3 (ipykernel)",
   "language": "python",
   "name": "python3"
  },
  "language_info": {
   "codemirror_mode": {
    "name": "ipython",
    "version": 3
   },
   "file_extension": ".py",
   "mimetype": "text/x-python",
   "name": "python",
   "nbconvert_exporter": "python",
   "pygments_lexer": "ipython3",
   "version": "3.7.11"
  }
 },
 "nbformat": 4,
 "nbformat_minor": 1
}
